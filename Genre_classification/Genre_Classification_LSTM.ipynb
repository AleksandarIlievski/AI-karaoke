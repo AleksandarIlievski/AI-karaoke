{
  "nbformat": 4,
  "nbformat_minor": 0,
  "metadata": {
    "colab": {
      "provenance": [],
      "collapsed_sections": [
        "2BlrFG-LSjmO",
        "we81ZRwxSw_n"
      ]
    },
    "kernelspec": {
      "name": "python3",
      "display_name": "Python 3"
    },
    "language_info": {
      "name": "python"
    },
    "accelerator": "GPU",
    "gpuClass": "standard"
  },
  "cells": [
    {
      "cell_type": "markdown",
      "source": [
        "Source: \n",
        "\n",
        "https://coderzcolumn.com/tutorials/artificial-intelligence/pytorch-lstm-for-text-classification-tasks"
      ],
      "metadata": {
        "id": "COSGTfyVhhzY"
      }
    },
    {
      "cell_type": "markdown",
      "source": [
        "#Kaggle"
      ],
      "metadata": {
        "id": "2BlrFG-LSjmO"
      }
    },
    {
      "cell_type": "code",
      "execution_count": 1,
      "metadata": {
        "colab": {
          "base_uri": "https://localhost:8080/"
        },
        "id": "HFiH9pCBSXnU",
        "outputId": "247cefd8-e047-4ffe-adf1-e7f059f165e7"
      },
      "outputs": [
        {
          "output_type": "stream",
          "name": "stdout",
          "text": [
            "Looking in indexes: https://pypi.org/simple, https://us-python.pkg.dev/colab-wheels/public/simple/\n",
            "Requirement already satisfied: kaggle in /usr/local/lib/python3.8/dist-packages (1.5.12)\n",
            "Requirement already satisfied: certifi in /usr/local/lib/python3.8/dist-packages (from kaggle) (2022.12.7)\n",
            "Requirement already satisfied: tqdm in /usr/local/lib/python3.8/dist-packages (from kaggle) (4.64.1)\n",
            "Requirement already satisfied: six>=1.10 in /usr/local/lib/python3.8/dist-packages (from kaggle) (1.15.0)\n",
            "Requirement already satisfied: requests in /usr/local/lib/python3.8/dist-packages (from kaggle) (2.25.1)\n",
            "Requirement already satisfied: python-dateutil in /usr/local/lib/python3.8/dist-packages (from kaggle) (2.8.2)\n",
            "Requirement already satisfied: urllib3 in /usr/local/lib/python3.8/dist-packages (from kaggle) (1.24.3)\n",
            "Requirement already satisfied: python-slugify in /usr/local/lib/python3.8/dist-packages (from kaggle) (8.0.0)\n",
            "Requirement already satisfied: text-unidecode>=1.3 in /usr/local/lib/python3.8/dist-packages (from python-slugify->kaggle) (1.3)\n",
            "Requirement already satisfied: idna<3,>=2.5 in /usr/local/lib/python3.8/dist-packages (from requests->kaggle) (2.10)\n",
            "Requirement already satisfied: chardet<5,>=3.0.2 in /usr/local/lib/python3.8/dist-packages (from requests->kaggle) (4.0.0)\n"
          ]
        }
      ],
      "source": [
        "!pip install kaggle"
      ]
    },
    {
      "cell_type": "code",
      "source": [
        "# upload JSON file with account info from kaggle\n",
        "from google.colab import files\n",
        "\n",
        "files.upload()"
      ],
      "metadata": {
        "colab": {
          "base_uri": "https://localhost:8080/",
          "height": 86
        },
        "id": "sBvNFP6xSnak",
        "outputId": "f35decbe-0d14-415f-8624-6a07efc86c56"
      },
      "execution_count": 32,
      "outputs": [
        {
          "output_type": "display_data",
          "data": {
            "text/plain": [
              "<IPython.core.display.HTML object>"
            ],
            "text/html": [
              "\n",
              "     <input type=\"file\" id=\"files-cadedf83-c5c1-438d-b528-4ce89cf32659\" name=\"files[]\" multiple disabled\n",
              "        style=\"border:none\" />\n",
              "     <output id=\"result-cadedf83-c5c1-438d-b528-4ce89cf32659\">\n",
              "      Upload widget is only available when the cell has been executed in the\n",
              "      current browser session. Please rerun this cell to enable.\n",
              "      </output>\n",
              "      <script>// Copyright 2017 Google LLC\n",
              "//\n",
              "// Licensed under the Apache License, Version 2.0 (the \"License\");\n",
              "// you may not use this file except in compliance with the License.\n",
              "// You may obtain a copy of the License at\n",
              "//\n",
              "//      http://www.apache.org/licenses/LICENSE-2.0\n",
              "//\n",
              "// Unless required by applicable law or agreed to in writing, software\n",
              "// distributed under the License is distributed on an \"AS IS\" BASIS,\n",
              "// WITHOUT WARRANTIES OR CONDITIONS OF ANY KIND, either express or implied.\n",
              "// See the License for the specific language governing permissions and\n",
              "// limitations under the License.\n",
              "\n",
              "/**\n",
              " * @fileoverview Helpers for google.colab Python module.\n",
              " */\n",
              "(function(scope) {\n",
              "function span(text, styleAttributes = {}) {\n",
              "  const element = document.createElement('span');\n",
              "  element.textContent = text;\n",
              "  for (const key of Object.keys(styleAttributes)) {\n",
              "    element.style[key] = styleAttributes[key];\n",
              "  }\n",
              "  return element;\n",
              "}\n",
              "\n",
              "// Max number of bytes which will be uploaded at a time.\n",
              "const MAX_PAYLOAD_SIZE = 100 * 1024;\n",
              "\n",
              "function _uploadFiles(inputId, outputId) {\n",
              "  const steps = uploadFilesStep(inputId, outputId);\n",
              "  const outputElement = document.getElementById(outputId);\n",
              "  // Cache steps on the outputElement to make it available for the next call\n",
              "  // to uploadFilesContinue from Python.\n",
              "  outputElement.steps = steps;\n",
              "\n",
              "  return _uploadFilesContinue(outputId);\n",
              "}\n",
              "\n",
              "// This is roughly an async generator (not supported in the browser yet),\n",
              "// where there are multiple asynchronous steps and the Python side is going\n",
              "// to poll for completion of each step.\n",
              "// This uses a Promise to block the python side on completion of each step,\n",
              "// then passes the result of the previous step as the input to the next step.\n",
              "function _uploadFilesContinue(outputId) {\n",
              "  const outputElement = document.getElementById(outputId);\n",
              "  const steps = outputElement.steps;\n",
              "\n",
              "  const next = steps.next(outputElement.lastPromiseValue);\n",
              "  return Promise.resolve(next.value.promise).then((value) => {\n",
              "    // Cache the last promise value to make it available to the next\n",
              "    // step of the generator.\n",
              "    outputElement.lastPromiseValue = value;\n",
              "    return next.value.response;\n",
              "  });\n",
              "}\n",
              "\n",
              "/**\n",
              " * Generator function which is called between each async step of the upload\n",
              " * process.\n",
              " * @param {string} inputId Element ID of the input file picker element.\n",
              " * @param {string} outputId Element ID of the output display.\n",
              " * @return {!Iterable<!Object>} Iterable of next steps.\n",
              " */\n",
              "function* uploadFilesStep(inputId, outputId) {\n",
              "  const inputElement = document.getElementById(inputId);\n",
              "  inputElement.disabled = false;\n",
              "\n",
              "  const outputElement = document.getElementById(outputId);\n",
              "  outputElement.innerHTML = '';\n",
              "\n",
              "  const pickedPromise = new Promise((resolve) => {\n",
              "    inputElement.addEventListener('change', (e) => {\n",
              "      resolve(e.target.files);\n",
              "    });\n",
              "  });\n",
              "\n",
              "  const cancel = document.createElement('button');\n",
              "  inputElement.parentElement.appendChild(cancel);\n",
              "  cancel.textContent = 'Cancel upload';\n",
              "  const cancelPromise = new Promise((resolve) => {\n",
              "    cancel.onclick = () => {\n",
              "      resolve(null);\n",
              "    };\n",
              "  });\n",
              "\n",
              "  // Wait for the user to pick the files.\n",
              "  const files = yield {\n",
              "    promise: Promise.race([pickedPromise, cancelPromise]),\n",
              "    response: {\n",
              "      action: 'starting',\n",
              "    }\n",
              "  };\n",
              "\n",
              "  cancel.remove();\n",
              "\n",
              "  // Disable the input element since further picks are not allowed.\n",
              "  inputElement.disabled = true;\n",
              "\n",
              "  if (!files) {\n",
              "    return {\n",
              "      response: {\n",
              "        action: 'complete',\n",
              "      }\n",
              "    };\n",
              "  }\n",
              "\n",
              "  for (const file of files) {\n",
              "    const li = document.createElement('li');\n",
              "    li.append(span(file.name, {fontWeight: 'bold'}));\n",
              "    li.append(span(\n",
              "        `(${file.type || 'n/a'}) - ${file.size} bytes, ` +\n",
              "        `last modified: ${\n",
              "            file.lastModifiedDate ? file.lastModifiedDate.toLocaleDateString() :\n",
              "                                    'n/a'} - `));\n",
              "    const percent = span('0% done');\n",
              "    li.appendChild(percent);\n",
              "\n",
              "    outputElement.appendChild(li);\n",
              "\n",
              "    const fileDataPromise = new Promise((resolve) => {\n",
              "      const reader = new FileReader();\n",
              "      reader.onload = (e) => {\n",
              "        resolve(e.target.result);\n",
              "      };\n",
              "      reader.readAsArrayBuffer(file);\n",
              "    });\n",
              "    // Wait for the data to be ready.\n",
              "    let fileData = yield {\n",
              "      promise: fileDataPromise,\n",
              "      response: {\n",
              "        action: 'continue',\n",
              "      }\n",
              "    };\n",
              "\n",
              "    // Use a chunked sending to avoid message size limits. See b/62115660.\n",
              "    let position = 0;\n",
              "    do {\n",
              "      const length = Math.min(fileData.byteLength - position, MAX_PAYLOAD_SIZE);\n",
              "      const chunk = new Uint8Array(fileData, position, length);\n",
              "      position += length;\n",
              "\n",
              "      const base64 = btoa(String.fromCharCode.apply(null, chunk));\n",
              "      yield {\n",
              "        response: {\n",
              "          action: 'append',\n",
              "          file: file.name,\n",
              "          data: base64,\n",
              "        },\n",
              "      };\n",
              "\n",
              "      let percentDone = fileData.byteLength === 0 ?\n",
              "          100 :\n",
              "          Math.round((position / fileData.byteLength) * 100);\n",
              "      percent.textContent = `${percentDone}% done`;\n",
              "\n",
              "    } while (position < fileData.byteLength);\n",
              "  }\n",
              "\n",
              "  // All done.\n",
              "  yield {\n",
              "    response: {\n",
              "      action: 'complete',\n",
              "    }\n",
              "  };\n",
              "}\n",
              "\n",
              "scope.google = scope.google || {};\n",
              "scope.google.colab = scope.google.colab || {};\n",
              "scope.google.colab._files = {\n",
              "  _uploadFiles,\n",
              "  _uploadFilesContinue,\n",
              "};\n",
              "})(self);\n",
              "</script> "
            ]
          },
          "metadata": {}
        },
        {
          "output_type": "stream",
          "name": "stdout",
          "text": [
            "Saving kaggle.json to kaggle.json\n"
          ]
        },
        {
          "output_type": "execute_result",
          "data": {
            "text/plain": [
              "{'kaggle.json': b'{\"username\":\"aleksmitk\",\"key\":\"bba949f84eb8bac61aff3e5e51ea87e0\"}'}"
            ]
          },
          "metadata": {},
          "execution_count": 32
        }
      ]
    },
    {
      "cell_type": "code",
      "source": [
        "# Make directory named kaggle and copy kaggle.json file there\n",
        "! mkdir ~/.kaggle\n",
        "# Choose the kaggle.json file that you downloaded\n",
        "! cp kaggle.json ~/.kaggle/\n",
        "# Download dataset from kaggle\n",
        "! kaggle datasets download neisse/scrapped-lyrics-from-6-genres\n",
        "! unzip scrapped-lyrics-from-6-genres\n",
        "! rm -r scrapped-lyrics-from-6-genres.zip"
      ],
      "metadata": {
        "colab": {
          "base_uri": "https://localhost:8080/"
        },
        "id": "GNQD6qg2Spfg",
        "outputId": "aece548f-9f91-4823-f0e7-341546d6a547"
      },
      "execution_count": 33,
      "outputs": [
        {
          "output_type": "stream",
          "name": "stdout",
          "text": [
            "Warning: Your Kaggle API key is readable by other users on this system! To fix this, you can run 'chmod 600 /root/.kaggle/kaggle.json'\n",
            "Downloading scrapped-lyrics-from-6-genres.zip to /content\n",
            "100% 129M/129M [00:04<00:00, 37.5MB/s]\n",
            "100% 129M/129M [00:04<00:00, 32.3MB/s]\n",
            "Archive:  scrapped-lyrics-from-6-genres.zip\n",
            "  inflating: artists-data.csv        \n",
            "  inflating: lyrics-data.csv         \n"
          ]
        }
      ]
    },
    {
      "cell_type": "markdown",
      "source": [
        "# Preprocessing"
      ],
      "metadata": {
        "id": "we81ZRwxSw_n"
      }
    },
    {
      "cell_type": "code",
      "source": [
        "import pandas as pd\n",
        "lyrics_data = pd.read_csv(\"/content/lyrics-data.csv\")\n",
        "artists_data = pd.read_csv(\"/content/artists-data.csv\")\n",
        "\n",
        "lyrics_data = lyrics_data.rename({\"ALink\":\"Link\"}, axis=\"columns\")\n",
        "data = lyrics_data.merge(artists_data, on='Link', how='left')\n",
        "data = data.drop([\"Link\", \"SName\", \"SLink\", \"Songs\", \"Popularity\"], axis=1)\n",
        "data = data.loc[data[\"language\"] == \"en\"]\n",
        "data[['Genre1', 'Genre2', 'Genre3', 'Genre4']] = data['Genres'].str.split(';', -1, expand=True)\n",
        "data = data[data['Genre1'].notna()]\n",
        "data = data.drop(\"Genres\", axis=1)\n",
        "data = data.reset_index().drop(\"index\", axis=1)\n",
        "\n",
        "other_genres = []\n",
        "for genre in data['Genre1'].unique():\n",
        "  freq = len(data[data[\"Genre1\"] == genre])\n",
        "  if freq <1200:\n",
        "    other_genres.append(genre)\n",
        "\n",
        "for index, row in data.iterrows():\n",
        "  if (row[\"Genre1\"] == \"Pop/Rock\") & (row[\"Genre2\"] == \" Pop\"):\n",
        "    data.loc[index, \"Genre1\"] = \"Pop\"\n",
        "  \n",
        "  if (row[\"Genre1\"] == \"Rap\"):\n",
        "    data.loc[index, \"Genre1\"] = \"Hip Hop\"\n",
        "\n",
        "  if (row[\"Genre1\"] == \"Rock Alternativo\") & (row[\"Genre2\"] == \" Indie\"):\n",
        "    data.loc[index, \"Genre1\"] = \"Indie\"\n",
        "\n",
        "  if (row[\"Genre1\"] == \"Black Music\") & (row[\"Genre2\"] == \" R&B\"):\n",
        "    data.loc[index, \"Genre1\"] = \"R&B\"\n",
        "\n",
        "  if (row[\"Genre1\"] == \"Black Music\") & (row[\"Genre2\"] == \" Soul Music\"):\n",
        "    data.loc[index, \"Genre1\"] = \"R&B\"\n",
        "\n",
        "  if (row[\"Genre1\"] == \"Soul Music\") & (row[\"Genre2\"] == \" R&B\"):\n",
        "    data.loc[index, \"Genre1\"] = \"R&B\"\n",
        "\n",
        "  if (row[\"Genre1\"] == \"Soul Music\") & (row[\"Genre2\"] == \" Pop\"):\n",
        "    data.loc[index, \"Genre1\"] = \"R&B\"\n",
        "\n",
        "  if (row[\"Genre1\"] == \"Dance\") & (row[\"Genre2\"] == \" Pop\"):\n",
        "    data.loc[index, \"Genre1\"] = \"Pop\"\n",
        "\n",
        "  if (row[\"Genre1\"] == \"Folk\") & (row[\"Genre2\"] == \" Indie\"):\n",
        "    data.loc[index, \"Genre1\"] = \"Indie\"\n",
        "\n",
        "  if (row[\"Genre1\"] == \"Folk\") & (row[\"Genre3\"] == \" Indie\"):\n",
        "    data.loc[index, \"Genre1\"] = \"Indie\"\n",
        "\n",
        "  if (row[\"Genre1\"] == \"Romântico\") & (row[\"Genre3\"] == \" R&B\"):\n",
        "    data.loc[index, \"Genre1\"] = \"R&B\"\n",
        "  \n",
        "  if (row[\"Genre1\"] == \"Pop\") & (row[\"Genre2\"] == \" R&B\"):\n",
        "    data.loc[index, \"Genre1\"] = \"R&B\"\n",
        "\n",
        "  if (row[\"Genre1\"] == \"Rock\") & (row[\"Genre2\"] == \" Country\"):\n",
        "    data.loc[index, \"Genre1\"] = \"Country\" \n",
        "  \n",
        "  if (row[\"Genre1\"] == \"Trilha Sonora\") & (row[\"Genre2\"] == \" Country\"):\n",
        "    data.loc[index, \"Genre1\"] = \"Country\" \n",
        "\n",
        "  if (row[\"Genre1\"] == \"Folk\") & (row[\"Genre2\"] == \" Country\"):\n",
        "    data.loc[index, \"Genre1\"] = \"Country\" \n",
        "\n",
        "  if row[\"Genre1\"] in other_genres:\n",
        "    data.loc[index, \"Genre1\"] = \"Other\" \n",
        "  \n",
        "  ###New changes:###\n",
        "  if (row[\"Genre1\"] == \"Rock\") & (row[\"Genre2\"] == \" Pop\"):\n",
        "    data.loc[index, \"Genre1\"] = \"Pop\"  \n",
        "\n",
        "  if (row[\"Artist\"] == \"Wilco\"):\n",
        "    data.loc[index, \"Genre1\"] = \"Country\" \n",
        "\n",
        "  if (row[\"Genre1\"] == \"Rock\") & (row[\"Genre2\"] == \" Indie\"):\n",
        "    data.loc[index, \"Genre1\"] = \"Indie\"  \n",
        "\n",
        "  if (row[\"Artist\"] == \"Steve Earle\"):\n",
        "    data.loc[index, \"Genre1\"] = \"Country\" \n",
        "\n",
        "  if (row[\"Genre1\"] == \"Rock\") & (row[\"Genre2\"] == \" Heavy Metal\"):\n",
        "    data.loc[index, \"Genre1\"] = \"Heavy Metal\"  \n",
        "\n",
        "  if (row[\"Genre1\"] == \"Pop\") & (row[\"Genre3\"] == \" R&B\"):\n",
        "    data.loc[index, \"Genre1\"] = \"Pop\"  \n",
        "  \n",
        "  if (row[\"Artist\"] in ['Ciara', 'Jeremih', 'Kehlani','Ashanti', 'Jhené Aiko', 'Ray J', 'Omarion', 'Mindless Behavior']):\n",
        "        data.loc[index, \"Genre1\"] = \"R&B\"  \n",
        "\n",
        "genre_list = [\"Rock\",\"Hip Hop\",\"Pop\",\"Indie\",\"Heavy Metal\",\"R&B\", \"Country\"]\n",
        "data = data[data[\"Genre1\"].isin(genre_list)]"
      ],
      "metadata": {
        "id": "Nk5yJJShStW9"
      },
      "execution_count": 54,
      "outputs": []
    },
    {
      "cell_type": "code",
      "source": [
        "freq_list = []\n",
        "for genre in data['Genre1'].unique():\n",
        "  freq = len(data[data[\"Genre1\"] == genre])\n",
        "  freq_list.append((freq, genre))\n",
        "\n",
        "print(sorted(freq_list, key = lambda x: x[0], reverse=True))"
      ],
      "metadata": {
        "colab": {
          "base_uri": "https://localhost:8080/"
        },
        "id": "9xLT2wMilDDq",
        "outputId": "ceececd7-8df0-4e3a-d53e-b04666b7b3af"
      },
      "execution_count": 55,
      "outputs": [
        {
          "output_type": "stream",
          "name": "stdout",
          "text": [
            "[(22352, 'Rock'), (17240, 'Hip Hop'), (17002, 'Pop'), (16137, 'Indie'), (14353, 'Heavy Metal'), (12425, 'R&B'), (8657, 'Country')]\n"
          ]
        }
      ]
    },
    {
      "cell_type": "code",
      "source": [
        "decode_labels = {}\n",
        "i = 0\n",
        "for label in data[\"Genre1\"].unique():\n",
        "  decode_labels[i] = label\n",
        "  i += 1\n",
        "encode_labels = {v: k for k, v in decode_labels.items()}\n",
        "\n",
        "import re \n",
        "\n",
        "def clean_lyrics(lyrics):\n",
        "    lyrics = re.sub(r\"[^A-Za-z0-9']+\", \" \", lyrics, flags=re.MULTILINE)\n",
        "    lyrics = re.sub(r\"(?<=[a-zA-Z0-9]) (?=['])|(?<=[']) (?=[a-zA-Z0-9])\", \"\", lyrics, flags=re.MULTILINE)\n",
        "    lyrics = re.sub('\\s+',' ',lyrics)\n",
        "    return lyrics.lower().lstrip()\n",
        "\n",
        "for index, row in data.iterrows(): #encode labels in dataset \n",
        "  label = encode_labels[row[\"Genre1\"]]\n",
        "  data.loc[index,'Label'] = label\n",
        "\n",
        "from sklearn.model_selection import train_test_split\n",
        "\n",
        "train_data, test_data = train_test_split(data, test_size=0.05)"
      ],
      "metadata": {
        "id": "GR6Q6uwzeI9n"
      },
      "execution_count": 56,
      "outputs": []
    },
    {
      "cell_type": "code",
      "source": [
        "from torch.utils.data import Dataset\n",
        "import torchaudio\n",
        "from torch.nn.utils.rnn import pad_sequence\n",
        "import torch\n",
        "from torch.utils.data import DataLoader\n",
        "\n",
        "device = torch.device(\"cuda\" if torch.cuda.is_available() else \"cpu\")\n",
        "\n",
        "text_pipeline = lambda x: vocab(tokenizer(x))\n",
        "label_pipeline = lambda x: int(x)\n",
        "\n",
        "\n",
        "class AudioDataset(Dataset):\n",
        "  def __init__(self, dataset: pd.DataFrame):\n",
        "      self.lyrics = dataset['Lyric'].tolist()\n",
        "      self.labels = dataset[\"Label\"].tolist()\n",
        "\n",
        "  def __len__(self):\n",
        "      return len(self.lyrics)\n",
        "\n",
        "  def __getitem__(self, index: int):\n",
        "      feat = clean_lyrics(self.lyrics[index])\n",
        "      label = int(self.labels[index])\n",
        "      \n",
        "      return (label, feat)\n",
        "  \n",
        "  def collate_fn(batch):\n",
        "      label_list = [torch.tensor(label_pipeline(b[0])) for b in batch]\n",
        "      feat_list = [torch.tensor(text_pipeline(b[1])) for b in batch]\n",
        "\n",
        "      feats = torch.nn.utils.rnn.pad_sequence(feat_list, batch_first = True)\n",
        "      labels = torch.tensor(label_list, dtype=torch.int64)\n",
        "\n",
        "      \"\"\"\n",
        "      print(f\"Features shape: {feats.shape}\")\n",
        "      print(f\"Labels shape: {labels.shape}\")\n",
        "      print(f\"Length of tensor: {len(feats[1])}\")\n",
        "      translation = []\n",
        "      [translation.append(\" \" + str(vocab.lookup_token(word.item()))) for word in feats[1]]\n",
        "      translation = ''.join(translation)\n",
        "      print(f\"Translated tensor: {translation}\")\n",
        "      print(f\"Corresponding label: {decode_labels[labels[1].item()]}\")\n",
        "      \"\"\"\n",
        "\n",
        "      return feats.to(device), labels.to(device)\n",
        "\n",
        "    \n",
        "train_iter = AudioDataset(dataset=train_data)\n",
        "test_iter = AudioDataset(dataset=test_data)\n",
        "\n",
        "from torchtext.data.utils import get_tokenizer\n",
        "from torchtext.vocab import build_vocab_from_iterator\n",
        "\n",
        "tokenizer = get_tokenizer('basic_english')\n",
        "\n",
        "def yield_tokens(data_iter):\n",
        "    for _, text in data_iter:\n",
        "        yield tokenizer(text)\n",
        "\n",
        "vocab = build_vocab_from_iterator(yield_tokens(train_iter), specials=[\"<pad>\",\"<unk>\"], min_freq = 500)\n",
        "vocab.set_default_index(vocab[\"<unk>\"])\n",
        "\n",
        "dataloader = DataLoader(train_iter, batch_size=8, shuffle=True, collate_fn=AudioDataset.collate_fn)\n",
        "test_loader = DataLoader(test_iter, batch_size=8, shuffle=False, collate_fn=AudioDataset.collate_fn)"
      ],
      "metadata": {
        "id": "DmaNthSFCjTz"
      },
      "execution_count": 57,
      "outputs": []
    },
    {
      "cell_type": "code",
      "source": [
        "import numpy as np\n",
        "torch.set_printoptions(profile=\"full\")#\"default\"\n",
        "print(\"Model overview:\")\n",
        "print(\" \")\n",
        "\n",
        "for X, Y in dataloader:\n",
        "  print(X.shape)\n",
        "  print(Y.shape)\n",
        "  break"
      ],
      "metadata": {
        "colab": {
          "base_uri": "https://localhost:8080/"
        },
        "id": "V5YZkIYLGufG",
        "outputId": "200dca77-2708-4133-8715-90ccfa7305c8"
      },
      "execution_count": 58,
      "outputs": [
        {
          "output_type": "stream",
          "name": "stdout",
          "text": [
            "Model overview:\n",
            " \n",
            "torch.Size([8, 774])\n",
            "torch.Size([8])\n"
          ]
        }
      ]
    },
    {
      "cell_type": "markdown",
      "source": [
        "# Model und Training Tests"
      ],
      "metadata": {
        "id": "dLLOSCFYVTDU"
      }
    },
    {
      "cell_type": "code",
      "source": [
        "from torch import nn\n",
        "from torch.nn import functional as F\n",
        "\n",
        "embed_len = 50\n",
        "hidden_dim = 75\n",
        "n_layers=1\n",
        "num_class = len(set([label for (label, text) in train_iter]))\n",
        "\n",
        "class LSTMClassifier(nn.Module):\n",
        "    def __init__(self):\n",
        "        super(LSTMClassifier, self).__init__()\n",
        "        self.embedding_layer = nn.Embedding(num_embeddings=len(vocab), embedding_dim=embed_len)\n",
        "        self.lstm = nn.LSTM(input_size=embed_len, hidden_size=hidden_dim, num_layers=n_layers, batch_first=True)\n",
        "        self.linear = nn.Linear(hidden_dim, num_class)\n",
        "        self.dropout = nn.Dropout(0.3)\n",
        "\n",
        "    def forward(self, X_batch):\n",
        "        embeddings = self.embedding_layer(X_batch)\n",
        "        hidden, carry = torch.randn(n_layers, len(X_batch), hidden_dim), torch.randn(n_layers, len(X_batch), hidden_dim)\n",
        "        output, (hidden, carry) = self.lstm(embeddings, (hidden.to(device), carry.to(device)))\n",
        "        output = self.dropout(output)\n",
        "        return self.linear(output[:,-1])"
      ],
      "metadata": {
        "id": "J3VZlIT6YPS2"
      },
      "execution_count": 59,
      "outputs": []
    },
    {
      "cell_type": "code",
      "source": [
        "lstm_classifier = LSTMClassifier().to(device)\n",
        "\n",
        "lstm_classifier"
      ],
      "metadata": {
        "colab": {
          "base_uri": "https://localhost:8080/"
        },
        "id": "84XmVWJUY9D7",
        "outputId": "3a90d98d-ef29-4fda-c06d-e839bb66aa01"
      },
      "execution_count": 60,
      "outputs": [
        {
          "output_type": "execute_result",
          "data": {
            "text/plain": [
              "LSTMClassifier(\n",
              "  (embedding_layer): Embedding(3129, 50)\n",
              "  (lstm): LSTM(50, 75, batch_first=True)\n",
              "  (linear): Linear(in_features=75, out_features=7, bias=True)\n",
              "  (dropout): Dropout(p=0.3, inplace=False)\n",
              ")"
            ]
          },
          "metadata": {},
          "execution_count": 60
        }
      ]
    },
    {
      "cell_type": "code",
      "source": [
        "for layer in lstm_classifier.children():\n",
        "    print(\"Layer : {}\".format(layer))\n",
        "    print(\"Parameters : \")\n",
        "    for param in layer.parameters():\n",
        "        print(param.shape)\n",
        "    print()"
      ],
      "metadata": {
        "colab": {
          "base_uri": "https://localhost:8080/"
        },
        "id": "8fY4OceNY9ZJ",
        "outputId": "2811c120-8d17-4f34-96f5-3a20f06fdea7"
      },
      "execution_count": 61,
      "outputs": [
        {
          "output_type": "stream",
          "name": "stdout",
          "text": [
            "Layer : Embedding(3129, 50)\n",
            "Parameters : \n",
            "torch.Size([3129, 50])\n",
            "\n",
            "Layer : LSTM(50, 75, batch_first=True)\n",
            "Parameters : \n",
            "torch.Size([300, 50])\n",
            "torch.Size([300, 75])\n",
            "torch.Size([300])\n",
            "torch.Size([300])\n",
            "\n",
            "Layer : Linear(in_features=75, out_features=7, bias=True)\n",
            "Parameters : \n",
            "torch.Size([7, 75])\n",
            "torch.Size([7])\n",
            "\n",
            "Layer : Dropout(p=0.3, inplace=False)\n",
            "Parameters : \n",
            "\n"
          ]
        }
      ]
    },
    {
      "cell_type": "code",
      "source": [
        "class SaveBestModel:\n",
        "    \"\"\"\n",
        "    Class to save the best model while training. If the current epoch's \n",
        "    validation loss is less than the previous least less, then save the\n",
        "    model state.\n",
        "    \"\"\"\n",
        "    def __init__(\n",
        "        self, best_valid_loss=float('inf')\n",
        "    ):\n",
        "        self.best_valid_loss = best_valid_loss\n",
        "        \n",
        "    def __call__(\n",
        "        self, current_valid_loss, \n",
        "        epoch, model, optimizer, criterion\n",
        "    ):\n",
        "        if current_valid_loss < self.best_valid_loss:\n",
        "            self.best_valid_loss = current_valid_loss\n",
        "            print(f\"\\nBest validation loss: {self.best_valid_loss}\")\n",
        "            print(f\"\\nSaving best model for epoch: {epoch}\\n\")\n",
        "            torch.save({\n",
        "                'epoch': epoch,\n",
        "                'model_state_dict': model.state_dict(),\n",
        "                'optimizer_state_dict': optimizer.state_dict(),\n",
        "                'loss': criterion,\n",
        "                }, '/content/best_model.pth')\n",
        "\n",
        "save_best_model = SaveBestModel()\n",
        "\n",
        "class EarlyStopping():\n",
        "    \"\"\"\n",
        "    Early stopping to stop the training when the loss does not improve after\n",
        "    certain epochs.\n",
        "    \"\"\"\n",
        "    def __init__(self, patience=8, min_delta=0):\n",
        "        \"\"\"\n",
        "        :param patience: how many epochs to wait before stopping when loss is\n",
        "               not improving\n",
        "        :param min_delta: minimum difference between new loss and old loss for\n",
        "               new loss to be considered as an improvement\n",
        "        \"\"\"\n",
        "        self.patience = patience\n",
        "        self.min_delta = min_delta\n",
        "        self.counter = 0\n",
        "        self.best_loss = None\n",
        "        self.early_stop = False\n",
        "    def __call__(self, val_loss):\n",
        "        if self.best_loss == None:\n",
        "            self.best_loss = val_loss\n",
        "        elif self.best_loss - val_loss > self.min_delta:\n",
        "            self.best_loss = val_loss\n",
        "            # reset counter if validation loss improves\n",
        "            self.counter = 0\n",
        "        elif self.best_loss - val_loss < self.min_delta:\n",
        "            self.counter += 1\n",
        "            print(f\"INFO: Early stopping counter {self.counter} of {self.patience}\")\n",
        "            if self.counter >= self.patience:\n",
        "                print('INFO: Early stopping')\n",
        "                self.early_stop = True\n",
        "\n",
        "early_stopping = EarlyStopping()"
      ],
      "metadata": {
        "id": "XFBdpXhouiuU"
      },
      "execution_count": 70,
      "outputs": []
    },
    {
      "cell_type": "code",
      "source": [
        "from tqdm import tqdm\n",
        "from sklearn.metrics import accuracy_score\n",
        "import gc\n",
        "\n",
        "def CalcValLossAndAccuracy(model, loss_fn, val_loader, epoch):\n",
        "    with torch.no_grad():\n",
        "        Y_shuffled, Y_preds, losses = [],[],[]\n",
        "        for X, Y in val_loader:\n",
        "            preds = model(X)\n",
        "            loss = loss_fn(preds, Y)\n",
        "            losses.append(loss.item())\n",
        "\n",
        "            Y_shuffled.append(Y)\n",
        "            Y_preds.append(preds.argmax(dim=-1))\n",
        "\n",
        "        Y_shuffled = torch.cat(Y_shuffled)\n",
        "        Y_preds = torch.cat(Y_preds)\n",
        "\n",
        "        early_stopping(torch.tensor(losses).mean())\n",
        "\n",
        "        print(\"Valid Loss : {:.3f}\".format(torch.tensor(losses).mean()))\n",
        "        print(\"Valid Acc  : {:.3f}\".format(accuracy_score(Y_shuffled.cpu().detach().numpy(), Y_preds.cpu().detach().numpy())))\n",
        "        save_best_model(torch.tensor(losses).mean(), epoch, model, optimizer, loss_fn) # save best checkpoint added\n",
        "        print('-'*50)\n",
        "        scheduler.step(torch.tensor(losses).mean()) # scheduler added\n",
        "\n",
        "\n",
        "def TrainModel(model, loss_fn, optimizer, train_loader, val_loader, epochs=10):\n",
        "    for i in range(1, epochs+1):\n",
        "        losses = []\n",
        "        for X, Y in tqdm(train_loader):\n",
        "            Y_preds = model(X) ## Make Predictions\n",
        "\n",
        "            loss = loss_fn(Y_preds, Y) ## Calculate Loss\n",
        "            losses.append(loss.item())\n",
        "\n",
        "            optimizer.zero_grad() ## Clear previously calculated gradients\n",
        "            loss.backward() ## Calculates Gradients\n",
        "            optimizer.step() ## Update network weights.\n",
        "\n",
        "        print(\"Train Loss : {:.3f}\".format(torch.tensor(losses).mean()))\n",
        "        CalcValLossAndAccuracy(model, loss_fn, val_loader, i)\n",
        "        if early_stopping.early_stop:\n",
        "          break"
      ],
      "metadata": {
        "id": "MFhH3eIpZrMA"
      },
      "execution_count": 71,
      "outputs": []
    },
    {
      "cell_type": "code",
      "source": [
        "from torch.optim import Adam\n",
        "from torch.optim.lr_scheduler import ExponentialLR\n",
        "\n",
        "epochs = 100\n",
        "learning_rate = 0.001#1e-3\n",
        "\n",
        "loss_fn = nn.CrossEntropyLoss()\n",
        "lstm_classifier = LSTMClassifier().to(device)\n",
        "optimizer = Adam(lstm_classifier.parameters(), lr=learning_rate, weight_decay=1e-5)\n",
        "scheduler = torch.optim.lr_scheduler.ReduceLROnPlateau( \n",
        "                optimizer,\n",
        "                mode='min',\n",
        "                patience=2,\n",
        "                factor=0.5,\n",
        "                min_lr=1e-6,\n",
        "                verbose=True\n",
        "            ) # scheduler added\n",
        "\n",
        "TrainModel(lstm_classifier, loss_fn, optimizer, dataloader, test_loader, epochs)"
      ],
      "metadata": {
        "colab": {
          "base_uri": "https://localhost:8080/"
        },
        "id": "YcIl18ZLZtuT",
        "outputId": "2b063ce1-cfdb-403d-b3d4-c21d1a972b37"
      },
      "execution_count": 72,
      "outputs": [
        {
          "output_type": "stream",
          "name": "stderr",
          "text": [
            "100%|██████████| 12845/12845 [01:59<00:00, 107.41it/s]\n"
          ]
        },
        {
          "output_type": "stream",
          "name": "stdout",
          "text": [
            "Train Loss : 1.731\n",
            "Valid Loss : 1.510\n",
            "Valid Acc  : 0.400\n",
            "\n",
            "Best validation loss: 1.5102300643920898\n",
            "\n",
            "Saving best model for epoch: 1\n",
            "\n",
            "--------------------------------------------------\n"
          ]
        },
        {
          "output_type": "stream",
          "name": "stderr",
          "text": [
            "100%|██████████| 12845/12845 [02:00<00:00, 106.29it/s]\n"
          ]
        },
        {
          "output_type": "stream",
          "name": "stdout",
          "text": [
            "Train Loss : 1.414\n",
            "Valid Loss : 1.360\n",
            "Valid Acc  : 0.449\n",
            "\n",
            "Best validation loss: 1.3599365949630737\n",
            "\n",
            "Saving best model for epoch: 2\n",
            "\n",
            "--------------------------------------------------\n"
          ]
        },
        {
          "output_type": "stream",
          "name": "stderr",
          "text": [
            "100%|██████████| 12845/12845 [01:58<00:00, 108.54it/s]\n"
          ]
        },
        {
          "output_type": "stream",
          "name": "stdout",
          "text": [
            "Train Loss : 1.303\n",
            "Valid Loss : 1.293\n",
            "Valid Acc  : 0.497\n",
            "\n",
            "Best validation loss: 1.2928539514541626\n",
            "\n",
            "Saving best model for epoch: 3\n",
            "\n",
            "--------------------------------------------------\n"
          ]
        },
        {
          "output_type": "stream",
          "name": "stderr",
          "text": [
            "100%|██████████| 12845/12845 [01:58<00:00, 108.05it/s]\n"
          ]
        },
        {
          "output_type": "stream",
          "name": "stdout",
          "text": [
            "Train Loss : 1.246\n",
            "Valid Loss : 1.267\n",
            "Valid Acc  : 0.503\n",
            "\n",
            "Best validation loss: 1.267111897468567\n",
            "\n",
            "Saving best model for epoch: 4\n",
            "\n",
            "--------------------------------------------------\n"
          ]
        },
        {
          "output_type": "stream",
          "name": "stderr",
          "text": [
            "100%|██████████| 12845/12845 [01:59<00:00, 107.83it/s]\n"
          ]
        },
        {
          "output_type": "stream",
          "name": "stdout",
          "text": [
            "Train Loss : 1.196\n",
            "Valid Loss : 1.235\n",
            "Valid Acc  : 0.516\n",
            "\n",
            "Best validation loss: 1.23540461063385\n",
            "\n",
            "Saving best model for epoch: 5\n",
            "\n",
            "--------------------------------------------------\n"
          ]
        },
        {
          "output_type": "stream",
          "name": "stderr",
          "text": [
            "100%|██████████| 12845/12845 [02:00<00:00, 106.79it/s]\n"
          ]
        },
        {
          "output_type": "stream",
          "name": "stdout",
          "text": [
            "Train Loss : 1.161\n",
            "Valid Loss : 1.228\n",
            "Valid Acc  : 0.527\n",
            "\n",
            "Best validation loss: 1.2276972532272339\n",
            "\n",
            "Saving best model for epoch: 6\n",
            "\n",
            "--------------------------------------------------\n"
          ]
        },
        {
          "output_type": "stream",
          "name": "stderr",
          "text": [
            "100%|██████████| 12845/12845 [01:58<00:00, 108.10it/s]\n"
          ]
        },
        {
          "output_type": "stream",
          "name": "stdout",
          "text": [
            "Train Loss : 1.142\n",
            "INFO: Early stopping counter 1 of 8\n",
            "Valid Loss : 1.249\n",
            "Valid Acc  : 0.523\n",
            "--------------------------------------------------\n"
          ]
        },
        {
          "output_type": "stream",
          "name": "stderr",
          "text": [
            "100%|██████████| 12845/12845 [01:58<00:00, 108.80it/s]\n"
          ]
        },
        {
          "output_type": "stream",
          "name": "stdout",
          "text": [
            "Train Loss : 1.119\n",
            "Valid Loss : 1.225\n",
            "Valid Acc  : 0.541\n",
            "\n",
            "Best validation loss: 1.225380301475525\n",
            "\n",
            "Saving best model for epoch: 8\n",
            "\n",
            "--------------------------------------------------\n"
          ]
        },
        {
          "output_type": "stream",
          "name": "stderr",
          "text": [
            "100%|██████████| 12845/12845 [02:00<00:00, 107.03it/s]\n"
          ]
        },
        {
          "output_type": "stream",
          "name": "stdout",
          "text": [
            "Train Loss : 1.094\n",
            "INFO: Early stopping counter 1 of 8\n",
            "Valid Loss : 1.232\n",
            "Valid Acc  : 0.535\n",
            "--------------------------------------------------\n"
          ]
        },
        {
          "output_type": "stream",
          "name": "stderr",
          "text": [
            "100%|██████████| 12845/12845 [01:58<00:00, 107.98it/s]\n"
          ]
        },
        {
          "output_type": "stream",
          "name": "stdout",
          "text": [
            "Train Loss : 1.160\n",
            "INFO: Early stopping counter 2 of 8\n",
            "Valid Loss : 1.250\n",
            "Valid Acc  : 0.534\n",
            "--------------------------------------------------\n"
          ]
        },
        {
          "output_type": "stream",
          "name": "stderr",
          "text": [
            "100%|██████████| 12845/12845 [01:58<00:00, 108.23it/s]\n"
          ]
        },
        {
          "output_type": "stream",
          "name": "stdout",
          "text": [
            "Train Loss : 1.071\n",
            "INFO: Early stopping counter 3 of 8\n",
            "Valid Loss : 1.240\n",
            "Valid Acc  : 0.529\n",
            "--------------------------------------------------\n",
            "Epoch 00011: reducing learning rate of group 0 to 5.0000e-04.\n"
          ]
        },
        {
          "output_type": "stream",
          "name": "stderr",
          "text": [
            "100%|██████████| 12845/12845 [01:59<00:00, 107.33it/s]\n"
          ]
        },
        {
          "output_type": "stream",
          "name": "stdout",
          "text": [
            "Train Loss : 1.002\n",
            "INFO: Early stopping counter 4 of 8\n",
            "Valid Loss : 1.249\n",
            "Valid Acc  : 0.540\n",
            "--------------------------------------------------\n"
          ]
        },
        {
          "output_type": "stream",
          "name": "stderr",
          "text": [
            "100%|██████████| 12845/12845 [01:59<00:00, 107.79it/s]\n"
          ]
        },
        {
          "output_type": "stream",
          "name": "stdout",
          "text": [
            "Train Loss : 0.974\n",
            "INFO: Early stopping counter 5 of 8\n",
            "Valid Loss : 1.268\n",
            "Valid Acc  : 0.531\n",
            "--------------------------------------------------\n"
          ]
        },
        {
          "output_type": "stream",
          "name": "stderr",
          "text": [
            "100%|██████████| 12845/12845 [01:57<00:00, 109.02it/s]\n"
          ]
        },
        {
          "output_type": "stream",
          "name": "stdout",
          "text": [
            "Train Loss : 0.948\n",
            "INFO: Early stopping counter 6 of 8\n",
            "Valid Loss : 1.291\n",
            "Valid Acc  : 0.534\n",
            "--------------------------------------------------\n",
            "Epoch 00014: reducing learning rate of group 0 to 2.5000e-04.\n"
          ]
        },
        {
          "output_type": "stream",
          "name": "stderr",
          "text": [
            "100%|██████████| 12845/12845 [02:00<00:00, 106.74it/s]\n"
          ]
        },
        {
          "output_type": "stream",
          "name": "stdout",
          "text": [
            "Train Loss : 0.896\n",
            "INFO: Early stopping counter 7 of 8\n",
            "Valid Loss : 1.324\n",
            "Valid Acc  : 0.529\n",
            "--------------------------------------------------\n"
          ]
        },
        {
          "output_type": "stream",
          "name": "stderr",
          "text": [
            "100%|██████████| 12845/12845 [01:58<00:00, 108.62it/s]\n"
          ]
        },
        {
          "output_type": "stream",
          "name": "stdout",
          "text": [
            "Train Loss : 0.874\n",
            "INFO: Early stopping counter 8 of 8\n",
            "INFO: Early stopping\n",
            "Valid Loss : 1.341\n",
            "Valid Acc  : 0.532\n",
            "--------------------------------------------------\n"
          ]
        }
      ]
    },
    {
      "cell_type": "code",
      "source": [
        "#torch.save(lstm_classifier.state_dict(), \"lstm_model.pth\")\n",
        "torch.save({'epoch': epochs,\n",
        "            'model_state_dict': lstm_classifier.state_dict(),\n",
        "            'optimizer_state_dict': optimizer.state_dict(),\n",
        "            'loss': loss_fn,}, 'final_model.pth')\n",
        "torch.save(vocab, 'vocab.pth')"
      ],
      "metadata": {
        "id": "2gukU6XojB7B"
      },
      "execution_count": 33,
      "outputs": []
    },
    {
      "cell_type": "code",
      "source": [
        "torch.cuda.empty_cache()\n",
        "gc.collect()"
      ],
      "metadata": {
        "colab": {
          "base_uri": "https://localhost:8080/"
        },
        "id": "4Pj6Hgx1l9Pl",
        "outputId": "ae856d44-3429-4a85-dba1-e15e57e5bdff"
      },
      "execution_count": 73,
      "outputs": [
        {
          "output_type": "execute_result",
          "data": {
            "text/plain": [
              "6409"
            ]
          },
          "metadata": {},
          "execution_count": 73
        }
      ]
    },
    {
      "cell_type": "code",
      "source": [
        "def MakePredictions(model, loader):\n",
        "      Y_shuffled, Y_preds = [], []\n",
        "      with torch.no_grad():\n",
        "        for X, Y in loader:\n",
        "            preds = model(X)\n",
        "            Y_preds.append(preds)\n",
        "            Y_shuffled.append(Y)\n",
        "        gc.collect()\n",
        "        Y_preds, Y_shuffled = torch.cat(Y_preds), torch.cat(Y_shuffled)\n",
        "\n",
        "      return Y_shuffled.cpu().detach().numpy(), F.softmax(Y_preds, dim=-1).argmax(dim=-1).cpu().detach().numpy()\n",
        "\n",
        "Y_actual, Y_preds = MakePredictions(lstm_classifier, test_loader)\n"
      ],
      "metadata": {
        "id": "IXurqTvBgjqa"
      },
      "execution_count": 74,
      "outputs": []
    },
    {
      "cell_type": "code",
      "source": [
        "target_classes = []\n",
        "for index, genre in decode_labels.items():\n",
        "  target_classes.append(genre)\n",
        "\n",
        "print(target_classes)"
      ],
      "metadata": {
        "colab": {
          "base_uri": "https://localhost:8080/"
        },
        "id": "JRGhlQDirm54",
        "outputId": "85b40422-5f60-4427-a1b5-45b8232e6167"
      },
      "execution_count": 75,
      "outputs": [
        {
          "output_type": "stream",
          "name": "stdout",
          "text": [
            "['Pop', 'R&B', 'Hip Hop', 'Rock', 'Indie', 'Country', 'Heavy Metal']\n"
          ]
        }
      ]
    },
    {
      "cell_type": "code",
      "source": [
        "from sklearn.metrics import accuracy_score, classification_report, confusion_matrix\n",
        "\n",
        "print(\"Test Accuracy : {}\".format(accuracy_score(Y_actual, Y_preds)))\n",
        "print(\"\\nClassification Report : \")\n",
        "print(classification_report(Y_actual, Y_preds, target_names=target_classes))\n",
        "print(\"\\nConfusion Matrix : \")\n",
        "print(confusion_matrix(Y_actual, Y_preds))"
      ],
      "metadata": {
        "colab": {
          "base_uri": "https://localhost:8080/"
        },
        "id": "8Feun8Sugm5T",
        "outputId": "5c881390-ccb4-47fc-82b7-ac06c8442e5b"
      },
      "execution_count": 76,
      "outputs": [
        {
          "output_type": "stream",
          "name": "stdout",
          "text": [
            "Test Accuracy : 0.5322610464041413\n",
            "\n",
            "Classification Report : \n",
            "              precision    recall  f1-score   support\n",
            "\n",
            "         Pop       0.44      0.47      0.45       855\n",
            "         R&B       0.46      0.37      0.41       600\n",
            "     Hip Hop       0.77      0.81      0.79       840\n",
            "        Rock       0.42      0.42      0.42      1127\n",
            "       Indie       0.43      0.50      0.46       808\n",
            "     Country       0.59      0.52      0.55       445\n",
            " Heavy Metal       0.69      0.63      0.66       734\n",
            "\n",
            "    accuracy                           0.53      5409\n",
            "   macro avg       0.54      0.53      0.54      5409\n",
            "weighted avg       0.54      0.53      0.53      5409\n",
            "\n",
            "\n",
            "Confusion Matrix : \n",
            "[[400 102  48 137 127  27  14]\n",
            " [147 224  95  82  30  18   4]\n",
            " [ 45  61 679  20  24   6   5]\n",
            " [148  53  28 478 233  71 116]\n",
            " [ 97  15  19 189 401  28  59]\n",
            " [ 47  22   6  89  42 232   7]\n",
            " [ 23   5   8 142  81  10 465]]\n"
          ]
        }
      ]
    },
    {
      "cell_type": "code",
      "source": [
        "!pip install scikit-plot"
      ],
      "metadata": {
        "colab": {
          "base_uri": "https://localhost:8080/"
        },
        "id": "niR7oukyguwt",
        "outputId": "39b3a033-282e-4de2-9245-330da326716e"
      },
      "execution_count": 68,
      "outputs": [
        {
          "output_type": "stream",
          "name": "stdout",
          "text": [
            "Looking in indexes: https://pypi.org/simple, https://us-python.pkg.dev/colab-wheels/public/simple/\n",
            "Collecting scikit-plot\n",
            "  Downloading scikit_plot-0.3.7-py3-none-any.whl (33 kB)\n",
            "Requirement already satisfied: scikit-learn>=0.18 in /usr/local/lib/python3.8/dist-packages (from scikit-plot) (1.0.2)\n",
            "Requirement already satisfied: scipy>=0.9 in /usr/local/lib/python3.8/dist-packages (from scikit-plot) (1.7.3)\n",
            "Requirement already satisfied: joblib>=0.10 in /usr/local/lib/python3.8/dist-packages (from scikit-plot) (1.2.0)\n",
            "Requirement already satisfied: matplotlib>=1.4.0 in /usr/local/lib/python3.8/dist-packages (from scikit-plot) (3.2.2)\n",
            "Requirement already satisfied: numpy>=1.11 in /usr/local/lib/python3.8/dist-packages (from matplotlib>=1.4.0->scikit-plot) (1.21.6)\n",
            "Requirement already satisfied: kiwisolver>=1.0.1 in /usr/local/lib/python3.8/dist-packages (from matplotlib>=1.4.0->scikit-plot) (1.4.4)\n",
            "Requirement already satisfied: python-dateutil>=2.1 in /usr/local/lib/python3.8/dist-packages (from matplotlib>=1.4.0->scikit-plot) (2.8.2)\n",
            "Requirement already satisfied: pyparsing!=2.0.4,!=2.1.2,!=2.1.6,>=2.0.1 in /usr/local/lib/python3.8/dist-packages (from matplotlib>=1.4.0->scikit-plot) (3.0.9)\n",
            "Requirement already satisfied: cycler>=0.10 in /usr/local/lib/python3.8/dist-packages (from matplotlib>=1.4.0->scikit-plot) (0.11.0)\n",
            "Requirement already satisfied: threadpoolctl>=2.0.0 in /usr/local/lib/python3.8/dist-packages (from scikit-learn>=0.18->scikit-plot) (3.1.0)\n",
            "Requirement already satisfied: six>=1.5 in /usr/local/lib/python3.8/dist-packages (from python-dateutil>=2.1->matplotlib>=1.4.0->scikit-plot) (1.15.0)\n",
            "Installing collected packages: scikit-plot\n",
            "Successfully installed scikit-plot-0.3.7\n"
          ]
        }
      ]
    },
    {
      "cell_type": "code",
      "source": [
        "from sklearn.metrics import confusion_matrix\n",
        "import scikitplot as skplt\n",
        "import matplotlib.pyplot as plt\n",
        "import numpy as np\n",
        "\n",
        "skplt.metrics.plot_confusion_matrix([target_classes[i] for i in Y_actual], [target_classes[i] for i in Y_preds],\n",
        "                                    normalize=True,\n",
        "                                    title=\"Confusion Matrix\",\n",
        "                                    cmap=\"Purples\",\n",
        "                                    hide_zeros=True,\n",
        "                                    figsize=(5,5)\n",
        "                                    );\n",
        "plt.xticks(rotation=90);"
      ],
      "metadata": {
        "colab": {
          "base_uri": "https://localhost:8080/",
          "height": 362
        },
        "id": "YNXKBpXhgpdb",
        "outputId": "1d7bcb5b-193f-4efb-9a72-7229f0260a53"
      },
      "execution_count": 77,
      "outputs": [
        {
          "output_type": "display_data",
          "data": {
            "text/plain": [
              "<Figure size 360x360 with 2 Axes>"
            ],
            "image/png": "[encoded data removed]"
          },
          "metadata": {
            "needs_background": "light"
          }
        }
      ]
    },
    {
      "cell_type": "code",
      "source": [
        "plt.savefig(\"confusion_matrix\")"
      ],
      "metadata": {
        "id": "nx5E9x9GqTnL"
      },
      "execution_count": null,
      "outputs": []
    },
    {
      "cell_type": "markdown",
      "source": [
        "# Predictions"
      ],
      "metadata": {
        "id": "d9Anck2zmK_I"
      }
    },
    {
      "cell_type": "code",
      "source": [
        "from torch import nn\n",
        "from torch.nn import functional as F\n",
        "\n",
        "embed_len = 50\n",
        "hidden_dim = 75\n",
        "n_layers=1\n",
        "num_class = 7\n",
        "\n",
        "class LSTMClassifier(nn.Module):\n",
        "    def __init__(self):\n",
        "        super(LSTMClassifier, self).__init__()\n",
        "        self.embedding_layer = nn.Embedding(num_embeddings=len(vocab), embedding_dim=embed_len)\n",
        "        self.lstm = nn.LSTM(input_size=embed_len, hidden_size=hidden_dim, num_layers=n_layers, batch_first=True)\n",
        "        self.linear = nn.Linear(hidden_dim, num_class)\n",
        "        self.dropout = nn.Dropout(0.3)\n",
        "\n",
        "    def forward(self, X_batch):\n",
        "        embeddings = self.embedding_layer(X_batch)\n",
        "        hidden, carry = torch.randn(n_layers, len(X_batch), hidden_dim), torch.randn(n_layers, len(X_batch), hidden_dim)\n",
        "        output, (hidden, carry) = self.lstm(embeddings, (hidden.to(device), carry.to(device)))\n",
        "        output = self.dropout(output)\n",
        "        return self.linear(output[:,-1])"
      ],
      "metadata": {
        "id": "-bgwtuT3rJmY"
      },
      "execution_count": 5,
      "outputs": []
    },
    {
      "cell_type": "code",
      "source": [
        "import torch\n",
        "from torch.optim import Adam\n",
        "device = torch.device(\"cuda\" if torch.cuda.is_available() else \"cpu\")\n",
        "vocab = torch.load('vocab.pth')\n",
        "lstm_classifier = LSTMClassifier().to(device)\n",
        "optimizer = Adam(lstm_classifier.parameters(), lr=0.001, weight_decay=1e-5)\n",
        "\n",
        "checkpoint = torch.load(\"/content/final_model.pth\")\n",
        "lstm_classifier.load_state_dict(checkpoint['model_state_dict'])\n",
        "optimizer.load_state_dict(checkpoint['optimizer_state_dict'])\n",
        "epoch = checkpoint['epoch']\n",
        "loss = checkpoint['loss']\n",
        "#model.load_state_dict(torch.load(\"/content/best_model.pth\", map_location=torch.device('cpu')))\n",
        "lstm_classifier.eval()\n",
        "\n",
        "from torchtext.data.utils import get_tokenizer\n",
        "\n",
        "tokenizer = get_tokenizer('basic_english')\n",
        "\n",
        "text_pipeline = lambda x: vocab(tokenizer(x))\n",
        "\n",
        "import regex as re\n",
        "def clean_lyrics(lyrics):\n",
        "    lyrics = re.sub(r\"[^A-Za-z0-9']+\", \" \", lyrics, flags=re.MULTILINE)\n",
        "    lyrics = re.sub(r\"(?<=[a-zA-Z0-9]) (?=['])|(?<=[']) (?=[a-zA-Z0-9])\", \"\", lyrics, flags=re.MULTILINE)\n",
        "    lyrics = re.sub('\\s+',' ',lyrics)\n",
        "    return lyrics.lower().lstrip()\n",
        "\n",
        "decode_labels = {0:\"Pop\",1:\"R&B\",2:\"Hip Hop\",3:\"Rock\",4:\"Indie\",5:\"Country\",6:\"Heavy Metal\"}"
      ],
      "metadata": {
        "id": "fKntBwxFmaZA"
      },
      "execution_count": 30,
      "outputs": []
    },
    {
      "cell_type": "code",
      "source": [
        "lyrics = \"\"\"I have this thing where I get older but just never wiser\n",
        "Midnights become my afternoons\n",
        "When my depression works the graveyard shift\n",
        "All of the people I've ghosted stand there in the room\n",
        "I should not be left to my own devices\n",
        "They come with prices and vices\n",
        "I end up in crisis (tale as old as time)\n",
        "I wake up screaming from dreaming\n",
        "One day I'll watch as you're leaving\n",
        "'Cause you got tired of my scheming\n",
        "(For the last time)\n",
        "It's me, hi, I'm the problem, it's me\n",
        "At tea time, everybody agrees\n",
        "I'll stare directly at the sun but never in the mirror\n",
        "It must be exhausting always rooting for the anti-hero\n",
        "Sometimes I feel like everybody is a sexy baby\n",
        "And I'm a monster on the hill\n",
        "Too big to hang out, slowly lurching toward your favorite city\n",
        "Pierced through the heart, but never killed\n",
        "Did you hear my covert narcissism I disguise as altruism\n",
        "Like some kind of congressman? (Tale as old as time)\n",
        "I wake up screaming from dreaming\n",
        "One day I'll watch as you're leaving\n",
        "And life will lose all its meaning\n",
        "(For the last time)\n",
        "It's me, hi, I'm the problem, it's me (I'm the problem, it's me)\n",
        "At tea time, everybody agrees\n",
        "I'll stare directly at the sun but never in the mirror\n",
        "It must be exhausting always rooting for the anti-hero\n",
        "I have this dream my daughter in-law kills me for the money\n",
        "She thinks I left them in the will\n",
        "The family gathers 'round and reads it and then someone screams out\n",
        "\"She's laughing up at us from hell\"\n",
        "It's me, hi, I'm the problem, it's me\n",
        "It's me, hi, I'm the problem, it's me\n",
        "It's me, hi, everybody agrees, everybody agrees\n",
        "It's me, hi (hi), I'm the problem, it's me (I'm the problem, it's me)\n",
        "At tea (tea) time (time), everybody agrees (everybody agrees)\n",
        "I'll stare directly at the sun but never in the mirror\n",
        "It must be exhausting always rooting for the anti-hero\n",
        "\"\"\"\n",
        "pred = lstm_classifier(torch.tensor(text_pipeline(clean_lyrics(lyrics))).unsqueeze(0).to(device))\n",
        "decode_labels[F.softmax(pred, dim=-1).argmax(dim=-1).item()]"
      ],
      "metadata": {
        "colab": {
          "base_uri": "https://localhost:8080/",
          "height": 36
        },
        "id": "wlQOh_XHnRBt",
        "outputId": "1b21c4a6-7ca2-4ffe-9d1d-0717fe3ccee2"
      },
      "execution_count": 79,
      "outputs": [
        {
          "output_type": "execute_result",
          "data": {
            "text/plain": [
              "'Pop'"
            ],
            "application/vnd.google.colaboratory.intrinsic+json": {
              "type": "string"
            }
          },
          "metadata": {},
          "execution_count": 79
        }
      ]
    },
    {
      "cell_type": "markdown",
      "source": [
        "# Sonstiges"
      ],
      "metadata": {
        "id": "7E0E9D3-baOK"
      }
    },
    {
      "cell_type": "code",
      "source": [
        "data.head()"
      ],
      "metadata": {
        "colab": {
          "base_uri": "https://localhost:8080/",
          "height": 206
        },
        "id": "INTCQh_53rXq",
        "outputId": "e307fd44-340e-4d1b-c8e7-8c69f1155a77"
      },
      "execution_count": null,
      "outputs": [
        {
          "output_type": "execute_result",
          "data": {
            "text/plain": [
              "                                               Lyric language         Artist  \\\n",
              "0  I feel so unsure\\nAs I take your hand and lead...       en  Ivete Sangalo   \n",
              "1  Don't let them fool, ya\\nOr even try to school...       en  Ivete Sangalo   \n",
              "2  Baby, let's cruise, away from here\\nDon't be c...       en  Ivete Sangalo   \n",
              "3  Know it sounds funny\\nBut, I just can't stand ...       en  Ivete Sangalo   \n",
              "4  You've got that look again\\nThe one I hoped I ...       en  Ivete Sangalo   \n",
              "\n",
              "  Genre1 Genre2      Genre3 Genre4  Label  \n",
              "0    Pop    Axé   Romântico   None    0.0  \n",
              "1    Pop    Axé   Romântico   None    0.0  \n",
              "2    Pop    Axé   Romântico   None    0.0  \n",
              "3    Pop    Axé   Romântico   None    0.0  \n",
              "4    Pop    Axé   Romântico   None    0.0  "
            ],
            "text/html": [
              "\n",
              "  <div id=\"df-4558dd3c-5806-4a55-8db0-0f72371bfeae\">\n",
              "    <div class=\"colab-df-container\">\n",
              "      <div>\n",
              "<style scoped>\n",
              "    .dataframe tbody tr th:only-of-type {\n",
              "        vertical-align: middle;\n",
              "    }\n",
              "\n",
              "    .dataframe tbody tr th {\n",
              "        vertical-align: top;\n",
              "    }\n",
              "\n",
              "    .dataframe thead th {\n",
              "        text-align: right;\n",
              "    }\n",
              "</style>\n",
              "<table border=\"1\" class=\"dataframe\">\n",
              "  <thead>\n",
              "    <tr style=\"text-align: right;\">\n",
              "      <th></th>\n",
              "      <th>Lyric</th>\n",
              "      <th>language</th>\n",
              "      <th>Artist</th>\n",
              "      <th>Genre1</th>\n",
              "      <th>Genre2</th>\n",
              "      <th>Genre3</th>\n",
              "      <th>Genre4</th>\n",
              "      <th>Label</th>\n",
              "    </tr>\n",
              "  </thead>\n",
              "  <tbody>\n",
              "    <tr>\n",
              "      <th>0</th>\n",
              "      <td>I feel so unsure\\nAs I take your hand and lead...</td>\n",
              "      <td>en</td>\n",
              "      <td>Ivete Sangalo</td>\n",
              "      <td>Pop</td>\n",
              "      <td>Axé</td>\n",
              "      <td>Romântico</td>\n",
              "      <td>None</td>\n",
              "      <td>0.0</td>\n",
              "    </tr>\n",
              "    <tr>\n",
              "      <th>1</th>\n",
              "      <td>Don't let them fool, ya\\nOr even try to school...</td>\n",
              "      <td>en</td>\n",
              "      <td>Ivete Sangalo</td>\n",
              "      <td>Pop</td>\n",
              "      <td>Axé</td>\n",
              "      <td>Romântico</td>\n",
              "      <td>None</td>\n",
              "      <td>0.0</td>\n",
              "    </tr>\n",
              "    <tr>\n",
              "      <th>2</th>\n",
              "      <td>Baby, let's cruise, away from here\\nDon't be c...</td>\n",
              "      <td>en</td>\n",
              "      <td>Ivete Sangalo</td>\n",
              "      <td>Pop</td>\n",
              "      <td>Axé</td>\n",
              "      <td>Romântico</td>\n",
              "      <td>None</td>\n",
              "      <td>0.0</td>\n",
              "    </tr>\n",
              "    <tr>\n",
              "      <th>3</th>\n",
              "      <td>Know it sounds funny\\nBut, I just can't stand ...</td>\n",
              "      <td>en</td>\n",
              "      <td>Ivete Sangalo</td>\n",
              "      <td>Pop</td>\n",
              "      <td>Axé</td>\n",
              "      <td>Romântico</td>\n",
              "      <td>None</td>\n",
              "      <td>0.0</td>\n",
              "    </tr>\n",
              "    <tr>\n",
              "      <th>4</th>\n",
              "      <td>You've got that look again\\nThe one I hoped I ...</td>\n",
              "      <td>en</td>\n",
              "      <td>Ivete Sangalo</td>\n",
              "      <td>Pop</td>\n",
              "      <td>Axé</td>\n",
              "      <td>Romântico</td>\n",
              "      <td>None</td>\n",
              "      <td>0.0</td>\n",
              "    </tr>\n",
              "  </tbody>\n",
              "</table>\n",
              "</div>\n",
              "      <button class=\"colab-df-convert\" onclick=\"convertToInteractive('df-4558dd3c-5806-4a55-8db0-0f72371bfeae')\"\n",
              "              title=\"Convert this dataframe to an interactive table.\"\n",
              "              style=\"display:none;\">\n",
              "        \n",
              "  <svg xmlns=\"http://www.w3.org/2000/svg\" height=\"24px\"viewBox=\"0 0 24 24\"\n",
              "       width=\"24px\">\n",
              "    <path d=\"M0 0h24v24H0V0z\" fill=\"none\"/>\n",
              "    <path d=\"M18.56 5.44l.94 2.06.94-2.06 2.06-.94-2.06-.94-.94-2.06-.94 2.06-2.06.94zm-11 1L8.5 8.5l.94-2.06 2.06-.94-2.06-.94L8.5 2.5l-.94 2.06-2.06.94zm10 10l.94 2.06.94-2.06 2.06-.94-2.06-.94-.94-2.06-.94 2.06-2.06.94z\"/><path d=\"M17.41 7.96l-1.37-1.37c-.4-.4-.92-.59-1.43-.59-.52 0-1.04.2-1.43.59L10.3 9.45l-7.72 7.72c-.78.78-.78 2.05 0 2.83L4 21.41c.39.39.9.59 1.41.59.51 0 1.02-.2 1.41-.59l7.78-7.78 2.81-2.81c.8-.78.8-2.07 0-2.86zM5.41 20L4 18.59l7.72-7.72 1.47 1.35L5.41 20z\"/>\n",
              "  </svg>\n",
              "      </button>\n",
              "      \n",
              "  <style>\n",
              "    .colab-df-container {\n",
              "      display:flex;\n",
              "      flex-wrap:wrap;\n",
              "      gap: 12px;\n",
              "    }\n",
              "\n",
              "    .colab-df-convert {\n",
              "      background-color: #E8F0FE;\n",
              "      border: none;\n",
              "      border-radius: 50%;\n",
              "      cursor: pointer;\n",
              "      display: none;\n",
              "      fill: #1967D2;\n",
              "      height: 32px;\n",
              "      padding: 0 0 0 0;\n",
              "      width: 32px;\n",
              "    }\n",
              "\n",
              "    .colab-df-convert:hover {\n",
              "      background-color: #E2EBFA;\n",
              "      box-shadow: 0px 1px 2px rgba(60, 64, 67, 0.3), 0px 1px 3px 1px rgba(60, 64, 67, 0.15);\n",
              "      fill: #174EA6;\n",
              "    }\n",
              "\n",
              "    [theme=dark] .colab-df-convert {\n",
              "      background-color: #3B4455;\n",
              "      fill: #D2E3FC;\n",
              "    }\n",
              "\n",
              "    [theme=dark] .colab-df-convert:hover {\n",
              "      background-color: #434B5C;\n",
              "      box-shadow: 0px 1px 3px 1px rgba(0, 0, 0, 0.15);\n",
              "      filter: drop-shadow(0px 1px 2px rgba(0, 0, 0, 0.3));\n",
              "      fill: #FFFFFF;\n",
              "    }\n",
              "  </style>\n",
              "\n",
              "      <script>\n",
              "        const buttonEl =\n",
              "          document.querySelector('#df-4558dd3c-5806-4a55-8db0-0f72371bfeae button.colab-df-convert');\n",
              "        buttonEl.style.display =\n",
              "          google.colab.kernel.accessAllowed ? 'block' : 'none';\n",
              "\n",
              "        async function convertToInteractive(key) {\n",
              "          const element = document.querySelector('#df-4558dd3c-5806-4a55-8db0-0f72371bfeae');\n",
              "          const dataTable =\n",
              "            await google.colab.kernel.invokeFunction('convertToInteractive',\n",
              "                                                     [key], {});\n",
              "          if (!dataTable) return;\n",
              "\n",
              "          const docLinkHtml = 'Like what you see? Visit the ' +\n",
              "            '<a target=\"_blank\" href=https://colab.research.google.com/notebooks/data_table.ipynb>data table notebook</a>'\n",
              "            + ' to learn more about interactive tables.';\n",
              "          element.innerHTML = '';\n",
              "          dataTable['output_type'] = 'display_data';\n",
              "          await google.colab.output.renderOutput(dataTable, element);\n",
              "          const docLink = document.createElement('div');\n",
              "          docLink.innerHTML = docLinkHtml;\n",
              "          element.appendChild(docLink);\n",
              "        }\n",
              "      </script>\n",
              "    </div>\n",
              "  </div>\n",
              "  "
            ]
          },
          "metadata": {},
          "execution_count": 67
        }
      ]
    },
    {
      "cell_type": "code",
      "source": [
        "test = data[data[\"Artist\"]==\"Taylor Swift\"]\n",
        "lyrics = test.iloc[1,0]\n",
        "pred = model(torch.tensor(text_pipeline(clean_lyrics(lyrics))).unsqueeze(0).to(device))\n",
        "decode_labels[F.softmax(pred, dim=-1).argmax(dim=-1).item()]"
      ],
      "metadata": {
        "colab": {
          "base_uri": "https://localhost:8080/",
          "height": 36
        },
        "id": "NO33h-cM3x0j",
        "outputId": "d4f81fa7-0923-42fc-a67e-c22ab6e8fdff"
      },
      "execution_count": 70,
      "outputs": [
        {
          "output_type": "execute_result",
          "data": {
            "text/plain": [
              "'Indie'"
            ],
            "application/vnd.google.colaboratory.intrinsic+json": {
              "type": "string"
            }
          },
          "metadata": {},
          "execution_count": 70
        }
      ]
    },
    {
      "cell_type": "code",
      "source": [
        "prediction_df = pd.DataFrame({\"Lyric\":[lyrics], \"Label\":[0]})\n",
        "print(prediction_df)"
      ],
      "metadata": {
        "colab": {
          "base_uri": "https://localhost:8080/"
        },
        "id": "xA7H-aU9W93w",
        "outputId": "1169b1b9-6cba-4df9-f65a-859cb0e68a9f"
      },
      "execution_count": 74,
      "outputs": [
        {
          "output_type": "stream",
          "name": "stdout",
          "text": [
            "                                               Lyric  Label\n",
            "0  I have this thing where I get older but just n...      0\n"
          ]
        }
      ]
    },
    {
      "cell_type": "code",
      "source": [
        "from torch.utils.data import Dataset\n",
        "import torchaudio\n",
        "from torch.nn.utils.rnn import pad_sequence\n",
        "import torch\n",
        "from torch.utils.data import DataLoader\n",
        "from torch.nn import functional as F\n",
        "\n",
        "device = torch.device(\"cuda\" if torch.cuda.is_available() else \"cpu\")\n",
        "\n",
        "text_pipeline = lambda x: vocab(tokenizer(x))\n",
        "label_pipeline = lambda x: int(x)\n",
        "\n",
        "\n",
        "class AudioDataset(Dataset):\n",
        "  def __init__(self, dataset: pd.DataFrame):\n",
        "      self.lyrics = dataset['Lyric'].tolist()\n",
        "      self.labels = dataset[\"Label\"].tolist()\n",
        "\n",
        "  def __len__(self):\n",
        "      return len(self.lyrics)\n",
        "\n",
        "  def __getitem__(self, index: int):\n",
        "      feat = clean_lyrics(self.lyrics[index])\n",
        "      label = int(self.labels[index])\n",
        "      \n",
        "      return (label, feat)\n",
        "  \n",
        "  def collate_fn(batch):\n",
        "      label_list = [torch.tensor(label_pipeline(b[0])) for b in batch]\n",
        "      feat_list = [torch.tensor(text_pipeline(b[1])) for b in batch]\n",
        "\n",
        "      feats = torch.nn.utils.rnn.pad_sequence(feat_list, batch_first = True)\n",
        "      labels = torch.tensor(label_list, dtype=torch.int64)\n",
        "\n",
        "      \"\"\"\n",
        "      print(f\"Features shape: {feats.shape}\")\n",
        "      print(f\"Labels shape: {labels.shape}\")\n",
        "      print(f\"Length of tensor: {len(feats[1])}\")\n",
        "      translation = []\n",
        "      [translation.append(\" \" + str(vocab.lookup_token(word.item()))) for word in feats[1]]\n",
        "      translation = ''.join(translation)\n",
        "      print(f\"Translated tensor: {translation}\")\n",
        "      print(f\"Corresponding label: {decode_labels[labels[1].item()]}\")\n",
        "      \"\"\"\n",
        "\n",
        "      return feats.to(device), labels.to(device)\n",
        "\n",
        "    \n",
        "pred_iter = AudioDataset(dataset=prediction_df)\n",
        "\n",
        "from torchtext.data.utils import get_tokenizer\n",
        "from torchtext.vocab import build_vocab_from_iterator\n",
        "\n",
        "tokenizer = get_tokenizer('basic_english')\n",
        "\n",
        "def yield_tokens(data_iter):\n",
        "    for _, text in data_iter:\n",
        "        yield tokenizer(text)\n",
        "\n",
        "#vocab = build_vocab_from_iterator(yield_tokens(pred_iter), specials=[\"<pad>\",\"<unk>\"], min_freq = 500)\n",
        "#vocab.set_default_index(vocab[\"<unk>\"])\n",
        "\n",
        "dataloader = DataLoader(pred_iter, batch_size=1, shuffle=False, collate_fn=AudioDataset.collate_fn)\n",
        "\n",
        "\n",
        "Y_preds = []\n",
        "with torch.no_grad():\n",
        "  for X, Y in dataloader:\n",
        "            preds = model(X)\n",
        "            Y_preds.append(preds)\n",
        "  gc.collect()\n",
        "\n",
        "\n",
        "decode_labels[F.softmax(Y_preds[0], dim=-1).argmax(dim=-1).cpu().detach().numpy().item()]"
      ],
      "metadata": {
        "colab": {
          "base_uri": "https://localhost:8080/",
          "height": 36
        },
        "id": "O-k6TJ84WqPT",
        "outputId": "e320b04c-ed19-471f-b187-1c4bad17a62f"
      },
      "execution_count": 75,
      "outputs": [
        {
          "output_type": "execute_result",
          "data": {
            "text/plain": [
              "'Heavy Metal'"
            ],
            "application/vnd.google.colaboratory.intrinsic+json": {
              "type": "string"
            }
          },
          "metadata": {},
          "execution_count": 75
        }
      ]
    }
  ]
}