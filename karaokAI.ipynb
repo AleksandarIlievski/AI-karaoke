{
  "cells": [
    {
      "cell_type": "markdown",
      "metadata": {
        "id": "Jvv9-YPh7peb"
      },
      "source": [
        "# Download YouTube Video"
      ]
    },
    {
      "cell_type": "code",
      "execution_count": null,
      "metadata": {
        "id": "zYL7qtzLC77u"
      },
      "outputs": [],
      "source": [
        "!pip install pytube\n",
        "!pip install pydub\n",
        "from pytube import YouTube\n",
        "from pydub import AudioSegment\n",
        "import librosa\n",
        "import soundfile as sf\n",
        "import os"
      ]
    },
    {
      "cell_type": "code",
      "source": [
        "from google.colab import drive\n",
        "drive.mount('/content/drive')"
      ],
      "metadata": {
        "id": "2g8yvBMhFUWq"
      },
      "execution_count": null,
      "outputs": []
    },
    {
      "cell_type": "code",
      "execution_count": null,
      "metadata": {
        "id": "zuyYSEcsC77u"
      },
      "outputs": [],
      "source": [
        "def download_yt_wav(link, video_path, file_name):\n",
        "  \"\"\"\n",
        "  Downloads an mp4 file of a YouTube video, transforms it into a wav file and sets the sample rate.\n",
        "  \"\"\"\n",
        "\n",
        "  # create a YouTube object of the video from the link in order to use this library\n",
        "  try: \n",
        "    yt = YouTube(link) \n",
        "  except: \n",
        "      print(\"Connection Error\")\n",
        "  \n",
        "  # use this to check out different stream options for mp4 download such as resolution and fps, pick the tag with the options we want for the download\n",
        "  #yt.streams.filter(file_extension='mp4')\n",
        "\n",
        "  # we want option 139: <Stream: itag=\"139\" mime_type=\"audio/mp4\" abr=\"48kbps\" acodec=\"mp4a.40.5\" progressive=\"False\" type=\"audio\">\n",
        "  youtube = YouTube(link)\n",
        "  audio_stream = youtube \\\n",
        "    .streams \\\n",
        "    .filter(progressive=True, file_extension='mp4') \\\n",
        "    .order_by('bitrate') \\\n",
        "    .last()\n",
        "  audio_stream.download(\n",
        "    output_path=os.path.dirname(\"video_path\"),\n",
        "    filename=os.path.basename(video_path + '/'+ file_name + '.mp4'))\n",
        "\n",
        "  # take the saved mp4 file\n",
        "  given_audio = AudioSegment.from_file(video_path + '/'+ file_name + '.mp4', format=\"mp4\")   \n",
        "\n",
        "  # and transform it into a wav file with the same name\n",
        "  given_audio.export(file_name + \".wav\", format=\"wav\")\n",
        "\n",
        "  # read the wav file, change the sample rate to 16000 and write that file to replace the old one\n",
        "  sp, rate = sf.read(file_name + \".wav\")\n",
        "  sp= librosa.resample(sp.T, rate, 16000)\n",
        "  sf.write(file_name + \".wav\", sp.T, 16000, subtype='PCM_24')"
      ]
    },
    {
      "cell_type": "code",
      "execution_count": null,
      "metadata": {
        "id": "Uplvz18UC77v"
      },
      "outputs": [],
      "source": [
        "!pip install youtube-dl pydub"
      ]
    },
    {
      "cell_type": "code",
      "execution_count": null,
      "metadata": {
        "id": "xPg1ZJXI_V-2"
      },
      "outputs": [],
      "source": [
        "import matplotlib\n",
        "import matplotlib.pyplot as plt\n",
        "import os\n",
        "import re\n",
        "import torch\n",
        "import torchaudio\n",
        "\n",
        "import IPython\n",
        "\n",
        "from dataclasses import dataclass\n",
        "from pydub import AudioSegment"
      ]
    },
    {
      "cell_type": "code",
      "execution_count": null,
      "metadata": {
        "id": "PvdNRGOE_Ylw"
      },
      "outputs": [],
      "source": [
        "# video_id = \"dQw4w9WgXcQ\" # rick roll\n",
        "# video_id = \"7wtfhZwyrcc\" # believer\n",
        "video_id = \"b1kbLwvqugk\" # taylor\n",
        "# video_id = \"dNCWe_6HAM8\" # money \n",
        "# video_id = \"ru0K8uYEZWw\" # CAN'T STOP THE FEELING!\n",
        "# video_id = \"XbGs_qK2PQA\" # rap god"
      ]
    },
    {
      "cell_type": "code",
      "execution_count": null,
      "metadata": {
        "id": "UIKW84yh4bXS"
      },
      "outputs": [],
      "source": [
        "# Download the video using youtube-dl\n",
        "os.system(\"youtube-dl --extract-audio --audio-format wav --audio-quality 0 -o '%(id)s.%(ext)s' https://youtu.be/{}\".format(video_id))"
      ]
    },
    {
      "cell_type": "code",
      "execution_count": null,
      "metadata": {
        "id": "FvJUpvVsYK7M"
      },
      "outputs": [],
      "source": [
        "bundle = torchaudio.pipelines.WAV2VEC2_ASR_BASE_960H"
      ]
    },
    {
      "cell_type": "code",
      "execution_count": null,
      "metadata": {
        "id": "EuiWyfDDzI3h"
      },
      "outputs": [],
      "source": [
        "def get_wave(aud):\n",
        "  aud = aud.set_channels(1)\n",
        "  aud = aud.get_array_of_samples()\n",
        "  wave = torch.tensor(aud, dtype = torch.float)\n",
        "  wave = torch.reshape(wave, (1,wave.shape[0]))\n",
        "\n",
        "  return wave"
      ]
    },
    {
      "cell_type": "code",
      "execution_count": null,
      "metadata": {
        "id": "Ru8UVKPBHGhv"
      },
      "outputs": [],
      "source": [
        "# Load the audio file using pydub\n",
        "audio = AudioSegment.from_file(\"{}.wav\".format(video_id), format=\"wav\")\n",
        "\n",
        "waveform = get_wave(audio)\n",
        "print(waveform.shape)\n",
        "\n",
        "sr = audio.frame_rate\n",
        "print(sr)"
      ]
    },
    {
      "cell_type": "code",
      "execution_count": null,
      "metadata": {
        "id": "n1euKdjgFzHp"
      },
      "outputs": [],
      "source": [
        "file_path = \"{}.wav\".format(video_id)\n",
        "if os.path.isfile(file_path):\n",
        "    os.remove(file_path)\n",
        "    print(\"{} has been deleted.\".format(file_path))\n",
        "else:\n",
        "    print(\"{} does not exist.\".format(file_path))\n"
      ]
    },
    {
      "cell_type": "code",
      "execution_count": null,
      "metadata": {
        "id": "BQKL8oFxX0ZJ"
      },
      "outputs": [],
      "source": [
        "if sr != bundle.sample_rate:\n",
        "    waveform = torchaudio.functional.resample(waveform, sr, bundle.sample_rate)"
      ]
    },
    {
      "cell_type": "code",
      "execution_count": null,
      "metadata": {
        "id": "iifxgObxnHrT"
      },
      "outputs": [],
      "source": [
        "print(torch.__version__)\n",
        "print(torchaudio.__version__)\n",
        "\n",
        "device = torch.device(\"cuda\" if torch.cuda.is_available() else \"cpu\")\n",
        "print(device)"
      ]
    },
    {
      "cell_type": "code",
      "execution_count": null,
      "metadata": {
        "id": "r628HnmNnHrX"
      },
      "outputs": [],
      "source": [
        "# %matplotlib inline\n",
        "\n",
        "matplotlib.rcParams[\"figure.figsize\"] = [16.0, 4.8]"
      ]
    },
    {
      "cell_type": "code",
      "execution_count": null,
      "metadata": {
        "id": "yVFUp1a94dc_"
      },
      "outputs": [],
      "source": [
        "torch.cuda.empty_cache()"
      ]
    },
    {
      "cell_type": "code",
      "execution_count": null,
      "metadata": {
        "id": "wOpyyxoXhDYy"
      },
      "outputs": [],
      "source": [
        "model = bundle.get_model().to(device)\n",
        "labels = bundle.get_labels()\n",
        "length = waveform.shape[1]\n",
        "chunks = []\n",
        "amount_chunks = 10\n",
        "chunks_length = length//amount_chunks\n",
        "for i in range(amount_chunks):\n",
        "  with torch.inference_mode():\n",
        "      emissions, _ = model(waveform[:, i * chunks_length: min(length, (i + 1) * chunks_length)].to(device))\n",
        "      emissions = torch.log_softmax(emissions, dim=-1)\n",
        "      chunks.append(emissions)\n",
        "\n",
        "emission = torch.cat(chunks, dim=1)[0].cpu().detach()"
      ]
    },
    {
      "cell_type": "code",
      "execution_count": null,
      "metadata": {
        "id": "4C4EgRj_4AiM"
      },
      "outputs": [],
      "source": [
        "rick_roll_lyrics = \"\"\"\n",
        "\n",
        "[Verse 1]\n",
        "We're no strangers to love\n",
        "You know the rules and so do I\n",
        "A full commitment's what I'm thinking of\n",
        "You wouldn't get this from any other guy\n",
        "\n",
        "[Pre-Chorus]\n",
        "I just wanna tell you how I'm feeling\n",
        "Gotta make you understand\n",
        "\n",
        "[Chorus]\n",
        "Never gonna give you up\n",
        "Never gonna let you down\n",
        "Never gonna run around and desert you\n",
        "Never gonna make you cry\n",
        "Never gonna say goodbye\n",
        "Never gonna tell a lie and hurt you\n",
        "\n",
        "[Verse 2]\n",
        "We've known each other for so long\n",
        "Your heart's been aching, but you're too shy to say it\n",
        "Inside, we both know what's been going on\n",
        "We know the game, and we're gonna play it\n",
        "\n",
        "[Pre-Chorus]\n",
        "And if you ask me how I'm feeling\n",
        "Don't tell me you're too blind to see\n",
        "\n",
        "[Chorus]\n",
        "Never gonna give you up\n",
        "Never gonna let you down\n",
        "Never gonna run around and desert you\n",
        "Never gonna make you cry\n",
        "Never gonna say goodbye\n",
        "Never gonna tell a lie and hurt you\n",
        "Never gonna give you up\n",
        "Never gonna let you down\n",
        "Never gonna run around and desert you\n",
        "Never gonna make you cry\n",
        "Never gonna say goodbye\n",
        "Never gonna tell a lie and hurt you\n",
        "\n",
        "[Post-Chorus]\n",
        "Ooh (Give you up)\n",
        "Ooh-ooh (Give you up)\n",
        "Ooh-ooh\n",
        "Never gonna give, never gonna give (Give you up)\n",
        "Ooh-ooh\n",
        "Never gonna give, never gonna give (Give you up)\n",
        "\n",
        "[Bridge]\n",
        "We've known each other for so long\n",
        "Your heart's been aching, but you're too shy to say it\n",
        "Inside, we both know what's been going on\n",
        "We know the game, and we're gonna play it\n",
        "\n",
        "[Pre-Chorus]\n",
        "I just wanna tell you how I'm feeling\n",
        "Gotta make you understand\n",
        "\n",
        "[Chorus]\n",
        "Never gonna give you up\n",
        "Never gonna let you down\n",
        "Never gonna run around and desert you\n",
        "Never gonna make you cry\n",
        "Never gonna say goodbye\n",
        "Never gonna tell a lie and hurt you\n",
        "Never gonna give you up\n",
        "Never gonna let you down\n",
        "Never gonna run around and desert you\n",
        "Never gonna make you cry\n",
        "Never gonna say goodbye\n",
        "Never gonna tell a lie and hurt you\n",
        "Never gonna give you up\n",
        "Never gonna let you down\n",
        "Never gonna run around and desert you\n",
        "Never gonna make you cry\n",
        "Never gonna say goodbye\n",
        "Never gonna tell a lie and hurt you\"\"\""
      ]
    },
    {
      "cell_type": "code",
      "execution_count": null,
      "metadata": {
        "id": "8vhAcqj74KEx"
      },
      "outputs": [],
      "source": [
        "believer_lyrics = \"\"\"[Verse 1]\n",
        "First things first\n",
        "I'ma say all the words inside my head\n",
        "I'm fired up and tired of\n",
        "The way that things have been, oh-ooh\n",
        "The way that things have been, oh-ooh\n",
        "\n",
        "[Verse 2]\n",
        "Second things second\n",
        "Don't you tell me what you think that I could be\n",
        "I'm the one at the sail\n",
        "I'm the master of my sea, oh-ooh\n",
        "The master of my sea, oh-ooh\n",
        "\n",
        "[Pre-Chorus]\n",
        "I was broken from a young age\n",
        "Taking my sulkin' to the masses\n",
        "Writing my poems for the few\n",
        "That look at me, took to me, shook at me, feelin' me\n",
        "Singing from heartache from the pain\n",
        "Taking my message from the veins\n",
        "Speaking my lesson from the brain\n",
        "Seeing the beauty through the...\n",
        "\n",
        "[Chorus]\n",
        "Pain! You made me a, you made me a\n",
        "Believer, believer\n",
        "Pain! You break me down, you build me up\n",
        "Believer, believer\n",
        "Pain! Oh, let the bullets fly, oh, let them rain\n",
        "My life, my love, my drive, it came from…\n",
        "Pain! You made me a, you made me a\n",
        "Believer, believer\n",
        "\n",
        "[Verse 3]\n",
        "Third things third\n",
        "Send a prayer to the ones up above\n",
        "All the hate that you've heard\n",
        "Has turned your spirit to a dove, oh-ooh\n",
        "Your spirit up above, oh-ooh\n",
        "\n",
        "[Pre-Chorus]\n",
        "I was chokin' in the crowd\n",
        "Building my rain up in the cloud\n",
        "Falling like ashes to the ground\n",
        "Hoping my feelings, they would drown\n",
        "But they never did, ever lived, ebbin' and flowin'\n",
        "Inhibited, limited 'til it broke open and rained down\n",
        "It rained down, like…\n",
        "\n",
        "[Chorus]\n",
        "Pain! You made me a, you made me a\n",
        "Believer, believer\n",
        "Pain! You break me down, you build me up\n",
        "Believer, believer\n",
        "Pain! Oh, let the bullets fly, oh, let them rain\n",
        "My life, my love, my drive, it came from…\n",
        "Pain! You made me a, you made me a\n",
        "Believer, believer\n",
        "\n",
        "[Verse 4]\n",
        "Last things last\n",
        "By the grace of the fire and the flames\n",
        "You're the face of the future\n",
        "The blood in my veins, oh-ooh\n",
        "The blood in my veins, oh-ooh\n",
        "\n",
        "[Pre-Chorus]\n",
        "But they never did, ever lived, ebbin' and flowin'\n",
        "Inhibited, limited 'til it broke open and rained down\n",
        "It rained down, like…\n",
        "\n",
        "[Chorus]\n",
        "Pain! You made me a, you made me a\n",
        "Believer, believer\n",
        "Pain! You break me down, you build me up\n",
        "Believer, believer\n",
        "Pain! Oh, let the bullets fly, oh, let them rain\n",
        "My life, my love, my drive, it came from…\n",
        "Pain! You made me a, you made me a\n",
        "Believer, believer\"\"\""
      ]
    },
    {
      "cell_type": "code",
      "execution_count": null,
      "metadata": {
        "id": "nZd2JpmJ2Me-"
      },
      "outputs": [],
      "source": [
        "taylor_lyrics = \"\"\"I have this thing where I get older but just never wiser\n",
        "Midnights become my afternoons\n",
        "When my depression works the graveyard shift\n",
        "All of the people I've ghosted stand there in the room\n",
        "I should not be left to my own devices\n",
        "They come with prices and vices\n",
        "I end up in crisis (tale as old as time)\n",
        "I wake up screaming from dreaming\n",
        "One day I'll watch as you're leaving\n",
        "'Cause you got tired of my scheming\n",
        "(For the last time)\n",
        "It's me, hi, I'm the problem, it's me\n",
        "At tea time, everybody agrees\n",
        "I'll stare directly at the sun but never in the mirror\n",
        "It must be exhausting always rooting for the anti-hero\n",
        "Sometimes I feel like everybody is a sexy baby\n",
        "And I'm a monster on the hill\n",
        "Too big to hang out, slowly lurching toward your favorite city\n",
        "Pierced through the heart, but never killed\n",
        "Did you hear my covert narcissism I disguise as altruism\n",
        "Like some kind of congressman? (Tale as old as time)\n",
        "I wake up screaming from dreaming\n",
        "One day I'll watch as you're leaving\n",
        "And life will lose all its meaning\n",
        "(For the last time)\n",
        "It's me, hi, I'm the problem, it's me (I'm the problem, it's me)\n",
        "At tea time, everybody agrees\n",
        "I'll stare directly at the sun but never in the mirror\n",
        "It must be exhausting always rooting for the anti-hero\n",
        "I have this dream my daughter in-law kills me for the money\n",
        "She thinks I left them in the will\n",
        "The family gathers 'round and reads it and then someone screams out\n",
        "\"She's laughing up at us from hell\"\n",
        "It's me, hi, I'm the problem, it's me\n",
        "It's me, hi, I'm the problem, it's me\n",
        "It's me, hi, everybody agrees, everybody agrees\n",
        "It's me, hi (hi), I'm the problem, it's me (I'm the problem, it's me)\n",
        "At tea (tea) time (time), everybody agrees (everybody agrees)\n",
        "I'll stare directly at the sun but never in the mirror\n",
        "It must be exhausting always rooting for the anti-hero\"\"\""
      ]
    },
    {
      "cell_type": "code",
      "execution_count": null,
      "metadata": {
        "id": "v76cM8M3v-Jk"
      },
      "outputs": [],
      "source": [
        "money_lyrics = \"\"\"[Verse 1]\n",
        "It's the end of the month and the weekend\n",
        "I'ma spend this check, everything on me, yeah\n",
        "I'ma tip myself, I'ma spend it on myself\n",
        "I'ma drop it like it's pourin', I'ma pour it on myself\n",
        "\n",
        "[Refrain]\n",
        "Che-che-che-check that money-makin' bank account number (Yikes)\n",
        "That's that shit that's never gettin' bounced on ya\n",
        "Bitch, I do the money dance, I just made a hundred bands\n",
        "When the store says, \"Sign for it,\" I'ma leave my autograph\n",
        "\n",
        "[Pre-Chorus]\n",
        "Dolla' bills, dolla' bills\n",
        "Watch it fallin' for me, I love the way that feels\n",
        "Dolla' bills, dolla' bills\n",
        "Keep on fallin' for me, I love the way it feels\n",
        "\n",
        "[Chorus]\n",
        "I came here to drop some money, droppin' all my money\n",
        "Drop some money, all this bread so yummy, yeah\n",
        "Twerkin', twerkin' when I buy the things I like\n",
        "Dolla', dollas droppin' on my ass tonight\n",
        "\n",
        "[Verse 2]\n",
        "Everyone silent, listen to my money talk\n",
        "Spend how I like it, yeah, everyone know what I mean, mean\n",
        "When they see green, when they see green, that mean go\n",
        "Give me what the hell I want, give me what the hell I want\n",
        "\n",
        "[Refrain]\n",
        "Check that money-makin' bank account number (Yikes)\n",
        "That's that shit that's never gettin' bounced on ya\n",
        "Bitch, I do the money dance, I just made a hundred bands\n",
        "When the store says, \"Sign for it,\" I'ma leave my autograph\n",
        "\n",
        "[Pre-Chorus]\n",
        "Dolla' bills, dolla' bills\n",
        "Watch it fallin' for me, I love the way that feels\n",
        "Dolla' bills, dolla' bills\n",
        "Keep on fallin' for me, I love the way it feels\n",
        "\n",
        "[Chorus]\n",
        "I came here to drop some money, droppin' all my money\n",
        "Drop some money, all this bread so yummy, yeah\n",
        "Twerkin', twerkin' when I buy the things I like\n",
        "Dolla', dollas droppin' on my ass tonight\n",
        "(Drop some money, droppin' all my money)\n",
        "(Drop some money, all this bread so yummy, yeah)\n",
        "Drop some money, droppin' all my money\n",
        "Drop some money, all this bread so yummy, yeah\n",
        "\n",
        "[Outro]\n",
        "My money moves, money I choose\n",
        "CELINE my shoes, walkin' on you, my money rules\n",
        "My money moves, money I choose\n",
        "Watch how my wons and yens and dollars be droppin' on you, you, you\n",
        "Dun, dun-dun-dun-dun-dun, dun\n",
        "Dun-dun-dun-dun-dun-dun\n",
        "Dun, dun-dun-dun-dun-dun, dun\n",
        "Droppin' on you\n",
        "Dun, dun-dun-dun-dun-dun, dun\n",
        "Dun-dun-dun-dun-dun-dun\n",
        "Dun, dun-dun-dun-dun-dun, dun\n",
        "Droppin' on you\"\"\""
      ]
    },
    {
      "cell_type": "code",
      "execution_count": null,
      "metadata": {
        "id": "LmtAu2sestZ3"
      },
      "outputs": [],
      "source": [
        "feeling_lyrics = \"\"\"[Verse 1]\n",
        "I got this feelin' inside my bones\n",
        "It goes electric, wavey when I turn it on\n",
        "All through my city, all through my home\n",
        "We're flyin' up, no ceilin', when we in our zone\n",
        "\n",
        "[Refrain]\n",
        "I got that sunshine in my pocket, got that good soul in my feet\n",
        "I feel that hot blood in my body when it drops (Ooh)\n",
        "I can't take my eyes up off it, movin' so phenomenally\n",
        "Room on lock, the way we rock it, so don't stop\n",
        "\n",
        "[Pre-Chorus]\n",
        "And under the lights when everything goes\n",
        "Nowhere to hide when I'm gettin' you close\n",
        "When we move, well, you already know\n",
        "So just imagine (Just imagine, just imagine)\n",
        "\n",
        "[Chorus]\n",
        "Nothin' I can see but you\n",
        "When you dance, dance, dance\n",
        "A feelin' good, good, creepin' up on you\n",
        "So just dance, dance, dance, come on\n",
        "All those things I shouldn't do\n",
        "But you dance, dance, dance\n",
        "And ain't nobody leavin' soon, so keep dancin'\n",
        "\n",
        "[Post-Chorus]\n",
        "I can't stop the feelin'\n",
        "So just dance, dance, dance\n",
        "I can't stop the feelin'\n",
        "So just dance, dance, dance, come on\n",
        "\n",
        "[Verse 2]\n",
        "Ooh, it's somethin' magical\n",
        "It's in the air, it's in my blood, it's rushin' on (Rushin' on)\n",
        "I don't need no reason, don't need control (Need control)\n",
        "I fly so high, no ceilin', when I'm in my zone\n",
        "\n",
        "[Refrain]\n",
        "'Cause I got that sunshine in my pocket, got that good soul in my feet\n",
        "I feel that hot blood in my body when it drops (Ooh)\n",
        "I can't take my eyes up off it, movin' so phenomenally\n",
        "Room on lock, the way we rock it, so don't stop\n",
        "\n",
        "[Pre-Chorus]\n",
        "And under the lights when everything goes\n",
        "Nowhere to hide when I'm gettin' you close\n",
        "When we move, well, you already know\n",
        "So just imagine (Just imagine, just imagine)\n",
        "\n",
        "[Chorus]\n",
        "Nothin' I can see but you\n",
        "When you dance, dance, dance\n",
        "A feelin' good, good, creepin' up on you\n",
        "So just dance, dance, dance, come on\n",
        "All those things I shouldn't do\n",
        "But you dance, dance, dance (No, no, no)\n",
        "And ain't nobody leavin' soon, so keep dancin'\n",
        "\n",
        "[Post-Chorus]\n",
        "I can't stop the feelin'\n",
        "So just dance, dance, dance\n",
        "I can't stop the feelin'\n",
        "So just dance, dance, dance, come on\n",
        "I can't stop the feelin' (Woo)\n",
        "So just dance, dance, dance\n",
        "I can't stop the feelin' (Yeah)\n",
        "So keep dancin', come on\n",
        "\n",
        "[Bridge]\n",
        "Oh\n",
        "Yeah, oh\n",
        "I can't stop the\n",
        "I can't stop the\n",
        "I can't stop the, I can't stop the\n",
        "\n",
        "[Chorus]\n",
        "(I can't stop the feelin')\n",
        "Nothin' I can see but you\n",
        "When you dance, dance, dance\n",
        "(I can't stop the feelin')\n",
        "A feelin' good, good, creepin' up on you\n",
        "So just dance, dance, dance, come on (Oh)\n",
        "(I can't stop the feelin')\n",
        "All those things I shouldn't do\n",
        "But you dance, dance, dance (Dance, dance, dance)\n",
        "(I can't stop the feelin')\n",
        "And ain't nobody leavin' soon, so keep dancin'\n",
        "(I can't stop the feelin')\n",
        "\n",
        "[Outro]\n",
        "Everybody sing\n",
        "Got this feelin' in my body\n",
        "(I can't stop the feelin')\n",
        "Got this feelin' in my body (Oh, no)\n",
        "(I can't stop the feelin')\n",
        "Wanna see you move your body (No, no, no)\n",
        "(I can't stop the feelin')\n",
        "Got this feelin' in my body, come on\n",
        "Break it down\n",
        "Got this feelin' in my body (Uh)\n",
        "I can't stop the feelin'\n",
        "Got this feeling in my body, come on (Ooh)\"\"\""
      ]
    },
    {
      "cell_type": "code",
      "execution_count": null,
      "metadata": {
        "id": "VmVyG50-z_bW"
      },
      "outputs": [],
      "source": [
        "rap_god_lyrics = \"\"\"[Intro]\n",
        "\"Look, I was gonna go easy on you not to hurt your feelings\"\n",
        "\"But I'm only going to get this one chance\" (Six minutes—, six minutes—)\n",
        "\"Something's wrong, I can feel it\" (Six minutes, Slim Shady, you're on!)\n",
        "\"Just a feeling I've got, like something's about to happen, but I don't know what. \n",
        "If that means what I think it means, we're in trouble, big trouble; \n",
        "And if he is as bananas as you say, I'm not taking any chances\"\n",
        "\"You are just what the doc ordered\"\n",
        "\n",
        "[Chorus]\n",
        "I'm beginnin' to feel like a Rap God, Rap God\n",
        "All my people from the front to the back nod, back nod\n",
        "Now, who thinks their arms are long enough to slap box, slap box?\n",
        "They said I rap like a robot, so call me Rap-bot\n",
        "\n",
        "[Verse 1]\n",
        "But for me to rap like a computer it must be in my genes\n",
        "I got a laptop in my back pocket\n",
        "My pen'll go off when I half-cock it\n",
        "Got a fat knot from that rap profit\n",
        "Made a livin' and a killin' off it\n",
        "Ever since Bill Clinton was still in office\n",
        "With Monica Lewinsky feelin' on his nutsack\n",
        "I'm an MC still as honest\n",
        "But as rude and as indecent as all hell\n",
        "Syllables, skill-a-holic (Kill 'em all with)\n",
        "This flippity dippity-hippity hip-hop\n",
        "You don't really wanna get into a pissin' match\n",
        "With this rappity brat, packin' a MAC in the back of the Ac'\n",
        "Backpack rap crap, yap-yap, yackety-yack\n",
        "And at the exact same time, I attempt these lyrical acrobat stunts while I'm practicin' that\n",
        "I'll still be able to break a motherfuckin' table\n",
        "Over the back of a couple of faggots and crack it in half\n",
        "Only realized it was ironic, I was signed to Aftermath after the fact\n",
        "How could I not blow? All I do is drop F-bombs\n",
        "Feel my wrath of attack\n",
        "Rappers are havin' a rough time period, here's a maxi pad\n",
        "It's actually disastrously bad for the wack\n",
        "While I'm masterfully constructing this masterpièce\n",
        "\n",
        "[Chorus]\n",
        "'Cause I'm beginnin' to feel like a Rap God, Rap God\n",
        "All my people from the front to the back nod, back nod\n",
        "Now, who thinks their arms are long enough to slap box, slap box?\n",
        "Let me show you maintainin' this shit ain't that hard, that hard\n",
        "Everybody want the key and the secret to rap immortality like Ι have got\n",
        "\n",
        "[Verse 2]\n",
        "Well, to be truthful the blueprint's\n",
        "Simply rage and youthful exuberance\n",
        "Everybody loves to root for a nuisance\n",
        "Hit the Earth like an asteroid\n",
        "Did nothing but shoot for the Moon since (Pew!)\n",
        "MCs get taken to school with this music\n",
        "'Cause I use it as a vehicle to \"bus the rhyme\"\n",
        "Now I lead a new school full of students\n",
        "Me? I'm a product of Rakim\n",
        "Lakim Shabazz, 2Pac, N.W.A, Cube, hey Doc, Ren\n",
        "Yella, Eazy, thank you, they got Slim\n",
        "Inspired enough to one day grow up, blow up and be in a position\n",
        "To meet Run–D.M.C., and induct them\n",
        "Into the motherfuckin' Rock and Roll Hall of Fame\n",
        "Even though I'll walk in the church and burst in a ball of flames\n",
        "Only Hall of Fame I'll be inducted in is the alcohol of fame\n",
        "On the wall of shame\n",
        "You fags think it's all a game, 'til I walk a flock of flames\n",
        "Off a plank and, tell me what in the fuck are you thinkin'?\n",
        "Little gay-lookin' boy\n",
        "So gay I can barely say it with a straight face, lookin' boy (Ha-ha!)\n",
        "You're witnessin' a mass-occur\n",
        "Like you're watching a church gathering take place, lookin' boy\n",
        "\"Oy vey, that boy's gay!\"—that's all they say, lookin' boy\n",
        "You get a thumbs up, pat on the back\n",
        "And a \"way to go\" from your label every day, lookin' boy\n",
        "Hey, lookin' boy! What you say, lookin' boy?\n",
        "I get a \"hell yeah\" from Dre, lookin' boy\n",
        "I'ma work for everything I have, never asked nobody for shit\n",
        "Get outta my face, lookin' boy!\n",
        "Basically, boy, you're never gonna be capable\n",
        "Of keepin' up with the same pace, lookin' boy, 'cause—\n",
        "\n",
        "[Chorus]\n",
        "I'm beginnin' to feel like a Rap God, Rap God\n",
        "All my people from the front to the back nod, back nod\n",
        "The way I'm racin' around the track, call me NASCAR, NASCAR\n",
        "Dale Earnhardt of the trailer park, the White Trash God\n",
        "Kneel before General Zod\n",
        "This planet's Krypton—no, Asgard, Asgard\n",
        "\n",
        "[Verse 3]\n",
        "So you'll be Thor and I'll be Odin\n",
        "You rodent, I'm omnipotent\n",
        "Let off, then I'm reloadin'\n",
        "Immediately with these bombs I'm totin'\n",
        "And I should not be woken\n",
        "I'm the walkin' dead, but I'm just a talkin' head, a zombie floatin'\n",
        "But I got your mom deep-throatin'\n",
        "I'm out my Ramen Noodle\n",
        "We have nothin' in common, poodle\n",
        "I'm a Doberman, pinch yourself in the arm and pay homage, pupil\n",
        "It's me, my honesty's brutal\n",
        "But it's honestly futile if I don't utilize what I do though\n",
        "For good at least once in a while\n",
        "So I wanna make sure somewhere in this chicken scratch I scribble and doodle enough rhymes\n",
        "To maybe try to help get some people through tough times\n",
        "But I gotta keep a few punchlines\n",
        "Just in case 'cause even you unsigned\n",
        "Rappers are hungry lookin' at me like it's lunchtime\n",
        "I know there was a time where once I\n",
        "Was king of the underground\n",
        "But I still rap like I'm on my Pharoahe Monch grind\n",
        "So I crunch rhymes, but sometimes when you combine\n",
        "Appeal with the skin color of mine\n",
        "You get too big and here they come tryin'\n",
        "To censor you like that one line\n",
        "I said on \"I'm Back\" from The Mathers LP 1 when I\n",
        "Tried to say I'll take seven kids from Columbine\n",
        "Put 'em all in a line, add an AK-47, a revolver and a 9\n",
        "See if I get away with it now that I ain't as big as I was, but I'm\n",
        "Morphin' into an immortal, comin' through the portal\n",
        "You're stuck in a time warp from 2004 though\n",
        "And I don't know what the fuck that you rhyme for\n",
        "You're pointless as Rapunzel with fuckin' cornrows\n",
        "You write normal? Fuck being normal!\n",
        "And I just bought a new raygun from the future\n",
        "Just to come and shoot ya, like when Fabolous made Ray J mad\n",
        "'Cause Fab said he looked like a fag at Mayweather's pad\n",
        "Singin' to a man while he played piano\n",
        "Man, oh man, that was a 24/7 special on the cable channel\n",
        "So Ray J went straight to the radio station\n",
        "The very next day, \"Hey Fab, I'ma kill you!\"\n",
        "Lyrics comin' at you at supersonic speed (J.J. Fad)\n",
        "Uh, summa-lumma, dooma-lumma, you assumin' I'm a human\n",
        "What I gotta do to get it through to you? I'm superhuman\n",
        "Innovative and I'm made of rubber so that anything you say is ricochetin' off of me and it'll glue to you and\n",
        "I'm devastating, more than ever demonstrating\n",
        "How to give a motherfuckin' audience a feeling like it's levitating\n",
        "Never fading, and I know the haters are forever waiting\n",
        "For the day that they can say I fell off, they'll be celebrating\n",
        "'Cause I know the way to get 'em motivated\n",
        "I make elevating music, you make elevator music\n",
        "\"Oh, he's too mainstream.\"\n",
        "Well, that's what they do when they get jealous, they confuse it\n",
        "\"It's not hip-hop, it's pop,\"—'cause I found a hella way to fuse it\n",
        "With rock, shock rap with Doc\n",
        "Throw on \"Lose Yourself\" and make 'em lose it\n",
        "\"I don't know how to make songs like that\n",
        "I don't know what words to use.\"\n",
        "Let me know when it occurs to you\n",
        "While I'm rippin' any one of these verses that versus you\n",
        "It's curtains, I'm inadvertently hurtin' you\n",
        "How many verses I gotta murder to\n",
        "Prove that if you were half as nice, your songs you could sacrifice virgins too?!\n",
        "Ugh, school flunky, pill junkie\n",
        "But look at the accolades these skills brung me\n",
        "Full of myself, but still hungry\n",
        "I bully myself 'cause I make me do what I put my mind to\n",
        "And I'm a million leagues above you\n",
        "Ill when I speak in tongues, but it's still tongue-in-cheek, fuck you\n",
        "I'm drunk, so, Satan, take the fucking wheel\n",
        "I'ma sleep in the front seat\n",
        "Bumpin' Heavy D and the Boyz, still \"Chunky but Funky\"\n",
        "But in my head there's something I can feel tugging and struggling\n",
        "Angels fight with devils and here's what they want from me\n",
        "They're askin' me to eliminate some of the women hate\n",
        "But if you take into consideration the bitter hatred\n",
        "I have, then you may be a little patient\n",
        "And more sympathetic to the situation\n",
        "And understand the discrimination\n",
        "But fuck it, life's handin' you lemons? Make lemonade then!\n",
        "But if I can't batter the women\n",
        "How the fuck am I supposed to bake 'em a cake then?\n",
        "Don't mistake him for Satan\n",
        "It's a fatal mistake if you think I need to be overseas and take a vacation\n",
        "To trip a broad, and make her fall on her face and\n",
        "Don't be a retard—be a king? Think not\n",
        "Why be a king when you can be a god?\"\"\""
      ]
    },
    {
      "cell_type": "code",
      "execution_count": null,
      "metadata": {
        "id": "BODyAPNE2eRf"
      },
      "outputs": [],
      "source": [
        "lyrics = taylor_lyrics\n",
        "lyrics = re.sub(r\"\\[.*?\\]\", \"\", lyrics, flags=re.MULTILINE)\n",
        "lyrics = re.sub(r\"’\", \"'\", lyrics)\n",
        "lyrics = re.sub(r\"[^a-zA-Z'’|-]|\\s\", \"|\", lyrics)\n",
        "transcript = lyrics.upper()\n",
        "transcript"
      ]
    },
    {
      "cell_type": "code",
      "execution_count": null,
      "metadata": {
        "id": "Rznzh7LnnHri"
      },
      "outputs": [],
      "source": [
        "dictionary = {c: i for i, c in enumerate(labels)}\n",
        "\n",
        "tokens = [dictionary[c] for c in transcript]\n",
        "print(list(zip(transcript, tokens)))\n",
        "\n",
        "\n",
        "def get_trellis(emission, tokens, blank_id=0):\n",
        "    num_frame = emission.size(0)\n",
        "    num_tokens = len(tokens)\n",
        "\n",
        "    # Trellis has extra diemsions for both time axis and tokens.\n",
        "    # The extra dim for tokens represents <SoS> (start-of-sentence)\n",
        "    # The extra dim for time axis is for simplification of the code.\n",
        "    trellis = torch.empty((num_frame + 1, num_tokens + 1))\n",
        "    trellis[0, 0] = 0\n",
        "    trellis[1:, 0] = torch.cumsum(emission[:, 0], 0)\n",
        "    trellis[0, -num_tokens:] = -float(\"inf\")\n",
        "    trellis[-num_tokens:, 0] = float(\"inf\")\n",
        "\n",
        "    for t in range(num_frame):\n",
        "        trellis[t + 1, 1:] = torch.maximum(\n",
        "            # Score for staying at the same token\n",
        "            trellis[t, 1:] + emission[t, blank_id],\n",
        "            # Score for changing to the next token\n",
        "            trellis[t, :-1] + emission[t, tokens],\n",
        "        )\n",
        "    return trellis\n",
        "\n",
        "\n",
        "trellis = get_trellis(emission, tokens)"
      ]
    },
    {
      "cell_type": "markdown",
      "metadata": {
        "id": "9Y3Mf-_qnHrk"
      },
      "source": [
        "## Find the most likely path (backtracking)\n",
        "\n",
        "Once the trellis is generated, we will traverse it following the\n",
        "elements with high probability.\n",
        "\n",
        "We will start from the last label index with the time step of highest\n",
        "probability, then, we traverse back in time, picking stay\n",
        "($c_j \\rightarrow c_j$) or transition\n",
        "($c_j \\rightarrow c_{j+1}$), based on the post-transition\n",
        "probability $k_{t, j} p(t+1, c_{j+1})$ or\n",
        "$k_{t, j+1} p(t+1, repeat)$.\n",
        "\n",
        "Transition is done once the label reaches the beginning.\n",
        "\n",
        "The trellis matrix is used for path-finding, but for the final\n",
        "probability of each segment, we take the frame-wise probability from\n",
        "emission matrix.\n",
        "\n",
        "\n"
      ]
    },
    {
      "cell_type": "code",
      "execution_count": null,
      "metadata": {
        "id": "6wMrjfxdnHrl"
      },
      "outputs": [],
      "source": [
        "@dataclass\n",
        "class Point:\n",
        "    token_index: int\n",
        "    time_index: int\n",
        "    score: float\n",
        "\n",
        "\n",
        "def backtrack(trellis, emission, tokens, blank_id=0):\n",
        "    # Note:\n",
        "    # j and t are indices for trellis, which has extra dimensions\n",
        "    # for time and tokens at the beginning.\n",
        "    # When referring to time frame index `T` in trellis,\n",
        "    # the corresponding index in emission is `T-1`.\n",
        "    # Similarly, when referring to token index `J` in trellis,\n",
        "    # the corresponding index in transcript is `J-1`.\n",
        "    j = trellis.size(1) - 1\n",
        "    t_start = torch.argmax(trellis[:, j]).item()\n",
        "\n",
        "    path = []\n",
        "    for t in range(t_start, 0, -1):\n",
        "        # 1. Figure out if the current position was stay or change\n",
        "        # Note (again):\n",
        "        # `emission[J-1]` is the emission at time frame `J` of trellis dimension.\n",
        "        # Score for token staying the same from time frame J-1 to T.\n",
        "        stayed = trellis[t - 1, j] + emission[t - 1, blank_id]\n",
        "        # Score for token changing from C-1 at T-1 to J at T.\n",
        "        changed = trellis[t - 1, j - 1] + emission[t - 1, tokens[j - 1]]\n",
        "\n",
        "        # 2. Store the path with frame-wise probability.\n",
        "        prob = emission[t - 1, tokens[j - 1] if changed > stayed else 0].exp().item()\n",
        "        # Return token index and time index in non-trellis coordinate.\n",
        "        path.append(Point(j - 1, t - 1, prob))\n",
        "\n",
        "        # 3. Update the token\n",
        "        if changed > stayed:\n",
        "            j -= 1\n",
        "            if j == 0:\n",
        "                break\n",
        "    else:\n",
        "        raise ValueError(\"Failed to align\")\n",
        "    return path[::-1]\n",
        "\n",
        "\n",
        "path = backtrack(trellis, emission, tokens)\n",
        "# for p in path:\n",
        "#     print(p)"
      ]
    },
    {
      "cell_type": "markdown",
      "metadata": {
        "id": "LJqXI3janHrm"
      },
      "source": [
        "### Visualization\n",
        "\n"
      ]
    },
    {
      "cell_type": "code",
      "execution_count": null,
      "metadata": {
        "id": "7zZZhxl1nHrm"
      },
      "outputs": [],
      "source": [
        "def plot_trellis_with_path(trellis, path):\n",
        "    # To plot trellis with path, we take advantage of 'nan' value\n",
        "    trellis_with_path = trellis.clone()\n",
        "    for _, p in enumerate(path):\n",
        "        trellis_with_path[p.time_index, p.token_index] = float(\"nan\")\n",
        "    plt.imshow(trellis_with_path[1:, 1:].T, origin=\"lower\")\n",
        "\n",
        "\n",
        "plot_trellis_with_path(trellis, path)\n",
        "plt.title(\"The path found by backtracking\")\n",
        "plt.show()"
      ]
    },
    {
      "cell_type": "markdown",
      "metadata": {
        "id": "193-aaO6nHrn"
      },
      "source": [
        "Looking good. Now this path contains repetations for the same labels, so\n",
        "let’s merge them to make it close to the original transcript.\n",
        "\n",
        "When merging the multiple path points, we simply take the average\n",
        "probability for the merged segments.\n",
        "\n",
        "\n"
      ]
    },
    {
      "cell_type": "code",
      "execution_count": null,
      "metadata": {
        "id": "dTmzO9WBnHrn"
      },
      "outputs": [],
      "source": [
        "# Merge the labels\n",
        "@dataclass\n",
        "class Segment:\n",
        "    label: str\n",
        "    start: int\n",
        "    end: int\n",
        "    score: float\n",
        "\n",
        "    def __repr__(self):\n",
        "        return f\"{self.label}\\t({self.score:4.2f}): [{self.start:5d}, {self.end:5d})\"\n",
        "\n",
        "    @property\n",
        "    def length(self):\n",
        "        return self.end - self.start\n",
        "\n",
        "\n",
        "def merge_repeats(path):\n",
        "    i1, i2 = 0, 0\n",
        "    segments = []\n",
        "    while i1 < len(path):\n",
        "        while i2 < len(path) and path[i1].token_index == path[i2].token_index:\n",
        "            i2 += 1\n",
        "        score = sum(path[k].score for k in range(i1, i2)) / (i2 - i1)\n",
        "        segments.append(\n",
        "            Segment(\n",
        "                transcript[path[i1].token_index],\n",
        "                path[i1].time_index,\n",
        "                path[i2 - 1].time_index + 1,\n",
        "                score,\n",
        "            )\n",
        "        )\n",
        "        i1 = i2\n",
        "    return segments\n",
        "\n",
        "\n",
        "segments = merge_repeats(path)\n",
        "# for seg in segments:\n",
        "#     print(seg)"
      ]
    },
    {
      "cell_type": "markdown",
      "metadata": {
        "id": "f0azSem7nHro"
      },
      "source": [
        "### Visualization\n",
        "\n"
      ]
    },
    {
      "cell_type": "markdown",
      "metadata": {
        "id": "TIVsRn3rnHrq"
      },
      "source": [
        "Looks good. Now let’s merge the words. The Wav2Vec2 model uses ``'|'``\n",
        "as the word boundary, so we merge the segments before each occurance of\n",
        "``'|'``.\n",
        "\n",
        "Then, finally, we segment the original audio into segmented audio and\n",
        "listen to them to see if the segmentation is correct.\n",
        "\n",
        "\n"
      ]
    },
    {
      "cell_type": "code",
      "execution_count": null,
      "metadata": {
        "id": "3wMoDWl9nHrs"
      },
      "outputs": [],
      "source": [
        "# Merge words\n",
        "def merge_words(segments, separator=\"|\"):\n",
        "    words = []\n",
        "    i1, i2 = 0, 0\n",
        "    while i1 < len(segments):\n",
        "        if i2 >= len(segments) or segments[i2].label == separator:\n",
        "            if i1 != i2:\n",
        "                segs = segments[i1:i2]\n",
        "                word = \"\".join([seg.label for seg in segs])\n",
        "                score = sum(seg.score * seg.length for seg in segs) / sum(seg.length for seg in segs)\n",
        "                words.append(Segment(word, segments[i1].start, segments[i2 - 1].end, score))\n",
        "            i1 = i2 + 1\n",
        "            i2 = i1\n",
        "        else:\n",
        "            i2 += 1\n",
        "    return words\n",
        "\n",
        "\n",
        "word_segments = merge_words(segments)\n",
        "for word in word_segments:\n",
        "    print(word)"
      ]
    },
    {
      "cell_type": "code",
      "execution_count": null,
      "metadata": {
        "id": "6DzxtTmxnwr5"
      },
      "outputs": [],
      "source": [
        "def calculate_timestamps(dict, timestamp, timestamp_old):\n",
        "    ratio = waveform.size(1) / (trellis.size(0) - 1)\n",
        "    i = 0\n",
        "    for word in word_segments:\n",
        "      x0 = int(ratio * word.start)\n",
        "      x1 = int(ratio * word.end)\n",
        "      timestamp_full = x0 / bundle.sample_rate\n",
        "      if i == 0:\n",
        "        timestamp = timestamp_full + timestamp_old\n",
        "      else:  \n",
        "        timestamp = timestamp_full - timestamp_old\n",
        "      dict.append((timestamp, word.label))\n",
        "      timestamp_old = timestamp_full\n",
        "      i += 1\n",
        "    timestamp_old = (waveform.size(1)/16000) - timestamp_full\n",
        "    return timestamp, timestamp_old\n",
        "\n",
        "\n",
        "dict = []\n",
        "timestamp = 0\n",
        "timestamp_old = 0\n",
        "timestamp, timestamp_old = calculate_timestamps(dict, timestamp, timestamp_old)"
      ]
    },
    {
      "cell_type": "code",
      "execution_count": null,
      "metadata": {
        "id": "lKgwkLNFw-3d"
      },
      "outputs": [],
      "source": [
        "from IPython.display import Audio, display\n",
        "def play_audio(waveform, sample_rate):\n",
        "  waveform = waveform.numpy()\n",
        "\n",
        "  num_channels, num_frames = waveform.shape\n",
        "  if num_channels == 1:\n",
        "    display(Audio(waveform[0], rate=sample_rate))\n",
        "  elif num_channels == 2:\n",
        "    display(Audio((waveform[0], waveform[1]), rate=sample_rate))\n",
        "  else:\n",
        "    raise ValueError(\"Waveform with more than 2 channels are not supported.\")\n",
        "\n",
        "play_audio(waveform, 16000)"
      ]
    },
    {
      "cell_type": "code",
      "execution_count": null,
      "metadata": {
        "id": "qZqK-IX1oMJ9"
      },
      "outputs": [],
      "source": [
        "# import time\n",
        "# for tuple in dict:\n",
        "#   time.sleep(tuple[0])\n",
        "#   print(tuple[1])"
      ]
    },
    {
      "cell_type": "markdown",
      "metadata": {
        "id": "Abt3GSLvnHrt"
      },
      "source": [
        "### Visualization\n",
        "\n"
      ]
    },
    {
      "cell_type": "code",
      "execution_count": null,
      "metadata": {
        "id": "9E9g0hvynHrx"
      },
      "outputs": [],
      "source": [
        "# A trick to embed the resulting audio to the generated file.\n",
        "# `IPython.display.Audio` has to be the last call in a cell,\n",
        "# and there should be only one call par cell.\n",
        "def display_segment(i):\n",
        "    ratio = waveform.size(1) / (trellis.size(0) - 1)\n",
        "    word = word_segments[i]\n",
        "    x0 = int(ratio * word.start)\n",
        "    x1 = int(ratio * word.end)\n",
        "    print(f\"{word.label} ({word.score:.2f}): {x0 / bundle.sample_rate:.3f} - {x1 / bundle.sample_rate:.3f} sec\")\n",
        "    segment = waveform[:, x0:x1]\n",
        "    return IPython.display.Audio(segment.numpy(), rate=bundle.sample_rate)"
      ]
    },
    {
      "cell_type": "code",
      "execution_count": null,
      "metadata": {
        "id": "0h2WVBG_If9b"
      },
      "outputs": [],
      "source": [
        "word_segments"
      ]
    },
    {
      "cell_type": "code",
      "execution_count": null,
      "metadata": {
        "id": "KtraHgbEnHry"
      },
      "outputs": [],
      "source": [
        "# Generate the audio for each segment\n",
        "print(transcript)\n",
        "# IPython.display.Audio(audio, rate=sr)"
      ]
    },
    {
      "cell_type": "code",
      "execution_count": null,
      "metadata": {
        "id": "tGEWa7HVnHr0"
      },
      "outputs": [],
      "source": [
        "display_segment(0)"
      ]
    },
    {
      "cell_type": "code",
      "execution_count": null,
      "metadata": {
        "id": "bnMPifFu-DkL"
      },
      "outputs": [],
      "source": [
        "ratio = waveform.size(1) / (trellis.size(0) - 1)\n",
        "\n",
        "start_at = 0\n",
        "end_at = start_at + 30\n",
        "\n",
        "x0 = int(ratio * word_segments[start_at].start)\n",
        "x1 = int(ratio * word_segments[end_at].end)\n",
        "segment = waveform[:, x0:x1]\n",
        "print(list(map(lambda x: x.label, word_segments[start_at:end_at + 1])))\n",
        "IPython.display.Audio(segment.numpy(), rate=bundle.sample_rate)"
      ]
    },
    {
      "cell_type": "markdown",
      "metadata": {
        "id": "2cYxlp9dnHr5"
      },
      "source": [
        "## Conclusion\n",
        "\n",
        "In this tutorial, we looked how to use torchaudio’s Wav2Vec2 model to\n",
        "perform CTC segmentation for forced alignment.\n",
        "\n",
        "\n"
      ]
    },
    {
      "cell_type": "code",
      "execution_count": null,
      "metadata": {
        "id": "Oczo-aQF1y5t"
      },
      "outputs": [],
      "source": [
        "!pip install jupyter-dash\n",
        "!pip install pytube"
      ]
    },
    {
      "cell_type": "markdown",
      "metadata": {
        "id": "q5r4fr-NkTmC"
      },
      "source": [
        "# Functions"
      ]
    },
    {
      "cell_type": "code",
      "execution_count": null,
      "metadata": {
        "id": "_tAGLtJW22L-"
      },
      "outputs": [],
      "source": [
        "import re"
      ]
    },
    {
      "cell_type": "code",
      "execution_count": null,
      "metadata": {
        "id": "Lmqgvp2x21n-"
      },
      "outputs": [],
      "source": [
        "def extract_video_id(link):\n",
        "    regExp = re.compile(r'^.*(youtu.be\\/|v\\/|u\\/\\w\\/|embed\\/|watch\\?v=|&v=)([^#&?]*).*')\n",
        "    match_id = regExp.match(link)\n",
        "    if match_id:\n",
        "        video_id = match_id.group(2)\n",
        "        print(video_id)\n",
        "        if len(video_id) == 11:\n",
        "            return video_id \n",
        "    return None"
      ]
    },
    {
      "cell_type": "markdown",
      "metadata": {
        "id": "q5r98YHbkoCD"
      },
      "source": [
        "# Website"
      ]
    },
    {
      "cell_type": "code",
      "execution_count": null,
      "metadata": {
        "id": "ysjNSJab2DeU"
      },
      "outputs": [],
      "source": [
        "from jupyter_dash import JupyterDash\n",
        "import dash_core_components as dcc\n",
        "import dash_html_components as html\n",
        "from dash.dependencies import Input, Output, State"
      ]
    },
    {
      "cell_type": "code",
      "execution_count": null,
      "metadata": {
        "id": "TCiI_-3o3Ag1"
      },
      "outputs": [],
      "source": [
        "external_stylesheets = ['https://codepen.io/chriddyp/pen/bWLwgP.css']\n",
        "app = JupyterDash(__name__, external_stylesheets=external_stylesheets)"
      ]
    },
    {
      "cell_type": "code",
      "execution_count": null,
      "metadata": {
        "id": "HAPZVSK6FfyX"
      },
      "outputs": [],
      "source": [
        "app.layout = html.Div([\n",
        "    html.H1(\"AI Karaoke\"),\n",
        "    # Yt link\n",
        "    html.Div([\n",
        "        dcc.Input(id=\"input_yt\", placeholder=\"Input Youtube Link\", style={'width': '600px', 'margin-right': '5px'}),\n",
        "        html.Button('Submit', id='btn_submit', n_clicks=0),\n",
        "        html.Div(id=\"initial_message\", children=\"Enter a YouTube link and transcript and press submit to load video\", style={'display': 'block'}),\n",
        "        html.Div(id=\"invalid_link_div\", children=\"Invalid YouTube link\", style={'color': 'red', 'display': 'none'}),\n",
        "    ], style={'margin-bottom': '30px'}),\n",
        "     \n",
        "    # video and transcript\n",
        "    html.Div([\n",
        "        html.Iframe(width=\"70%\", height=\"80%\", id='iframe_video', title=\"YouTube video player\", allow=\"accelerometer, autoplay, clipboard-write, encrypted-media, gyroscope, picture-in-picture \", style={'display': 'inline-block'}),\n",
        "        # TODO change input as you need\n",
        "        dcc.Input(id=\"input_transcript\", placeholder=\"Input transcript\", style={'width': '29%', 'height': '80%', 'display': 'inline-block'})\n",
        "    ], style={'height': '100vh', 'width': '100%', 'display': 'flex'})\n",
        "     \n",
        "])\n",
        "\n",
        "@app.callback(\n",
        "    [Output('iframe_video', 'src'),\n",
        "    Output('initial_message', 'style'),\n",
        "    Output('invalid_link_div', 'style')],\n",
        "    Input('btn_submit', 'n_clicks'),\n",
        "    State('input_yt', 'value')\n",
        ")\n",
        "def embed_video(n_clicks, link):\n",
        "    initial_message_style = {'display': 'block'}\n",
        "    invalid_style = {'color': 'red', 'display': 'none'}\n",
        "    src = \"\"\n",
        "    if n_clicks > 0:\n",
        "        video_id = extract_video_id(link)\n",
        "        if video_id:\n",
        "            src = f\"https://www.youtube.com/embed/{video_id}\"\n",
        "        else:\n",
        "            initial_message_style = {'display': 'none'}\n",
        "            invalid_style = {'color': 'red', 'display': 'block'}\n",
        "    return src, initial_message_style, invalid_style\n",
        "\n",
        "# TODO complete this callback for displaying lyrics (with highlight)\n",
        "# TODO add State for current video timestamp (so if the user jumps inside the video, it shows the lyrics of the selected timestamp)\n",
        "@app.callback(\n",
        "    Output('input_transcript', 'value'),\n",
        "    Input('btn_submit', 'n_clicks'),\n",
        "    State('input_transcript', 'value'),\n",
        "    State('input_yt', 'value')\n",
        ")\n",
        "def compute_force_alignment(n_clicks, transcript, link):\n",
        "    value = transcript\n",
        "    if n_clicks > 0:\n",
        "      #TODO compute alignment and current display of transcript\n",
        "      pass\n",
        "    return value"
      ]
    },
    {
      "cell_type": "code",
      "execution_count": null,
      "metadata": {
        "id": "iTqlZniJ3IJx"
      },
      "outputs": [],
      "source": [
        "# click link to open website in new tab\n",
        "if __name__ == '__main__':\n",
        "    app.run_server(mode='inline')"
      ]
    }
  ],
  "metadata": {
    "accelerator": "GPU",
    "colab": {
      "provenance": []
    },
    "gpuClass": "standard",
    "kernelspec": {
      "display_name": "Python 3",
      "language": "python",
      "name": "python3"
    },
    "language_info": {
      "codemirror_mode": {
        "name": "ipython",
        "version": 3
      },
      "file_extension": ".py",
      "mimetype": "text/x-python",
      "name": "python",
      "nbconvert_exporter": "python",
      "pygments_lexer": "ipython3",
      "version": "3.7.4"
    }
  },
  "nbformat": 4,
  "nbformat_minor": 0
}