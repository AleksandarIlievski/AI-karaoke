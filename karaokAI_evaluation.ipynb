{
  "cells": [
    {
      "cell_type": "code",
      "execution_count": null,
      "metadata": {
        "colab": {
          "base_uri": "https://localhost:8080/"
        },
        "id": "IhkvDlMlf8F6",
        "outputId": "35362b3e-4b34-44cc-ab52-30e6e850e24e"
      },
      "outputs": [
        {
          "output_type": "stream",
          "name": "stdout",
          "text": [
            "Looking in indexes: https://pypi.org/simple, https://us-python.pkg.dev/colab-wheels/public/simple/\n",
            "Collecting pytube\n",
            "  Downloading pytube-12.1.2-py3-none-any.whl (57 kB)\n",
            "\u001b[2K     \u001b[90m━━━━━━━━━━━━━━━━━━━━━━━━━━━━━━━━━━━━━━━\u001b[0m \u001b[32m57.0/57.0 KB\u001b[0m \u001b[31m684.2 kB/s\u001b[0m eta \u001b[36m0:00:00\u001b[0m\n",
            "\u001b[?25hCollecting pydub\n",
            "  Downloading pydub-0.25.1-py2.py3-none-any.whl (32 kB)\n",
            "Collecting youtube-dl\n",
            "  Downloading youtube_dl-2021.12.17-py2.py3-none-any.whl (1.9 MB)\n",
            "\u001b[2K     \u001b[90m━━━━━━━━━━━━━━━━━━━━━━━━━━━━━━━━━━━━━━━━\u001b[0m \u001b[32m1.9/1.9 MB\u001b[0m \u001b[31m37.2 MB/s\u001b[0m eta \u001b[36m0:00:00\u001b[0m\n",
            "\u001b[?25hCollecting spleeter\n",
            "  Downloading spleeter-2.3.2-py3-none-any.whl (51 kB)\n",
            "\u001b[2K     \u001b[90m━━━━━━━━━━━━━━━━━━━━━━━━━━━━━━━━━━━━━━━━\u001b[0m \u001b[32m51.2/51.2 KB\u001b[0m \u001b[31m2.2 MB/s\u001b[0m eta \u001b[36m0:00:00\u001b[0m\n",
            "\u001b[?25hRequirement already satisfied: tensorflow<3.0.0,>=2.5.0 in /usr/local/lib/python3.8/dist-packages (from spleeter) (2.9.2)\n",
            "Collecting norbert==0.2.1\n",
            "  Downloading norbert-0.2.1-py2.py3-none-any.whl (11 kB)\n",
            "Collecting typer<0.4.0,>=0.3.2\n",
            "  Downloading typer-0.3.2-py3-none-any.whl (21 kB)\n",
            "Requirement already satisfied: protobuf<4.0.0,>=3.19.4 in /usr/local/lib/python3.8/dist-packages (from spleeter) (3.19.6)\n",
            "Requirement already satisfied: librosa<0.9.0,>=0.8.0 in /usr/local/lib/python3.8/dist-packages (from spleeter) (0.8.1)\n",
            "Collecting httpx[http2]<0.20.0,>=0.19.0\n",
            "  Downloading httpx-0.19.0-py3-none-any.whl (77 kB)\n",
            "\u001b[2K     \u001b[90m━━━━━━━━━━━━━━━━━━━━━━━━━━━━━━━━━━━━━━━━\u001b[0m \u001b[32m77.3/77.3 KB\u001b[0m \u001b[31m1.7 MB/s\u001b[0m eta \u001b[36m0:00:00\u001b[0m\n",
            "\u001b[?25hCollecting llvmlite<0.39.0,>=0.38.0\n",
            "  Downloading llvmlite-0.38.1-cp38-cp38-manylinux_2_17_x86_64.manylinux2014_x86_64.whl (34.5 MB)\n",
            "\u001b[2K     \u001b[90m━━━━━━━━━━━━━━━━━━━━━━━━━━━━━━━━━━━━━━━━\u001b[0m \u001b[32m34.5/34.5 MB\u001b[0m \u001b[31m14.4 MB/s\u001b[0m eta \u001b[36m0:00:00\u001b[0m\n",
            "\u001b[?25hRequirement already satisfied: numpy<2.0.0,>=1.19.2 in /usr/local/lib/python3.8/dist-packages (from spleeter) (1.21.6)\n",
            "Requirement already satisfied: pandas<2.0,>=1.2 in /usr/local/lib/python3.8/dist-packages (from spleeter) (1.3.5)\n",
            "Collecting ffmpeg-python==0.2.0\n",
            "  Downloading ffmpeg_python-0.2.0-py3-none-any.whl (25 kB)\n",
            "Requirement already satisfied: future in /usr/local/lib/python3.8/dist-packages (from ffmpeg-python==0.2.0->spleeter) (0.16.0)\n",
            "Requirement already satisfied: scipy in /usr/local/lib/python3.8/dist-packages (from norbert==0.2.1->spleeter) (1.7.3)\n",
            "Collecting httpcore<0.14.0,>=0.13.3\n",
            "  Downloading httpcore-0.13.7-py3-none-any.whl (58 kB)\n",
            "\u001b[2K     \u001b[90m━━━━━━━━━━━━━━━━━━━━━━━━━━━━━━━━━━━━━━━━\u001b[0m \u001b[32m58.8/58.8 KB\u001b[0m \u001b[31m3.4 MB/s\u001b[0m eta \u001b[36m0:00:00\u001b[0m\n",
            "\u001b[?25hCollecting sniffio\n",
            "  Downloading sniffio-1.3.0-py3-none-any.whl (10 kB)\n",
            "Requirement already satisfied: charset-normalizer in /usr/local/lib/python3.8/dist-packages (from httpx[http2]<0.20.0,>=0.19.0->spleeter) (2.1.1)\n",
            "Collecting rfc3986[idna2008]<2,>=1.3\n",
            "  Downloading rfc3986-1.5.0-py2.py3-none-any.whl (31 kB)\n",
            "Requirement already satisfied: certifi in /usr/local/lib/python3.8/dist-packages (from httpx[http2]<0.20.0,>=0.19.0->spleeter) (2022.12.7)\n",
            "Collecting h2<5,>=3\n",
            "  Downloading h2-4.1.0-py3-none-any.whl (57 kB)\n",
            "\u001b[2K     \u001b[90m━━━━━━━━━━━━━━━━━━━━━━━━━━━━━━━━━━━━━━━\u001b[0m \u001b[32m57.5/57.5 KB\u001b[0m \u001b[31m918.8 kB/s\u001b[0m eta \u001b[36m0:00:00\u001b[0m\n",
            "\u001b[?25hRequirement already satisfied: scikit-learn!=0.19.0,>=0.14.0 in /usr/local/lib/python3.8/dist-packages (from librosa<0.9.0,>=0.8.0->spleeter) (1.0.2)\n",
            "Requirement already satisfied: pooch>=1.0 in /usr/local/lib/python3.8/dist-packages (from librosa<0.9.0,>=0.8.0->spleeter) (1.6.0)\n",
            "Requirement already satisfied: soundfile>=0.10.2 in /usr/local/lib/python3.8/dist-packages (from librosa<0.9.0,>=0.8.0->spleeter) (0.11.0)\n",
            "Requirement already satisfied: resampy>=0.2.2 in /usr/local/lib/python3.8/dist-packages (from librosa<0.9.0,>=0.8.0->spleeter) (0.4.2)\n",
            "Requirement already satisfied: numba>=0.43.0 in /usr/local/lib/python3.8/dist-packages (from librosa<0.9.0,>=0.8.0->spleeter) (0.56.4)\n",
            "Requirement already satisfied: joblib>=0.14 in /usr/local/lib/python3.8/dist-packages (from librosa<0.9.0,>=0.8.0->spleeter) (1.2.0)\n",
            "Requirement already satisfied: packaging>=20.0 in /usr/local/lib/python3.8/dist-packages (from librosa<0.9.0,>=0.8.0->spleeter) (21.3)\n",
            "Requirement already satisfied: decorator>=3.0.0 in /usr/local/lib/python3.8/dist-packages (from librosa<0.9.0,>=0.8.0->spleeter) (4.4.2)\n",
            "Requirement already satisfied: audioread>=2.0.0 in /usr/local/lib/python3.8/dist-packages (from librosa<0.9.0,>=0.8.0->spleeter) (3.0.0)\n",
            "Requirement already satisfied: python-dateutil>=2.7.3 in /usr/local/lib/python3.8/dist-packages (from pandas<2.0,>=1.2->spleeter) (2.8.2)\n",
            "Requirement already satisfied: pytz>=2017.3 in /usr/local/lib/python3.8/dist-packages (from pandas<2.0,>=1.2->spleeter) (2022.7)\n",
            "Requirement already satisfied: six>=1.12.0 in /usr/local/lib/python3.8/dist-packages (from tensorflow<3.0.0,>=2.5.0->spleeter) (1.15.0)\n",
            "Requirement already satisfied: absl-py>=1.0.0 in /usr/local/lib/python3.8/dist-packages (from tensorflow<3.0.0,>=2.5.0->spleeter) (1.3.0)\n",
            "Requirement already satisfied: h5py>=2.9.0 in /usr/local/lib/python3.8/dist-packages (from tensorflow<3.0.0,>=2.5.0->spleeter) (3.1.0)\n",
            "Requirement already satisfied: tensorboard<2.10,>=2.9 in /usr/local/lib/python3.8/dist-packages (from tensorflow<3.0.0,>=2.5.0->spleeter) (2.9.1)\n",
            "Requirement already satisfied: google-pasta>=0.1.1 in /usr/local/lib/python3.8/dist-packages (from tensorflow<3.0.0,>=2.5.0->spleeter) (0.2.0)\n",
            "Requirement already satisfied: gast<=0.4.0,>=0.2.1 in /usr/local/lib/python3.8/dist-packages (from tensorflow<3.0.0,>=2.5.0->spleeter) (0.4.0)\n",
            "Requirement already satisfied: setuptools in /usr/local/lib/python3.8/dist-packages (from tensorflow<3.0.0,>=2.5.0->spleeter) (57.4.0)\n",
            "Requirement already satisfied: tensorflow-io-gcs-filesystem>=0.23.1 in /usr/local/lib/python3.8/dist-packages (from tensorflow<3.0.0,>=2.5.0->spleeter) (0.29.0)\n",
            "Requirement already satisfied: astunparse>=1.6.0 in /usr/local/lib/python3.8/dist-packages (from tensorflow<3.0.0,>=2.5.0->spleeter) (1.6.3)\n",
            "Requirement already satisfied: grpcio<2.0,>=1.24.3 in /usr/local/lib/python3.8/dist-packages (from tensorflow<3.0.0,>=2.5.0->spleeter) (1.51.1)\n",
            "Requirement already satisfied: flatbuffers<2,>=1.12 in /usr/local/lib/python3.8/dist-packages (from tensorflow<3.0.0,>=2.5.0->spleeter) (1.12)\n",
            "Requirement already satisfied: libclang>=13.0.0 in /usr/local/lib/python3.8/dist-packages (from tensorflow<3.0.0,>=2.5.0->spleeter) (15.0.6.1)\n",
            "Requirement already satisfied: typing-extensions>=3.6.6 in /usr/local/lib/python3.8/dist-packages (from tensorflow<3.0.0,>=2.5.0->spleeter) (4.4.0)\n",
            "Requirement already satisfied: termcolor>=1.1.0 in /usr/local/lib/python3.8/dist-packages (from tensorflow<3.0.0,>=2.5.0->spleeter) (2.2.0)\n",
            "Requirement already satisfied: tensorflow-estimator<2.10.0,>=2.9.0rc0 in /usr/local/lib/python3.8/dist-packages (from tensorflow<3.0.0,>=2.5.0->spleeter) (2.9.0)\n",
            "Requirement already satisfied: opt-einsum>=2.3.2 in /usr/local/lib/python3.8/dist-packages (from tensorflow<3.0.0,>=2.5.0->spleeter) (3.3.0)\n",
            "Requirement already satisfied: keras-preprocessing>=1.1.1 in /usr/local/lib/python3.8/dist-packages (from tensorflow<3.0.0,>=2.5.0->spleeter) (1.1.2)\n",
            "Requirement already satisfied: keras<2.10.0,>=2.9.0rc0 in /usr/local/lib/python3.8/dist-packages (from tensorflow<3.0.0,>=2.5.0->spleeter) (2.9.0)\n",
            "Requirement already satisfied: wrapt>=1.11.0 in /usr/local/lib/python3.8/dist-packages (from tensorflow<3.0.0,>=2.5.0->spleeter) (1.14.1)\n",
            "Requirement already satisfied: click<7.2.0,>=7.1.1 in /usr/local/lib/python3.8/dist-packages (from typer<0.4.0,>=0.3.2->spleeter) (7.1.2)\n",
            "Requirement already satisfied: wheel<1.0,>=0.23.0 in /usr/local/lib/python3.8/dist-packages (from astunparse>=1.6.0->tensorflow<3.0.0,>=2.5.0->spleeter) (0.38.4)\n",
            "Collecting hpack<5,>=4.0\n",
            "  Downloading hpack-4.0.0-py3-none-any.whl (32 kB)\n",
            "Collecting hyperframe<7,>=6.0\n",
            "  Downloading hyperframe-6.0.1-py3-none-any.whl (12 kB)\n",
            "Collecting h11<0.13,>=0.11\n",
            "  Downloading h11-0.12.0-py3-none-any.whl (54 kB)\n",
            "\u001b[2K     \u001b[90m━━━━━━━━━━━━━━━━━━━━━━━━━━━━━━━━━━━━━━━━\u001b[0m \u001b[32m54.9/54.9 KB\u001b[0m \u001b[31m3.5 MB/s\u001b[0m eta \u001b[36m0:00:00\u001b[0m\n",
            "\u001b[?25hCollecting anyio==3.*\n",
            "  Downloading anyio-3.6.2-py3-none-any.whl (80 kB)\n",
            "\u001b[2K     \u001b[90m━━━━━━━━━━━━━━━━━━━━━━━━━━━━━━━━━━━━━━━━\u001b[0m \u001b[32m80.6/80.6 KB\u001b[0m \u001b[31m5.5 MB/s\u001b[0m eta \u001b[36m0:00:00\u001b[0m\n",
            "\u001b[?25hRequirement already satisfied: idna>=2.8 in /usr/local/lib/python3.8/dist-packages (from anyio==3.*->httpcore<0.14.0,>=0.13.3->httpx[http2]<0.20.0,>=0.19.0->spleeter) (2.10)\n",
            "Requirement already satisfied: importlib-metadata in /usr/local/lib/python3.8/dist-packages (from numba>=0.43.0->librosa<0.9.0,>=0.8.0->spleeter) (6.0.0)\n",
            "Collecting numba>=0.43.0\n",
            "  Downloading numba-0.56.3-cp38-cp38-manylinux2014_x86_64.manylinux_2_17_x86_64.whl (3.5 MB)\n",
            "\u001b[2K     \u001b[90m━━━━━━━━━━━━━━━━━━━━━━━━━━━━━━━━━━━━━━━━\u001b[0m \u001b[32m3.5/3.5 MB\u001b[0m \u001b[31m42.1 MB/s\u001b[0m eta \u001b[36m0:00:00\u001b[0m\n",
            "\u001b[?25h  Downloading numba-0.56.2-cp38-cp38-manylinux2014_x86_64.manylinux_2_17_x86_64.whl (3.5 MB)\n",
            "\u001b[2K     \u001b[90m━━━━━━━━━━━━━━━━━━━━━━━━━━━━━━━━━━━━━━━━\u001b[0m \u001b[32m3.5/3.5 MB\u001b[0m \u001b[31m23.3 MB/s\u001b[0m eta \u001b[36m0:00:00\u001b[0m\n",
            "\u001b[?25h  Downloading numba-0.56.0-cp38-cp38-manylinux2014_x86_64.manylinux_2_17_x86_64.whl (3.5 MB)\n",
            "\u001b[2K     \u001b[90m━━━━━━━━━━━━━━━━━━━━━━━━━━━━━━━━━━━━━━━━\u001b[0m \u001b[32m3.5/3.5 MB\u001b[0m \u001b[31m73.7 MB/s\u001b[0m eta \u001b[36m0:00:00\u001b[0m\n",
            "\u001b[?25h  Downloading numba-0.55.2-cp38-cp38-manylinux2014_x86_64.manylinux_2_17_x86_64.whl (3.4 MB)\n",
            "\u001b[2K     \u001b[90m━━━━━━━━━━━━━━━━━━━━━━━━━━━━━━━━━━━━━━━━\u001b[0m \u001b[32m3.4/3.4 MB\u001b[0m \u001b[31m73.7 MB/s\u001b[0m eta \u001b[36m0:00:00\u001b[0m\n",
            "\u001b[?25hRequirement already satisfied: pyparsing!=3.0.5,>=2.0.2 in /usr/local/lib/python3.8/dist-packages (from packaging>=20.0->librosa<0.9.0,>=0.8.0->spleeter) (3.0.9)\n",
            "Requirement already satisfied: requests>=2.19.0 in /usr/local/lib/python3.8/dist-packages (from pooch>=1.0->librosa<0.9.0,>=0.8.0->spleeter) (2.25.1)\n",
            "Requirement already satisfied: appdirs>=1.3.0 in /usr/local/lib/python3.8/dist-packages (from pooch>=1.0->librosa<0.9.0,>=0.8.0->spleeter) (1.4.4)\n",
            "Requirement already satisfied: threadpoolctl>=2.0.0 in /usr/local/lib/python3.8/dist-packages (from scikit-learn!=0.19.0,>=0.14.0->librosa<0.9.0,>=0.8.0->spleeter) (3.1.0)\n",
            "Requirement already satisfied: cffi>=1.0 in /usr/local/lib/python3.8/dist-packages (from soundfile>=0.10.2->librosa<0.9.0,>=0.8.0->spleeter) (1.15.1)\n",
            "Requirement already satisfied: markdown>=2.6.8 in /usr/local/lib/python3.8/dist-packages (from tensorboard<2.10,>=2.9->tensorflow<3.0.0,>=2.5.0->spleeter) (3.4.1)\n",
            "Requirement already satisfied: tensorboard-data-server<0.7.0,>=0.6.0 in /usr/local/lib/python3.8/dist-packages (from tensorboard<2.10,>=2.9->tensorflow<3.0.0,>=2.5.0->spleeter) (0.6.1)\n",
            "Requirement already satisfied: werkzeug>=1.0.1 in /usr/local/lib/python3.8/dist-packages (from tensorboard<2.10,>=2.9->tensorflow<3.0.0,>=2.5.0->spleeter) (1.0.1)\n",
            "Requirement already satisfied: google-auth-oauthlib<0.5,>=0.4.1 in /usr/local/lib/python3.8/dist-packages (from tensorboard<2.10,>=2.9->tensorflow<3.0.0,>=2.5.0->spleeter) (0.4.6)\n",
            "Requirement already satisfied: tensorboard-plugin-wit>=1.6.0 in /usr/local/lib/python3.8/dist-packages (from tensorboard<2.10,>=2.9->tensorflow<3.0.0,>=2.5.0->spleeter) (1.8.1)\n",
            "Requirement already satisfied: google-auth<3,>=1.6.3 in /usr/local/lib/python3.8/dist-packages (from tensorboard<2.10,>=2.9->tensorflow<3.0.0,>=2.5.0->spleeter) (2.16.0)\n",
            "Requirement already satisfied: pycparser in /usr/local/lib/python3.8/dist-packages (from cffi>=1.0->soundfile>=0.10.2->librosa<0.9.0,>=0.8.0->spleeter) (2.21)\n",
            "Requirement already satisfied: pyasn1-modules>=0.2.1 in /usr/local/lib/python3.8/dist-packages (from google-auth<3,>=1.6.3->tensorboard<2.10,>=2.9->tensorflow<3.0.0,>=2.5.0->spleeter) (0.2.8)\n",
            "Requirement already satisfied: rsa<5,>=3.1.4 in /usr/local/lib/python3.8/dist-packages (from google-auth<3,>=1.6.3->tensorboard<2.10,>=2.9->tensorflow<3.0.0,>=2.5.0->spleeter) (4.9)\n",
            "Requirement already satisfied: cachetools<6.0,>=2.0.0 in /usr/local/lib/python3.8/dist-packages (from google-auth<3,>=1.6.3->tensorboard<2.10,>=2.9->tensorflow<3.0.0,>=2.5.0->spleeter) (5.2.1)\n",
            "Requirement already satisfied: requests-oauthlib>=0.7.0 in /usr/local/lib/python3.8/dist-packages (from google-auth-oauthlib<0.5,>=0.4.1->tensorboard<2.10,>=2.9->tensorflow<3.0.0,>=2.5.0->spleeter) (1.3.1)\n",
            "Requirement already satisfied: urllib3<1.27,>=1.21.1 in /usr/local/lib/python3.8/dist-packages (from requests>=2.19.0->pooch>=1.0->librosa<0.9.0,>=0.8.0->spleeter) (1.24.3)\n",
            "Requirement already satisfied: chardet<5,>=3.0.2 in /usr/local/lib/python3.8/dist-packages (from requests>=2.19.0->pooch>=1.0->librosa<0.9.0,>=0.8.0->spleeter) (4.0.0)\n",
            "Requirement already satisfied: zipp>=0.5 in /usr/local/lib/python3.8/dist-packages (from importlib-metadata->numba>=0.43.0->librosa<0.9.0,>=0.8.0->spleeter) (3.11.0)\n",
            "Requirement already satisfied: pyasn1<0.5.0,>=0.4.6 in /usr/local/lib/python3.8/dist-packages (from pyasn1-modules>=0.2.1->google-auth<3,>=1.6.3->tensorboard<2.10,>=2.9->tensorflow<3.0.0,>=2.5.0->spleeter) (0.4.8)\n",
            "Requirement already satisfied: oauthlib>=3.0.0 in /usr/local/lib/python3.8/dist-packages (from requests-oauthlib>=0.7.0->google-auth-oauthlib<0.5,>=0.4.1->tensorboard<2.10,>=2.9->tensorflow<3.0.0,>=2.5.0->spleeter) (3.2.2)\n",
            "Installing collected packages: youtube-dl, rfc3986, pydub, typer, sniffio, pytube, llvmlite, hyperframe, hpack, h11, ffmpeg-python, numba, norbert, h2, anyio, httpcore, httpx, spleeter\n",
            "  Attempting uninstall: typer\n",
            "    Found existing installation: typer 0.7.0\n",
            "    Uninstalling typer-0.7.0:\n",
            "      Successfully uninstalled typer-0.7.0\n",
            "  Attempting uninstall: llvmlite\n",
            "    Found existing installation: llvmlite 0.39.1\n",
            "    Uninstalling llvmlite-0.39.1:\n",
            "      Successfully uninstalled llvmlite-0.39.1\n",
            "  Attempting uninstall: numba\n",
            "    Found existing installation: numba 0.56.4\n",
            "    Uninstalling numba-0.56.4:\n",
            "      Successfully uninstalled numba-0.56.4\n",
            "Successfully installed anyio-3.6.2 ffmpeg-python-0.2.0 h11-0.12.0 h2-4.1.0 hpack-4.0.0 httpcore-0.13.7 httpx-0.19.0 hyperframe-6.0.1 llvmlite-0.38.1 norbert-0.2.1 numba-0.55.2 pydub-0.25.1 pytube-12.1.2 rfc3986-1.5.0 sniffio-1.3.0 spleeter-2.3.2 typer-0.3.2 youtube-dl-2021.12.17\n",
            "Looking in indexes: https://pypi.org/simple, https://us-python.pkg.dev/colab-wheels/public/simple/\n",
            "Collecting transformers\n",
            "  Downloading transformers-4.26.0-py3-none-any.whl (6.3 MB)\n",
            "\u001b[2K     \u001b[90m━━━━━━━━━━━━━━━━━━━━━━━━━━━━━━━━━━━━━━━━\u001b[0m \u001b[32m6.3/6.3 MB\u001b[0m \u001b[31m95.9 MB/s\u001b[0m eta \u001b[36m0:00:00\u001b[0m\n",
            "\u001b[?25hRequirement already satisfied: regex!=2019.12.17 in /usr/local/lib/python3.8/dist-packages (from transformers) (2022.6.2)\n",
            "Requirement already satisfied: requests in /usr/local/lib/python3.8/dist-packages (from transformers) (2.25.1)\n",
            "Requirement already satisfied: packaging>=20.0 in /usr/local/lib/python3.8/dist-packages (from transformers) (21.3)\n",
            "Requirement already satisfied: filelock in /usr/local/lib/python3.8/dist-packages (from transformers) (3.9.0)\n",
            "Requirement already satisfied: numpy>=1.17 in /usr/local/lib/python3.8/dist-packages (from transformers) (1.21.6)\n",
            "Collecting tokenizers!=0.11.3,<0.14,>=0.11.1\n",
            "  Downloading tokenizers-0.13.2-cp38-cp38-manylinux_2_17_x86_64.manylinux2014_x86_64.whl (7.6 MB)\n",
            "\u001b[2K     \u001b[90m━━━━━━━━━━━━━━━━━━━━━━━━━━━━━━━━━━━━━━━━\u001b[0m \u001b[32m7.6/7.6 MB\u001b[0m \u001b[31m125.4 MB/s\u001b[0m eta \u001b[36m0:00:00\u001b[0m\n",
            "\u001b[?25hRequirement already satisfied: pyyaml>=5.1 in /usr/local/lib/python3.8/dist-packages (from transformers) (6.0)\n",
            "Requirement already satisfied: tqdm>=4.27 in /usr/local/lib/python3.8/dist-packages (from transformers) (4.64.1)\n",
            "Collecting huggingface-hub<1.0,>=0.11.0\n",
            "  Downloading huggingface_hub-0.12.0-py3-none-any.whl (190 kB)\n",
            "\u001b[2K     \u001b[90m━━━━━━━━━━━━━━━━━━━━━━━━━━━━━━━━━━━━━━\u001b[0m \u001b[32m190.3/190.3 KB\u001b[0m \u001b[31m24.9 MB/s\u001b[0m eta \u001b[36m0:00:00\u001b[0m\n",
            "\u001b[?25hRequirement already satisfied: typing-extensions>=3.7.4.3 in /usr/local/lib/python3.8/dist-packages (from huggingface-hub<1.0,>=0.11.0->transformers) (4.4.0)\n",
            "Requirement already satisfied: pyparsing!=3.0.5,>=2.0.2 in /usr/local/lib/python3.8/dist-packages (from packaging>=20.0->transformers) (3.0.9)\n",
            "Requirement already satisfied: idna<3,>=2.5 in /usr/local/lib/python3.8/dist-packages (from requests->transformers) (2.10)\n",
            "Requirement already satisfied: urllib3<1.27,>=1.21.1 in /usr/local/lib/python3.8/dist-packages (from requests->transformers) (1.24.3)\n",
            "Requirement already satisfied: chardet<5,>=3.0.2 in /usr/local/lib/python3.8/dist-packages (from requests->transformers) (4.0.0)\n",
            "Requirement already satisfied: certifi>=2017.4.17 in /usr/local/lib/python3.8/dist-packages (from requests->transformers) (2022.12.7)\n",
            "Installing collected packages: tokenizers, huggingface-hub, transformers\n",
            "Successfully installed huggingface-hub-0.12.0 tokenizers-0.13.2 transformers-4.26.0\n"
          ]
        }
      ],
      "source": [
        "!pip install pytube pydub youtube-dl spleeter"
      ]
    },
    {
      "cell_type": "markdown",
      "metadata": {
        "id": "m-2Yh86AC0Y-"
      },
      "source": [
        "## Algorithm"
      ]
    },
    {
      "cell_type": "code",
      "execution_count": null,
      "metadata": {
        "id": "8aXYcmHCE4Sq"
      },
      "outputs": [],
      "source": [
        "import IPython\n",
        "import os\n",
        "import pandas as pd\n",
        "import re\n",
        "import sys\n",
        "import shutil\n",
        "import torch\n",
        "import torchaudio\n",
        "from transformers import Wav2Vec2ForCTC, Wav2Vec2Processor\n",
        "\n",
        "from dataclasses import dataclass\n",
        "from io import BytesIO\n",
        "\n",
        "import plotly.express as px\n",
        "\n",
        "from pydub import AudioSegment\n",
        "from pytube import YouTube\n",
        "import librosa"
      ]
    },
    {
      "cell_type": "code",
      "execution_count": null,
      "metadata": {
        "id": "Y9OLHyWXgWJV"
      },
      "outputs": [],
      "source": [
        "device = torch.device(\"cuda\" if torch.cuda.is_available() else \"cpu\")"
      ]
    },
    {
      "cell_type": "code",
      "execution_count": null,
      "metadata": {
        "id": "v2vj76MsgY0y"
      },
      "outputs": [],
      "source": [
        "use_spleeter = True"
      ]
    },
    {
      "cell_type": "code",
      "execution_count": null,
      "metadata": {
        "id": "iiLINA5hgh8M",
        "colab": {
          "base_uri": "https://localhost:8080/",
          "height": 66,
          "referenced_widgets": [
            "707b1609519c463f88dd96402d23796c",
            "895a6659cee647f2a49923fbc993d739",
            "f634d33f7d614b4cb1b89043f8a70f57",
            "3dfb1cc70efc4519ac5c6337053c33e1",
            "388b527be3e64aca891ebadf9c16d9b9",
            "ef5df3f645cf474e811c3fcb8b205d86",
            "29e692a2974e45c38f6438b2c765df9f",
            "12df00dfe9224a84983698ec63afe3f9",
            "dddc7310dc4b4078aaf18d45287875a5",
            "3fad438ab39b4acdaa96e3fa7115590b",
            "3f6a50875653410bb3d25f9286698f4f"
          ]
        },
        "outputId": "e26c8485-1566-47f9-a38e-5de2a2db0069"
      },
      "outputs": [
        {
          "output_type": "stream",
          "name": "stderr",
          "text": [
            "Downloading: \"https://download.pytorch.org/torchaudio/models/wav2vec2_fairseq_base_ls960_asr_ls960.pth\" to /root/.cache/torch/hub/checkpoints/wav2vec2_fairseq_base_ls960_asr_ls960.pth\n"
          ]
        },
        {
          "output_type": "display_data",
          "data": {
            "text/plain": [
              "  0%|          | 0.00/360M [00:00<?, ?B/s]"
            ],
            "application/vnd.jupyter.widget-view+json": {
              "version_major": 2,
              "version_minor": 0,
              "model_id": "707b1609519c463f88dd96402d23796c"
            }
          },
          "metadata": {}
        }
      ],
      "source": [
        "bundle = torchaudio.pipelines.WAV2VEC2_ASR_BASE_960H\n",
        "labels = bundle.get_labels()\n",
        "model = bundle.get_model().to(device)\n",
        "dictionary = {c: i for i, c in enumerate(labels)}"
      ]
    },
    {
      "cell_type": "code",
      "execution_count": null,
      "metadata": {
        "id": "K8QaMG_cgjCn"
      },
      "outputs": [],
      "source": [
        "if use_spleeter:\n",
        "  from spleeter.separator import Separator\n",
        "  # Initialize the separator\n",
        "  separator = Separator('spleeter:2stems')"
      ]
    },
    {
      "cell_type": "code",
      "execution_count": null,
      "metadata": {
        "id": "BEVDb1iPgn9v"
      },
      "outputs": [],
      "source": [
        "def get_wave(aud):\n",
        "  aud = aud.set_channels(1)\n",
        "  aud = aud.get_array_of_samples()\n",
        "  wave = torch.tensor(aud, dtype = torch.float)\n",
        "  wave = torch.reshape(wave, (1,wave.shape[0]))\n",
        "\n",
        "  return wave"
      ]
    },
    {
      "cell_type": "code",
      "execution_count": null,
      "metadata": {
        "id": "_p-A5hWkqz1N"
      },
      "outputs": [],
      "source": [
        "def get_wav_sr(file_dir, filename):\n",
        "\n",
        "    file_path =  os.path.join(file_dir, filename)\n",
        "    audio_path =  file_path\n",
        "    filename = filename.split('.mp3')[0]\n",
        "\n",
        "    if use_spleeter:\n",
        "      separator.separate_to_file(file_path, \"/content/\")\n",
        "      audio_path = f\"/content/{filename}/vocals.wav\"\n",
        "\n",
        "    # Load the audio file using pydub\n",
        "    if use_spleeter:\n",
        "      audio = AudioSegment.from_file(audio_path, format=\"wav\")\n",
        "    else:\n",
        "      audio = AudioSegment.from_file(audio_path, format=\"mp3\")\n",
        "\n",
        "    waveform = get_wave(audio)\n",
        "    sr = audio.frame_rate\n",
        "\n",
        "    # Delete file\n",
        "    if use_spleeter:\n",
        "      if os.path.isfile(audio_path):\n",
        "          os.remove(audio_path)\n",
        "      else:\n",
        "          print(\"{} does not exist.\".format(file_path))\n",
        "\n",
        "      try:\n",
        "          shutil.rmtree(f\"/content/{filename}\")\n",
        "      except OSError as e:\n",
        "          print(\"Error: %s - %s.\" % (e.filename, e.strerror))\n",
        "        \n",
        "    # Resample\n",
        "    if sr != bundle.sample_rate:\n",
        "        waveform = torchaudio.functional.resample(waveform, sr, bundle.sample_rate)\n",
        "\n",
        "    return waveform"
      ]
    },
    {
      "cell_type": "code",
      "execution_count": null,
      "metadata": {
        "id": "jv596h-Dgydj"
      },
      "outputs": [],
      "source": [
        "def clean_lyrics(lyrics):\n",
        "    lyrics = re.sub(r\"\\[\\t.*\\n?\\]\", \"\", lyrics, flags=re.MULTILINE)\n",
        "    lyrics = re.sub(r\"’\", \"\", lyrics)\n",
        "    lyrics = re.sub(r\"'\", \"\", lyrics)\n",
        "    lyrics = re.sub(r\"\\s\\s+\" , \" \", lyrics)\n",
        "    lyrics = re.sub(r\"[^a-zA-Z|-]|\\s\", \"|\", lyrics)\n",
        "    lyrics = re.sub(r\"\\|\\|+\" , \"|\", lyrics)\n",
        "    if lyrics[-1] == \"|\":\n",
        "      lyrics = lyrics[:-1]\n",
        "    return lyrics.upper()"
      ]
    },
    {
      "cell_type": "code",
      "execution_count": null,
      "metadata": {
        "id": "MLIkCLq0gzhz"
      },
      "outputs": [],
      "source": [
        "def calculate_emission(waveform):\n",
        "    torch.cuda.empty_cache()    \n",
        "    \n",
        "    length = waveform.shape[1]\n",
        "    chunks = []\n",
        "    amount_chunks = 10\n",
        "    chunks_length = length//amount_chunks\n",
        "    for i in range(amount_chunks):\n",
        "        with torch.inference_mode():\n",
        "            emissions, _ = model(waveform[:, i * chunks_length: min(length, (i + 1) * chunks_length)].to(device))\n",
        "            emissions = torch.log_softmax(emissions, dim=-1)\n",
        "            chunks.append(emissions)\n",
        "\n",
        "    return torch.cat(chunks, dim=1)[0].cpu().detach()"
      ]
    },
    {
      "cell_type": "code",
      "execution_count": null,
      "metadata": {
        "id": "VD34tuqAg2zS"
      },
      "outputs": [],
      "source": [
        "def get_tokens(transcript):\n",
        "    return [dictionary[c] for c in transcript]"
      ]
    },
    {
      "cell_type": "code",
      "execution_count": null,
      "metadata": {
        "id": "jjS5-xVbg2r8"
      },
      "outputs": [],
      "source": [
        "def get_trellis(emission, tokens, blank_id=0):\n",
        "    num_frame = emission.size(0)\n",
        "    num_tokens = len(tokens)\n",
        "\n",
        "    # Trellis has extra diemsions for both time axis and tokens.\n",
        "    # The extra dim for tokens represents <SoS> (start-of-sentence)\n",
        "    # The extra dim for time axis is for simplification of the code.\n",
        "    trellis = torch.empty((num_frame + 1, num_tokens + 1))\n",
        "    trellis[0, 0] = 0\n",
        "    trellis[1:, 0] = torch.cumsum(emission[:, 0], 0)\n",
        "    trellis[0, -num_tokens:] = -float(\"inf\")\n",
        "    trellis[-num_tokens:, 0] = float(\"inf\")\n",
        "\n",
        "    for t in range(num_frame):\n",
        "        trellis[t + 1, 1:] = torch.maximum(\n",
        "            # Score for staying at the same token\n",
        "            trellis[t, 1:] + emission[t, blank_id],\n",
        "            # Score for changing to the next token\n",
        "            trellis[t, :-1] + emission[t, tokens],\n",
        "        )\n",
        "    return trellis"
      ]
    },
    {
      "cell_type": "code",
      "execution_count": null,
      "metadata": {
        "id": "yTG3NJeOg-wF"
      },
      "outputs": [],
      "source": [
        "@dataclass\n",
        "class Point:\n",
        "    token_index: int\n",
        "    time_index: int\n",
        "    score: float\n",
        "\n",
        "\n",
        "def backtrack(trellis, emission, tokens, blank_id=0):\n",
        "    # Note:\n",
        "    # j and t are indices for trellis, which has extra dimensions\n",
        "    # for time and tokens at the beginning.\n",
        "    # When referring to time frame index `T` in trellis,\n",
        "    # the corresponding index in emission is `T-1`.\n",
        "    # Similarly, when referring to token index `J` in trellis,\n",
        "    # the corresponding index in transcript is `J-1`.\n",
        "    j = trellis.size(1) - 1\n",
        "    t_start = torch.argmax(trellis[:, j]).item()\n",
        "\n",
        "    path = []\n",
        "    for t in range(t_start, 0, -1):\n",
        "        # 1. Figure out if the current position was stay or change\n",
        "        # Note (again):\n",
        "        # `emission[J-1]` is the emission at time frame `J` of trellis dimension.\n",
        "        # Score for token staying the same from time frame J-1 to T.\n",
        "        stayed = trellis[t - 1, j] + emission[t - 1, blank_id]\n",
        "        # Score for token changing from C-1 at T-1 to J at T.\n",
        "        changed = trellis[t - 1, j - 1] + emission[t - 1, tokens[j - 1]]\n",
        "\n",
        "        # 2. Store the path with frame-wise probability.\n",
        "        prob = emission[t - 1, tokens[j - 1] if changed > stayed else 0].exp().item()\n",
        "        # Return token index and time index in non-trellis coordinate.\n",
        "        path.append(Point(j - 1, t - 1, prob))\n",
        "\n",
        "        # 3. Update the token\n",
        "        if changed > stayed:\n",
        "            j -= 1\n",
        "            if j == 0:\n",
        "                break\n",
        "    else:\n",
        "        raise ValueError(\"Failed to align\")\n",
        "    return path[::-1]"
      ]
    },
    {
      "cell_type": "code",
      "execution_count": null,
      "metadata": {
        "id": "WfQiMEOzhG8z"
      },
      "outputs": [],
      "source": [
        "\n",
        "# Merge the labels\n",
        "@dataclass\n",
        "class Segment:\n",
        "    label: str\n",
        "    start: int\n",
        "    end: int\n",
        "    score: float\n",
        "\n",
        "    def __repr__(self):\n",
        "        return f\"{self.label}\\t({self.score:4.2f}): [{self.start}, {self.end})\"\n",
        "\n",
        "    @property\n",
        "    def length(self):\n",
        "        return self.end - self.start\n",
        "\n",
        "    def __hash__(self):\n",
        "        return hash((self.label, self.start, self.end, self.score))\n",
        "\n",
        "    def __eq__(self, other):\n",
        "        if not isinstance(other, Segment):\n",
        "            return False\n",
        "        return (self.label, self.start, self.end, self.score) == (other.label, other.start, other.end, other.score)\n",
        "\n",
        "\n",
        "\n",
        "def merge_repeats(path, transcript):\n",
        "    i1, i2 = 0, 0\n",
        "    segments = []\n",
        "    while i1 < len(path):\n",
        "        while i2 < len(path) and path[i1].token_index == path[i2].token_index:\n",
        "            i2 += 1\n",
        "        score = sum(path[k].score for k in range(i1, i2)) / (i2 - i1)\n",
        "        segments.append(\n",
        "            Segment(\n",
        "                transcript[path[i1].token_index],\n",
        "                path[i1].time_index,\n",
        "                path[i2 - 1].time_index + 1,\n",
        "                score,\n",
        "            )\n",
        "        )\n",
        "        i1 = i2\n",
        "    return segments"
      ]
    },
    {
      "cell_type": "code",
      "execution_count": null,
      "metadata": {
        "id": "9RnGRwKEiAJc"
      },
      "outputs": [],
      "source": [
        "# Merge words\n",
        "def merge_words(segments, ratio, sr, separator=\"|\"):\n",
        "    words = []\n",
        "    i1, i2 = 0, 0\n",
        "    while i1 < len(segments):\n",
        "        if i2 >= len(segments) or segments[i2].label == separator:\n",
        "            if i1 != i2:\n",
        "                segs = segments[i1:i2]\n",
        "                word = \"\".join([seg.label for seg in segs])\n",
        "                score = sum(seg.score * seg.length for seg in segs) / sum(seg.length for seg in segs)\n",
        "\n",
        "                x0 = int(ratio * segments[i1].start)\n",
        "                x1 = int(ratio * segments[i2 - 1].end)\n",
        "                start = x0 / sr\n",
        "                end = x1 / sr\n",
        "\n",
        "                words.append(Segment(word, start, end, score))\n",
        "            i1 = i2 + 1\n",
        "            i2 = i1\n",
        "        else:\n",
        "            i2 += 1\n",
        "    return words"
      ]
    },
    {
      "cell_type": "code",
      "execution_count": null,
      "metadata": {
        "id": "GxpxQrEehG1R"
      },
      "outputs": [],
      "source": [
        "def execute(audio, transcript):\n",
        "    transcript = clean_lyrics(transcript)\n",
        "    emission = calculate_emission(audio)\n",
        "    tokens = get_tokens(transcript)\n",
        "    trellis = get_trellis(emission, tokens)\n",
        "    path = backtrack(trellis, emission, tokens)\n",
        "    segments = merge_repeats(path, transcript)\n",
        "\n",
        "    ratio = audio.size(1) / (trellis.size(0) - 1)\n",
        "\n",
        "    word_segments = merge_words(segments, ratio=ratio, sr = bundle.sample_rate)\n",
        "    return emission, tokens, trellis, path, segments, word_segments"
      ]
    },
    {
      "cell_type": "code",
      "execution_count": null,
      "metadata": {
        "id": "E6JtZ7DeI0Mm"
      },
      "outputs": [],
      "source": [
        "def get_start_times(word_segments):\n",
        "    word_beginnings = []\n",
        "    for i in word_segments:\n",
        "      word_beginnings.append(i['start'])\n",
        "    return word_beginnings"
      ]
    },
    {
      "cell_type": "markdown",
      "metadata": {
        "id": "oVMAxms3AEiG"
      },
      "source": [
        "# Load Testdataset"
      ]
    },
    {
      "cell_type": "code",
      "execution_count": null,
      "metadata": {
        "id": "E9Pzpu_EILrI"
      },
      "outputs": [],
      "source": [
        "import pandas as pd"
      ]
    },
    {
      "cell_type": "code",
      "execution_count": null,
      "metadata": {
        "colab": {
          "base_uri": "https://localhost:8080/"
        },
        "id": "poI7i5AX3_yE",
        "outputId": "06afa66a-2c82-4ee1-ebf7-f96b17dd0a99"
      },
      "outputs": [
        {
          "output_type": "stream",
          "name": "stdout",
          "text": [
            "Mounted at /content/drive\n"
          ]
        }
      ],
      "source": [
        "#### TODO upload the dataset on your drive\n",
        "from google.colab import drive\n",
        "drive.mount('/content/drive')"
      ]
    },
    {
      "cell_type": "code",
      "execution_count": null,
      "metadata": {
        "id": "-o3Jn_HF5xxZ"
      },
      "outputs": [],
      "source": [
        "def get_dataset(dir, sr=16000):\n",
        "  dir_waveforms = os.path.join(dir, 'mp3')\n",
        "  dir_y = os.path.join(dir, 'annotations/words')\n",
        "  dir_transcripts = os.path.join(dir, 'lyrics_raw')\n",
        "\n",
        "  X = []\n",
        "  y = []\n",
        "  transcripts = []\n",
        "\n",
        "  files = os.listdir(dir_waveforms)\n",
        "  files = sorted(files)\n",
        "  for filename in files:\n",
        "    # waveform\n",
        "    print(f\"Process {filename}\")\n",
        "    waveform = get_wav_sr(dir_waveforms, filename)\n",
        "    X.append(waveform)\n",
        "\n",
        "  files = os.listdir(dir_y)\n",
        "  files = sorted(files)\n",
        "  for filename in files:\n",
        "    # label (list of timestamps for every word)\n",
        "    path_y = os.path.join(dir_y, filename)\n",
        "    df = pd.read_csv(path_y)\n",
        "    timestamps = df['word_start'].to_list()     \n",
        "    y.append(timestamps)\n",
        "\n",
        "  files = os.listdir(dir_transcripts)\n",
        "  files = sorted(files)\n",
        "  for filename in files:\n",
        "    # lyrics\n",
        "    path_transcript = os.path.join(dir_transcripts, filename)\n",
        "    with open(path_transcript) as f:\n",
        "      transcript = f.read()\n",
        "    transcripts.append(transcript)\n",
        "    print(repr(transcript))\n",
        "\n",
        "\n",
        "  return X, y, transcripts\n"
      ]
    },
    {
      "cell_type": "code",
      "execution_count": null,
      "metadata": {
        "colab": {
          "base_uri": "https://localhost:8080/"
        },
        "id": "rQiuZKgM9IQb",
        "outputId": "dc301aa8-e209-4b7e-e810-4226a3dd3964"
      },
      "outputs": [
        {
          "output_type": "stream",
          "name": "stdout",
          "text": [
            "Process Avercage_-_Embers.mp3\n"
          ]
        },
        {
          "output_type": "stream",
          "name": "stderr",
          "text": [
            "WARNING:tensorflow:From /usr/local/lib/python3.8/dist-packages/keras/layers/normalization/batch_normalization.py:514: _colocate_with (from tensorflow.python.framework.ops) is deprecated and will be removed in a future version.\n",
            "Instructions for updating:\n",
            "Colocations handled automatically by placer.\n"
          ]
        },
        {
          "output_type": "stream",
          "name": "stdout",
          "text": [
            "INFO:spleeter:Downloading model archive https://github.com/deezer/spleeter/releases/download/v1.4.0/2stems.tar.gz\n"
          ]
        },
        {
          "output_type": "stream",
          "name": "stderr",
          "text": [
            "INFO:spleeter:Downloading model archive https://github.com/deezer/spleeter/releases/download/v1.4.0/2stems.tar.gz\n"
          ]
        },
        {
          "output_type": "stream",
          "name": "stdout",
          "text": [
            "INFO:spleeter:Validating archive checksum\n"
          ]
        },
        {
          "output_type": "stream",
          "name": "stderr",
          "text": [
            "INFO:spleeter:Validating archive checksum\n"
          ]
        },
        {
          "output_type": "stream",
          "name": "stdout",
          "text": [
            "INFO:spleeter:Extracting downloaded 2stems archive\n"
          ]
        },
        {
          "output_type": "stream",
          "name": "stderr",
          "text": [
            "INFO:spleeter:Extracting downloaded 2stems archive\n"
          ]
        },
        {
          "output_type": "stream",
          "name": "stdout",
          "text": [
            "INFO:spleeter:2stems model file(s) extracted\n"
          ]
        },
        {
          "output_type": "stream",
          "name": "stderr",
          "text": [
            "INFO:spleeter:2stems model file(s) extracted\n"
          ]
        },
        {
          "output_type": "stream",
          "name": "stdout",
          "text": [
            "Process Color_Out_-_Falling_Star.mp3\n",
            "Process Cortez_-_Feel__Stripped_.mp3\n",
            "Process Explosive_Ear_Candy_-_Like_The_Sun.mp3\n",
            "Process HILA_-_Give_Me_the_Same.mp3\n",
            "Process JASON_MILLER_-_CROWD_PLEASER.mp3\n",
            "Process Kinematic_-_Peyote.mp3\n",
            "Process LUNABLIND_-_Vision__Radio_Edit_.mp3\n",
            "Process Lower_Loveday_-_Is_It_Right_.mp3\n",
            "Process Moon_I_Mean_-_Wrong_Concept.mp3\n",
            "Process Pure_Mids_-_The_Leader.mp3\n",
            "Process Quentin_Hannappe_-_Keep_On.mp3\n",
            "Process Ridgway_-_Fire_Inside.mp3\n",
            "Process Rxbyn_-_Bad_Side.mp3\n",
            "Process Slingshot_Miracle_-_Whistler.mp3\n",
            "Process Songwriterz_-_Back_In_Time.mp3\n",
            "Process The.madpix.project_-_One_Way_Street.mp3\n",
            "Process The_Rinn_-_Voices__2017_Version_.mp3\n",
            "Process Tom_Orlando_-_The_One__feat._Tina_G_.mp3\n",
            "Process Wordsmith_-_The_Statement.mp3\n",
            "\"Through days of thunders \\nContinuing stolid smiles to wear \\nWe're going on \\nWe nearly carried it to the end \\n\\nAnd every whisper \\nAnd every beat of windy heart \\nWe're holding on \\nFor the moment when we unite \\n\\nNo face \\nIs seen at dusk of a raining day \\nNo name \\nIs spoken in a loud voice \\nStill still \\n\\nOne day it all \\nwill gone forever  will gone forever \\nDon’t close your eyes – \\nyou’ll gone forever  you’ll gone forever. \\n\\nJust reach the border \\nTo throw your past and go ahead \\nHey  light your heart \\nas we’re led by a winding thread \\n\\nNo face \\nIs seen at dusk of a raining day \\nNo name \\nIs spoken with the loud voice \\nStill still \\n\\nOne day it all \\nwill gone forever  will gone forever \\nDon’t close your eyes – \\nyou’ll gone forever  you’ll gone forever. \\n\\nAnd we are one  so I promise \\n\\nOne day it all \\nwill gone forever  will gone forever \\nDon’t close your eyes – \\nyou’ll gone forever  you’ll gone forever. \\n\\nThere’s no more pain \\nWhich lasts forever \\nAnd never severs. \\nOnce in the end \\nThe flame was rendered \\nBut living embers\\nWill burn.\\n\"\n",
            "\"Someday you'll come back here \\nand you'll open up your arms\\nyou'll laugh and say I knew it wouldn't take you long\\nto realize I was gone\\nit's only been 3 years\\nbut for me it's been so long\\nI remember it like yesterday\\noh you could say\\nI've been holding on\\n\\nI've waited all of my life \\nfor you to make it right\\nbut the time has come and gone\\nit's faded and lost all it's light\\na star that shined so bright\\nfalls from the sky\\n\\nDon't make a wish that won't come true\\nI learned that from you\\nsuch a long time ago\\nwhen you left you said you had to find\\na better way of life\\nthis one just wouldn't do\\n\\nI've waited all of my life\\nfor you to take your time\\nto find your place\\nbut I learned that this world still turns without you\\nand you were just a phase and I learned without you \\nhere  I was happier alone\\nthen I ever would've known..\\n\\nI've waited I've waited\\nI've waited I've waited I've waited\\n\\nI've waited all of my my life\\nfor you to take your time\\nbut the time has come and gone\\nit's faded and lost all it's light\\na star that shined so bright\\nfalls from the sky\\non this cold December night\\n\"\n",
            "\"Yeah oh \\n\\nPlease don't stand over here  \\nAct like you care  so self-aware \\nI know you were not scared \\nI could've died  but that isn't fair  huh? \\nBut what am I supposed to think? \\nYou weren't there for me \\nCause I'm not who I should be for you \\n\\nYou've got a record and a past \\nGuess that's what makes me the ass \\nI should've known  I should've cared \\nHow could I have been so unprepared? \\nNow where does the good boy go to hide away  hide the pain? \\nCause you won't see me cry when I'm done \\n\\nWhat is it that you want from me want from me? \\nWhat is it that you want from me want from me? \\nI want you to feel  I want you to feel \\nI want you to feel  I want you to feel \\n\\nI'm a feather in the wind \\nCarried away by all that you say \\nSitting on thin air \\nI'm a loss to my friends \\nToo unpersuaded by all they're saying \\nAnd you can't pretend to care  yeah \\n\\nYeah. I was reckless in the past \\nI was see-through just like glass \\nDid all I could to make this last \\nSo how could you be such an ass? \\nI know where the good boys go to hide the pain  hide the pain \\nBut that don't mean I die when you don't \\n\\nWhat is it that you want from me  want from me? \\nWhat is it that you want from me  want from me? \\nI want you to feel  I want you to feel \\nI want you to feel  I want you to feel \\n\\nWhat is it that you want from me  want from me? \\nWhat is it that you want from me  want from me? \\nI want you to feel  I want you to feel \\nI want you to feel  I want you to feel \\n\\n...good boys go to hide the pain  hide the pain \\nCause you won't see me cry when I'm done \\nI know where the good boys go to hide the pain  hide the pain \\nBut that don't mean I die when you don't…\\n\"\n",
            "\"I see your face everywhere that I go\\nOn the clouds in the sky\\nOn the faces of strangers\\nThe birds sing your name\\nAnd the fish try to talk\\n'Cause without you the world would be too dark to matter.\\n\\nYou're like the sun\\nYou're so far away\\nBut your light shines on\\nAnd brightens each day\\nWhen you're not around\\nYou make it worthwhile to expect you.\\n\\nYou're like the sun\\nYou turn on a switch and the gloom is gone\\nYou gave me my life and you carry on\\nWithout ever wanting a thank you\\nYou're like the sun.\\n\\nEveryone loves you and wants you around\\nBut it's me most of all\\nFor my own selfish reasons.\\n\\nYou paint my sky blue\\nAnd you spin my earth 'round\\nSo don't leave me alone\\n'Cause I can't stand to miss you.\\n\\nYou're like the sun\\nYou're so far away\\nBut your light shines on\\nAnd brightens each day\\nWhen you're not around\\nYou make it worthwhile to expect you.\\n\\nYou're like the sun\\nYou turn on a switch and the gloom is gone\\nYou gave me my life and you carry on\\nWithout ever wanting a thank you\\nYou're like the sun.\\n\\nYou're like the sun\\nYou're so far away\\nBut your light shines on\\nYou brighten my days\\nWhen you're not around\\nYou make it worthwhile to expect you.\\n\\nYou're like the sun\\nYou turn on a switch and the gloom is gone\\nYou gave me my life and you carry on\\nWithout ever wanting a thank you\\nYou're like the sun.\\n\"\n",
            "\"Lay awake at night\\nWondering how could I\\nLet it get this way\\nThrough all the pain\\nI took all the blame\\nWhile you cursed my last name\\nI thought we could get better\\nStayed committed like a soldier\\nBelieved we're okay\\nNow I know that you don't care  at all\\nTime wasted\\nGave all of my soul and my heart to someone that would never\\nGive me the same\\nI was a fool to believe that you would finally be the one to\\nGive me the same\\nHeartbroken now\\nHow you let me down\\nBut somehow  deep down  I still do \\nLove you\\nNow your out all night\\nTelling your lies\\nAbout the way I hurt you\\nThey couldn't see the way\\nYou made me feel ashamed\\nFor choosing to love you\\nI began to see clearer\\nThat you were just a liar\\nStuck in your ways\\nSo now I choose to walk away forever\\nTime wasted\\nGave all of my soul and my heart to someone that would never\\nGive me the same\\nI was a fool to believe that you would finally be the one to\\nGive me the same\\nHeartbroken now\\nHow you let me down\\nBut somehow  deep down  I still do \\nLove you\\nHow could you just throw it all away babe\\n(How could you throw it all away)\\nI stayed with you through all the lies and pain\\n(Through all the lies and pain oh)\\nTears roll down my eyes \\n(Tears roll down my eyes)\\nAs I now realize\\nYour love was never truly mine\\nAt all\\nTime wasted\\nGave all of my soul and my heart to someone that would never\\nGive me the same\\nI was a fool to believe that you (you) would finally (be the one too)\\nGive me the same\\nHeartbroken now\\n(Heartbroken now)\\nHow you let me down\\n(Oh)\\nBut somehow (how)  deep down I still do\\nLove you\\n\"\n",
            "'People gonna hate let them do it\\nshine like it ain’t nothing to it\\nDamn you a major influence \\nskate like there ain’t nothing doing\\nLive life don’t say nothing to them\\n\\nPeople gonna hate let them do it\\nshine like it ain’t nothing to it\\nDamn you a major influence \\nskate like there ain’t nothing doing\\nLive life don’t say nothing to them\\n\\nPeople telling lies on me\\nFeeling like Pac \\nAll eyes on me\\nWhats my next rhyme\\nGonna be\\nDull mother fuckers can’t never ever\\nShine off me?\\nWait for it\\nWait for it \\nWait for it \\nDon’t worry the\\nMy haters is gonna pay for it\\nchase dreams dumb \\nNiggas chase whores\\nover sea’s\\nOn a great tour\\nOr maybe I’m just dreaming\\nIt beats being with demons or\\nA nigga scheming or\\nAt least im thinking of an achievement \\nPeople talk shit for 4 seasons \\nFor no reason \\npeople dog lebron until\\nlebron show up \\nwhen he step on the paint then their\\nguards go up\\nscores up \\nall the applauds go up \\nand everybody in the whole damn court goes nuts\\n\\nPeople gonna hate let them do it\\nshine like it ain’t nothing to it\\nDamn you a major influence \\nskate like there ain’t nothing doing\\nLive life don’t say nothing to them\\n\\nPeople gonna hate let them do it\\nshine like it ain’t nothing to it\\nDamn you a major influence \\nskate like there ain’t nothing doing\\nLive life don’t say nothing to them\\n\\nspectators \\nside liners \\nspending days\\ncoming up with sly comments\\nthat’s\\npsychotic \\nwhy try a tarnish \\nsuch a fly product?\\nWhy be mad just cause I got? Hey!\\nI may never know \\nWave to the haters\\nThat put me on the pedestal\\ntalk smack\\nBut they really\\nKnow I’m incredible \\nUnforgettable young blue eyes\\nthe new guy \\nis on schedule \\nman behind bars and thats minus the federal \\nStone giant what the hell\\nCould some pebbles do\\nWhile you Revel In drama\\nIm building revenue \\nTell them you’ll get them tomorrow their ain’t\\nNothing stressing you\\nLife goes on\\nLifes goes on\\nYou was the shit even\\nBefore those lights went on\\nThey gonna trash you\\nEven if they like your song\\nPeople always gonna judge homie\\nright or wrong?\\n\\nPeople gonna hate let them do it\\nshine like it ain’t nothing to it\\nDamn you a major influence \\nskate like there ain’t nothing doing\\nLive life don’t say nothing to them\\n\\nPeople gonna hate let them do it\\nshine like it ain’t nothing to it\\nDamn you a major influence \\nskate like there ain’t nothing doing\\nLive life don’t say nothing to them\\n\\nWe don’t give a damn what you did\\nWe don’t give a damn who are \\nhomie you aint down with the team\\nWe don’t give a damn what you think \\nWe don’t give a damn what you thought\\n\\nWe don’t give a damn what you did\\nWe don’t give a damn who are \\nhomie you aint down with the team\\nWe don’t give a damn what you think \\nWe don’t give a damn what you thought\\n'\n",
            "\"I’m asleep at the wheel and there’s a curve in the highway\\nYet we tear through the night like a peyote migraine\\nHow much further is it  aching  so exquisite\\nI hope we can stop in time\\n\\nNow you don’t want to dance  'cause we’re looking right through you\\nOh oh  and the clothes that you wear  we don’t mean to stare\\n\\nNow the sky is on fire and the desert is freezing\\nWonder how I’m alive  hen I’m not even breathing\\nHow much further is it  aching  so exquisite\\nI hope we can stop in time\\n\\nNow you don’t want to dance  'cause we’re looking right through you\\nOh oh  and the clothes that you wear  we don’t mean to stare\\nOh oh  but the people you know  they say what they want to\\nOh oh  'cause the truth of it is  we don’t really care\\n\"\n",
            "\"Racking and jacking my mind up.\\nCannot be telling the time  I\\nDon't care  no.\\nI don't care  no.\\nYou send thirty messages drunk \\nAnd dirty messages drunk \\nBut I don't look.\\nNo  I can't be *** to look.\\n\\nI could not breathe.\\nYou took your toll on me.\\nYou're suffocating  please.\\nBut since I watched you leave \\n\\nI can see for the first time.\\nAnd I can see for the first time.\\nAnd I can see for the first time \\nFor the first time.\\nAnd I can see for the first time.\\n\\nYou get jealous easily.\\nYou did not make it easy.\\nBut what was I expecting?\\nIt's a very fitting ending.\\nYou say I hurt you bad  well \\nThat was never my intent.\\nI was looking out for myself \\nAnd all of my mental health.\\n\\nI cannot breathe.\\nYou took your toll on me.\\nYou're suffocating  please.\\nBut since I watched you leave \\n\\nI can see for the first time.\\nI can see for the first time.\\nI can see for the first time \\nFor the first time.\\nFor the first time.\\nI can see for the first time.\\n\\nThere is no better deduction\\nThere is no better solution\\nThere is no better deduction\\nThere is no better solution\\nThere is no better deduction\\nThere is no better solution\\nThere is no better deduction\\nThere is no better solution\\n\\nI can see for the first time.\\nI can see for the first time.\\nI can see for the first time \\nFor the first time \\nFor the first time.\\nI can see for the first time.\\nI can see for the first time.\\nI can see for the first time.\\nFor the first time \\nFor the first time.\\n\"\n",
            "\"Late nights staying up  messaging you\\nCan I express what I'm feeling for you without revealing truths?\\n\\nI've been thinking about you lately (lately)\\nThat's a massive understatement  baby\\nI can't stop thinking about you all day and all night\\nBut Is It Right?\\n\\nFinally figured it out  I got my head around it.\\nAlthough I know I've got to get myself out of this habit.\\nOf falling for someone who's out of reach  it's unrealistic\\nMr dream won't become a reality but was it meant to be?\\n\\nI've been thinking about you lately (lately)\\nThat's a massive understatement  baby\\nCause I think about you all day and all night\\nBut Is It Right?\\n\\nI don't know but I I know how it feels to me\\nMaybe you're just playing games. A game I don't  wanna play.\\n\\nI don't know but I I know how it feels to me\\nMaybe you're just playing games. A game I don't  wanna play.\\n\\nI've been thinking about you lately (lately)\\nThat's a massive understatement  baby\\nCause I'm thinking about you all day and all night\\nBut Is It Right?\\n\\nI've been thinking about you lately (lately)\\nThat's a massive understatement  baby\\nCause I'm thinking about you all day and all night\\nBut Is It Right?\\n\"\n",
            "\"Maybe you hate me\\nbut you dress somebody's suit\\nbecause there's no risk\\nto put on a mask\\nwhen we get scared to live\\nwith our back  with our back\\n\\nMaybe you love me\\nbut you run under the sun and me under the rain\\nit's so easy\\xa0\\nto lose ourselves\\nwhen we get scared to love\\nwith every tear with every fear\\n\\nBut you could give me just your money\\nbut I wished just your honey\\nI burnt your t-shirt  that one with bunny\\nand now about you nothing more of funny\\n\\nMaybe we'll meet again\\nbut this not the right life for us\\nit's so hard\\nto live our love\\nwhen we get scared to see\\ninside our soul inside our soul\\n\\nBut you could give me just your money\\nbut I wished just your honey\\nI burnt your t-shirt  that one with bunny\\nand now about you nothing more of funny\\n\\nYour mind is closed like an aquarium\\nmine completly opened like the Colosseum\\nso nothing about idyll between us\\nit's not a wrong accent\\xa0no no no no no no no no\\nwhat's wrong is the concept\\nwrong concept to love\\n\\nBut you could give me just your money\\nbut I wished just your honey\\nI burnt your t-shirt  that one with bunny\\nand now about you nothing more of funny\\nyou could give me just your money\\nbut I wished just your honey\\nI burnt your t-shirt  that one with bunny\\nand now about you nothing more of funny\\nWrong concept  wrong concept to love\\nwrong concept to love  to love  wrong concept.\\n\"\n",
            "'Now that I have found you I’m okay \\nBut the people that surround you act strange \\nWill we ever fold up don’t say \\nMaybe just a heads up is ok \\n\\nWhen I am in focus I seem blind \\nI can barely notice the time \\nWho can I believe in if not you \\nYou’re the only reason I’m true \\n\\n\\nAw ah aw ah aw aw ah \\nAw ah aw ah aw aw ah \\n\\nI’ve thought enough \\nShould I turn this around \\nIs this a bluff \\nShould I really make a sound \\nAm I alright \\nOr am I steering out of sight \\n\\nAw ah aw ah aw aw ah \\nAw ah aw ah aw aw ah\\n'\n",
            "\"Keep on working on your dreams and don't run away\\nKeep on following your dreams and don't go astray\\n\\nWe searching everywhere for the peace of mind\\nit's already there but we can not find\\nI keep struggling for my life but i'm a strong man today\\nI keep fighting for my rights so much songs to play\\n\\nSo many problems\\nSo many close friends\\nAnd when it's gonna rain\\nhow many gonna stand \\n\\nSo many problems\\nSo many close friends\\nAnd when it's gonna rain\\nhow many gonna stand \\n\\nKeep On working on your dreams and don't runaway\\nKeep on following your dreams and don't go astray\\n\\nsit back and watch what happens those days\\nhow can I relax for the children of today\\nWe're smart enough to find our own line\\nWe make art and stuff but they just stay blind\\n\\nSo many problems\\nSo many close friends\\nAnd when it's gonna rain\\nhow many gonna stand\\nSo many problems So many close friends\\nAnd when it's gonna rain\\nhow many gonna stand\\n\"\n",
            "'I got a lot on my mind\\n\\nAnd all of the time\\n\\nBeen trying to do right\\n\\nI may have the lost the light\\n\\nBut I’m keeping it tight\\n\\nNever give up the fight no\\n\\n\\n\\nWhen my life is a wreck (When my life is a wreck)\\n\\nHave to keep it all in check (keep it all in check)\\n\\n\\n\\nEven in the darkest days\\n\\nGot a trail to blaze\\n\\nGonna stick to my ways\\n\\nI used to be caught in a phase\\n\\nWhere life was a maze\\n\\nUntil I saw the suns rays\\n\\n\\n\\nWhen your life is a wreck (life is a wreck)\\n\\nYou got to take that first step\\n\\n\\n\\nWhoa oh oh oh oh\\n\\nPaddle on through the waves now\\n\\nWhoa oh oh oh oh\\n\\nGonna take me to that place\\n\\nWhoa oh oh oh oh\\n\\nFind that fire inside\\n\\nWhoa oh oh oh oh\\n\\nIt’s a fate that you decide\\n\\n\\n\\nWhen I feel like I’m losing control\\n\\nGotta reach within my soul\\n\\nAnd if you’re ever feeling low yeah\\n\\nTake that first step and go! yeah\\n\\nTake that first step to the right\\n\\nGot to find what’s inside\\n\\nBefore we run of time  run out of time  run out of time\\n\\n\\n\\nWhoa oh oh oh oh\\n\\nPaddle on through the waves now\\n\\nWhoa oh oh oh oh\\n\\nGonna take me to that place\\n\\nWhoa oh oh oh oh\\n\\nFind that fire inside\\n\\nWhoa oh oh oh oh\\n\\nIt’s a fate that you decide\\n\\nthat you decide\\n\\n\\n\\nWhoa oh oh oh oh\\n\\nI’m paddling on  I’m paddling strong\\n\\nWhoa oh oh oh oh\\n\\nFind that fire  find that fire\\n\\nWhoa oh oh oh oh\\n\\nI’m paddling on  I’m paddling strong\\n\\nWhoa oh oh oh oh\\n\\nFind that fire  find that fire\\n\\nFind that fire  find that fire  find that fire  find that fire\\n'\n",
            "'One  two  three\\nSee you looking at me with those eyes\\nFour  five  six\\nI know that you want this\\nAm I right? Think I\\'m right\\nLet\\'s skip the games\\nFast forward to the \"What\\'s your name?\"\\nWhy take our time? Time\\nSo one  two  three\\nKnow you heard about me\\nThat\\'s alright\\nJust hit my line  oh\\n\\nSo come to me\\nTonight  we don\\'t have to be enemies\\nKeep it going like it\\'s meant to be\\nMeant to be  just wait and see\\nSo come with me\\nAnd maybe you can touch my body\\nDon\\'t be scared to take ahold of me\\nTake me in and breathe  tear me up to pieces\\nOh...\\n\\nGet a taste of my bad side\\nJust a taste of my bad side\\nYou want a taste of my bad side\\nJust a taste of my bad side\\nYou wanna know what it feels like\\nTo get a taste of my bad side\\n\\nLa di da di\\nBet you\\'ll think it\\'s nothing\\nTill it drops all at once\\nYour heart\\nOh my  oh me\\nI\\'m fucking crazy and I can\\'t stop\\nIt\\'ll be fun  ha!\\nLet\\'s skip the games\\nFast forward to the \"What\\'s your name?\"\\nWhy take our time? Time\\nSo oh my  oh me\\nI\\'m fucking crazy\\nAnd I can\\'t stop\\nSo this\\'ll be fun\\n\\nSo come to me\\nTonight  we don\\'t have to be enemies\\nKeep it going like it\\'s meant to be\\nMeant to be  just wait and see\\nSo come with me\\nAnd maybe you can touch my body\\nDon\\'t be scared to take ahold of me\\nTake me in and breathe  tear me up to pieces\\nOh...\\n\\nGet a taste of my bad side \\nJust a taste of my bad side \\nYou want a taste of my bad side \\nJust a taste of my bad side \\nYou wanna know what it feels like \\nTo get a taste of my bad side (Come to me) \\n(Tonight we don\\'t have to be enemies) \\nJust a taste of my bad side\\n(Meant to be meant to be) \\nYou want a taste of my bad side (come with me) \\n(And maybe you can touch my body) \\nJust a taste of my bad side (take a hold of me) \\nYou wanna know what it feels like\\nTo get a taste of my bad side\\nOh... \\n\\nGet a taste of my bad side\\nGet a taste of my bad side\\nJust a taste of my bad side\\nJust a taste of my bad side\\nYou want a taste of my bad side  hey!\\nJust a taste of my bad side\\nTaste of my bad side…\\n'\n",
            "\"He's a whistler when the wind blows\\nKeeps it simple  only whole notes\\nPlays his hollow tune effortlessly\\nHe just sits there in limbo\\nDoesn’t listen  full of blow holes\\nCurtains waver  the old refrain repeats\\n\\nA penny for a thought\\nFor pounds of flesh he’s bought\\nA peso for what not to confess here\\nThe last shall be the first\\nWordlessly coerced\\nDeath is not the worst atrocity\\n\\nThere’s a hissing through the window\\nLike a twisted virtuoso\\nWarning of a storm brewing again\\n“To the victor ” goes the intro\\nFull of whispered innuendo\\nTime once more for a paranoid crusade\\n\\nThe past shall be reversed\\nThe dead not so accursed\\nA universe rehearsed in tragedy\\n\\nHe's a whistler  he’s a widow\\nDoesn’t miss her  plays it solo\\nBlissfully ignoring his instinct\\nTears bitter on the pillow\\nMakes his mission  not to know more\\nCurtains flutter  the old refrain repeats\\n\\nYeah he's a widow\\nHe's a whistler\\nHe's a whistler\\nOh\\n\"\n",
            "'Honey  I told you something\\nSorry I didn’t hear\\nMaybe there was something …\\nYeah  stuck in your ear\\nWhy is it everytime  you say you do  you don’t?\\nMaybe I just thought that you were talking on the phone\\n\\nHoney  you’re looking lovely tonight\\nSorry  you’re wastin’ time\\nBaby  this ain’t your lucky night\\nWell  tryin’ ain’t a crime\\nWhy is it everytime I’d like to do  you don’t?\\nMaybe you could try a little romance and a comb\\n\\nLet’s go back in time\\nWay back when  we were\\nLalalala la la lala\\nNow it’s married life\\nAnd a daily strife  to be\\nLalalalala lalalalala lala\\nLalalala la la lala\\n\\nHoney  you’re getting’ older\\nYeah  and you’re still 29\\nAnd maybe things are colder\\nBut honey  still you’re mine\\nGuess it’s easy to forget\\nWe’re more than man and wife\\nCould it be the “lala-magic” keeping love alive?\\n\\nLet’s go back in time\\nWay back when  we were\\nLalalala la la lala\\nBack when you and I\\nStill had time to be\\nLalalalala lalalalala lala\\nLalalala la la lala\\n\\nLet’s go back in time\\nWay back when  we were\\nLalalala la la lala\\nBack when you and I\\nStill had time to be\\nLalalalala ….\\n\\nLet’s go back in time\\nWay back when  we were\\nLalalala la la lala\\nNow it’s married life\\nStill we have to try  to be\\nLalalalala lalalalala lala\\nLalalala la la lala\\n'\n",
            "'Tears are like diamonds in my eyes\\nBlind me so now you’re out of sight\\nIt’s enough  it’s too late to break this silence\\n\\nIn a rose coloured view of us\\neither cause could I realize\\nAll your lies would be blades to knifes\\nTo stab me inside\\n\\nWho will save you from this dark?\\nWho will fix your selfish heart?\\n\\nA one way street  that’s how you live\\nWhy do you always take and never give?\\n\\nWide awake  yeah I’ve crossed the line\\nI’m coming home\\nI’m running back to real life\\nThrough the start\\nWhere I could breathin‘ freely  baby\\n\\nCan’t you see we ran off time\\nChasing happiness while you get what you need\\n\\nThere’s nothing left of us but bleeding blades and knifes\\nTonight  you‘ll know how it feels\\n\\nA one way street  that’s how you live\\nWhy do you always take and never give?\\nI’ll walk away  to help you see\\nOur love is rolling down so easily\\nA one way street\\n\\nA one way street\\nYou never give\\nI’ll walk away\\nSo easily\\nA one way street\\n'\n",
            "\"The sun is fading under blood-red sky \\xa0\\nThe reign of day is over\\xa0\\nNight soon will break free.\\xa0\\nThey wake in the eerie glow of moonlight\\xa0\\nForgotten souls  beyond our sight.\\xa0\\n\\nWorld  that's gone forever\\xa0\\nLong ago  lost in their\\xa0\\nEyes  that shine with mystery.\\xa0\\nLast remaining shadows\\xa0\\nOf lost time\\xa0\\nWhisper in the moonlight.\\xa0\\n\\nSurprised you're waking in the morning.\\xa0\\nCan't understand your feelings \\xa0\\nAnd where d'you get these thoughts.\\xa0\\nInside your mind the voice is calling\\xa0\\nFor the night  to rise at your side.\\xa0\\n\\nWorld  that's gone forever\\xa0\\nLong ago  lost in their\\xa0\\nEyes  that shine with mystery.\\xa0\\nLast remaining shadows\\xa0\\nOf lost time\\xa0\\nWhisper in the moonlight.\\xa0\\n\\nSo hear their voice \\xa0\\nSharing their yearning \\xa0\\nGift they're giving to you.\\xa0\\nHear their voice \\xa0\\nSharing their memories -\\xa0\\nSacred secrets from past time.\\n\\nWorld  that's gone forever\\xa0\\nLong ago  lost in their\\xa0\\nEyes  that shine with mystery.\\xa0\\nLast remaining shadows\\xa0\\nOf lost time\\xa0\\nWhisper in the moonlight.\\xa0\\n\\nSo hear their voice \\xa0\\nSharing their yearning \\xa0\\nGift they're giving to you.\\xa0\\nHear their voice \\xa0\\nSharing their memories -\\xa0\\nSacred secrets from past\\n\\nSo hear their voice \\xa0\\nSharing their yearning \\xa0\\nGift they're giving to you.\\xa0\\nHear their voice \\xa0\\nSharing their memories -\\xa0\\nSacred secrets from past time.\\n\"\n",
            "\"I've been nothing but drinking and thinking yeah\\nLong since you been away\\n\\nI don't think that I'm coming back\\nBoy I told you I'm done with that\\nYou think you can do me so wrong\\nI'm not the one no\\nI'm not the one\\n\\n\\n\\nBack In High School\\nUnder the trees \\nWe use to mess around\\nI'd feel you down\\nRight there in the streets damn\\nThose were the days baby\\nNow you barely look at me\\nLike you was never my lady\\nWhat has this come to be\\nShit \\nI guess we grown apart \\nWent and seperated but you still up in my heart\\nAnd that will always be the case\\nYou were my first one \\nNo matter how the fuck we split\\nI wish you nothin but love\\nBut now I'm\\nDoing these shows and I'm making this money\\nI'm never stoppin for these hoes\\nAll want me for money and shit\\nGot these new friends on deck when I cash in my checks\\nLate up on they rent feeling my heart poppin outta my chest\\nAint no slippin in this game tho\\nThey take advantage just to use you for the clout too\\nThats why I keep my circle small\\nAnd I keep my friends close\\nRemembering to watch my enemies when they coming through\\n\\nI don't think that I'm coming back\\nBoy I told you I'm done with that\\nYou think you can do me so wrong\\nI'm not the one no\\nI'm not the one\\n\\n\\n\\n\\nI'm feeling blessed now \\nI'm Finally able to support my momma too \\nNo more double shifts \\nNo more stressing bout the rent shit  \\nComplaining about the hunger and\\nGoin to bed starving\\nAnd its all thanks to you Momma\\nIf it wasnt all for you beleiving in me\\nI'd probably be in jail doin 2-3\\nYou Raised me up all on your own\\nGrew up without my poppa\\nAnd you put up with my shit\\nFor that you know I'm grateful\\nBlessing with the family and friends all that I have\\nGot a loving cousin know I gotchu till the end.\\nShout out to my crew\\nAdam and Dan  Angelo  Amin and Mack.\\nYou know I got your backs \\nShit we reppin Ottawa Ontario\\nWe up at the Parliment jamming out all on the radio\\nI keep my circle small\\nAnd I rep my fam too\\nRemembering to watch our enemies when they coming through.\\n\\nI don't think that I'm coming back\\nBoy I told you I'm done with that\\nYou think you can do me so wrong\\nI'm not the one no\\nI'm not the one\\nI don't think that I'm coming back (Not coming around no more like that)\\nBoy I told you I'm done with that (Done with all that shit baby)\\nYou think you can do me so wrong (Do Me so wrong like)\\nI'm not the one no (Not the one baby)\\nI'm not the one (Not the one baby)\\n\"\n",
            "'Live in a time of straight sin we got black sheep that don’t fit in I’m like huhhh terrorists who wanna cut limbs don’t zoom in to my true lens these loose ends are too grim to just comprehend I’m like huhhh oh lord it’s getting worse cops out on that gang turf rich folks don’t share first got planned parents don’t need birth got prayers out and don’t see church hands up and they shoot first another young life in that black Hurst I’m too hurt I’m like huhhh…\\n\\nYa’ll better come my way  ya’ll better come way okay and say ya’ll better come my way I’m gonna make a statement day by day\\nYa’ll better come my way  ya’ll better come way okay and say ya’ll better come my way I’m gonna make a statement day by day\\nPeace signs  peace signs up put em in the air and go rise up yeah\\nPeace signs  peace signs up put em in the air and go rise up yeah\\nPeace signs  peace signs up put em in the air and go rise up yeah\\nPeace signs  peace signs up put em in the air and go rise up yeah\\n\\nLive in a time in true greed we got kids here who can’t write and read I’m like huhhh disgust for that mistrust say one word and your handcuffed don’t call bluff and you’ll get struck and you’re in court like huhhh live life with no limits my way no gimmicks pro league no scrimmage crunch time and I finish I’m that superstar no blemish I just own this no tenant you that background no sentence I’m the statement good riddance. \\n \\nYa’ll better come my way  ya’ll better come way okay and say ya’ll better come my way I’m gonna make a statement day by day\\nYa’ll better come my way  ya’ll better come way okay and say ya’ll better come my way I’m gonna make a statement day by day\\nPeace signs  peace signs up put em in the air and go rise up yeah\\nPeace signs  peace signs up put em in the air and go rise up yeah\\nPeace signs  peace signs up put em in the air and go rise up yeah\\nPeace signs  peace signs up put em in the air and go rise up yeah\\n\\nStand up rise up peace signs up now whutsup\\nStand up rise up peace signs up now whutsup\\nStand up rise up peace signs up now whutsup\\n\\nLive in a time of lost hope we got no ropes for that down slope we got many with plenty that say nope we got refugees on broke boats I’m like huhhhh real life with no TV millionaires stay greedy no love and there’s no grub we got the homeless saying feed me…\\n\\nYa’ll better come my way  ya’ll better come way okay and say ya’ll better come my way I’m gonna make a statement day by day\\nYa’ll better come my way  ya’ll better come way okay and say ya’ll better come my way I’m gonna make a statement day by day \\nPeace signs  peace signs up put em in the air and go rise up yeah\\nPeace signs  peace signs up put em in the air and go rise up yeah\\nPeace signs  peace signs up put em in the air and go rise up yeah\\nPeace signs  peace signs up put em in the air and go rise up yeah\\n'\n"
          ]
        }
      ],
      "source": [
        "sr = bundle.sample_rate\n",
        "# X = list of waveform (pytorch tensor)\n",
        "# y = list of list of timestamps of word beginnings\n",
        "#### TODO define the path to the testset\n",
        "X, y, transcripts = get_dataset(\"/content/drive/MyDrive/hsr/testset\", sr=sr)"
      ]
    },
    {
      "cell_type": "code",
      "source": [
        "print(repr(transcripts[0]))"
      ],
      "metadata": {
        "id": "-o7PqO-YpOBp"
      },
      "execution_count": null,
      "outputs": []
    },
    {
      "cell_type": "code",
      "source": [
        "print(clean_lyrics(transcripts[0]))"
      ],
      "metadata": {
        "id": "8-ISgmhwmySr"
      },
      "execution_count": null,
      "outputs": []
    },
    {
      "cell_type": "code",
      "execution_count": null,
      "metadata": {
        "id": "Kh3CNfc5m3T8"
      },
      "outputs": [],
      "source": [
        "print(transcripts[0])"
      ]
    },
    {
      "cell_type": "code",
      "execution_count": null,
      "metadata": {
        "id": "aR3FWLsKL2Qj"
      },
      "outputs": [],
      "source": [
        "IPython.display.Audio(X[1], rate=sr)"
      ]
    },
    {
      "cell_type": "markdown",
      "metadata": {
        "id": "eixBK2ix39kr"
      },
      "source": [
        "# Evaluation"
      ]
    },
    {
      "cell_type": "code",
      "execution_count": null,
      "metadata": {
        "id": "o0AM6umM9y5H"
      },
      "outputs": [],
      "source": [
        "import IPython\n",
        "import os\n",
        "import numpy as np"
      ]
    },
    {
      "cell_type": "code",
      "execution_count": null,
      "metadata": {
        "id": "wAu90b21UmIo"
      },
      "outputs": [],
      "source": [
        "def evaluate_average_absolute_error(y_pred, y_true, tolerance=0.3):\n",
        "  assert len(y_true) == len(y_pred)\n",
        "  deviations = np.abs(np.array(y_true) - np.array(y_pred))\n",
        "  return np.mean(deviations)"
      ]
    },
    {
      "cell_type": "code",
      "execution_count": null,
      "metadata": {
        "id": "SD5v-z3zPMdC"
      },
      "outputs": [],
      "source": [
        "def evaluate_accuracy(y_pred, y_true, tolerance=0.3):\n",
        "  #assert len(y_true) == len(y_pred)\n",
        "  deviations = np.abs(np.array(y_true) - np.array(y_pred))\n",
        "  return np.mean(deviations < tolerance)"
      ]
    },
    {
      "cell_type": "code",
      "execution_count": null,
      "metadata": {
        "id": "0RfEITkNQ2Il"
      },
      "outputs": [],
      "source": [
        "def evaluate(waveforms, y_true, transcripts, sr=16000):\n",
        "  #assert len(y_true) == len(waveforms)\n",
        "  aaes = []\n",
        "  accs = []\n",
        "\n",
        "  for i in range(len(waveforms)):\n",
        "    print(f\"Process audio {i}\")\n",
        "    _, _, trellis, _, _, word_segments = execute(waveforms[i], transcripts[i])\n",
        "    dict_words = pd.DataFrame([vars(f) for f in word_segments]).to_dict('records')\n",
        "\n",
        "    y_pred = get_start_times(dict_words)\n",
        "\n",
        "\n",
        "    if len(y_true[i]) != len(y_pred):\n",
        "      print('Skipping because of formating mismatch')\n",
        "      continue\n",
        "    \n",
        "\n",
        "    # Average Absoulute Error\n",
        "    aae = evaluate_average_absolute_error(y_pred, y_true[i])\n",
        "    aaes.append(aae)\n",
        "\n",
        "    # Accuracy\n",
        "    acc = evaluate_accuracy(y_pred, y_true[i])\n",
        "    accs.append(acc)\n",
        "\n",
        "    print(f\"AAE of audio {i}: {aae}\")\n",
        "    print(f\"Accuracy of audio {i}: {acc}\")\n",
        "\n",
        "  print(f\"AAE: {np.mean(aaes)}\")\n",
        "  print(f\"Accuracy: {np.mean(accs)}\")\n",
        "\n",
        "  return aaes, accs"
      ]
    },
    {
      "cell_type": "code",
      "execution_count": null,
      "metadata": {
        "id": "39LjipkgSzGj"
      },
      "outputs": [],
      "source": [
        "aaes, accs = evaluate(X, y, transcripts)"
      ]
    },
    {
      "cell_type": "code",
      "source": [
        "fig = px.scatter(x=aaes, y=np.arange(0, len(aaes)))\n",
        "fig.show()"
      ],
      "metadata": {
        "id": "KZ1KUdYMR2kG"
      },
      "execution_count": null,
      "outputs": []
    },
    {
      "cell_type": "code",
      "source": [
        "fig = px.scatter(x=accs, y=np.arange(0, len(accs)))\n",
        "fig.show()"
      ],
      "metadata": {
        "id": "figX90UYSYJI"
      },
      "execution_count": null,
      "outputs": []
    },
    {
      "cell_type": "code",
      "source": [],
      "metadata": {
        "id": "zwtEe5U4-DvL"
      },
      "execution_count": null,
      "outputs": []
    }
  ],
  "metadata": {
    "colab": {
      "provenance": []
    },
    "kernelspec": {
      "display_name": "Python 3",
      "name": "python3"
    },
    "language_info": {
      "name": "python"
    },
    "widgets": {
      "application/vnd.jupyter.widget-state+json": {
        "707b1609519c463f88dd96402d23796c": {
          "model_module": "@jupyter-widgets/controls",
          "model_name": "HBoxModel",
          "model_module_version": "1.5.0",
          "state": {
            "_dom_classes": [],
            "_model_module": "@jupyter-widgets/controls",
            "_model_module_version": "1.5.0",
            "_model_name": "HBoxModel",
            "_view_count": null,
            "_view_module": "@jupyter-widgets/controls",
            "_view_module_version": "1.5.0",
            "_view_name": "HBoxView",
            "box_style": "",
            "children": [
              "IPY_MODEL_895a6659cee647f2a49923fbc993d739",
              "IPY_MODEL_f634d33f7d614b4cb1b89043f8a70f57",
              "IPY_MODEL_3dfb1cc70efc4519ac5c6337053c33e1"
            ],
            "layout": "IPY_MODEL_388b527be3e64aca891ebadf9c16d9b9"
          }
        },
        "895a6659cee647f2a49923fbc993d739": {
          "model_module": "@jupyter-widgets/controls",
          "model_name": "HTMLModel",
          "model_module_version": "1.5.0",
          "state": {
            "_dom_classes": [],
            "_model_module": "@jupyter-widgets/controls",
            "_model_module_version": "1.5.0",
            "_model_name": "HTMLModel",
            "_view_count": null,
            "_view_module": "@jupyter-widgets/controls",
            "_view_module_version": "1.5.0",
            "_view_name": "HTMLView",
            "description": "",
            "description_tooltip": null,
            "layout": "IPY_MODEL_ef5df3f645cf474e811c3fcb8b205d86",
            "placeholder": "​",
            "style": "IPY_MODEL_29e692a2974e45c38f6438b2c765df9f",
            "value": "100%"
          }
        },
        "f634d33f7d614b4cb1b89043f8a70f57": {
          "model_module": "@jupyter-widgets/controls",
          "model_name": "FloatProgressModel",
          "model_module_version": "1.5.0",
          "state": {
            "_dom_classes": [],
            "_model_module": "@jupyter-widgets/controls",
            "_model_module_version": "1.5.0",
            "_model_name": "FloatProgressModel",
            "_view_count": null,
            "_view_module": "@jupyter-widgets/controls",
            "_view_module_version": "1.5.0",
            "_view_name": "ProgressView",
            "bar_style": "success",
            "description": "",
            "description_tooltip": null,
            "layout": "IPY_MODEL_12df00dfe9224a84983698ec63afe3f9",
            "max": 377664473,
            "min": 0,
            "orientation": "horizontal",
            "style": "IPY_MODEL_dddc7310dc4b4078aaf18d45287875a5",
            "value": 377664473
          }
        },
        "3dfb1cc70efc4519ac5c6337053c33e1": {
          "model_module": "@jupyter-widgets/controls",
          "model_name": "HTMLModel",
          "model_module_version": "1.5.0",
          "state": {
            "_dom_classes": [],
            "_model_module": "@jupyter-widgets/controls",
            "_model_module_version": "1.5.0",
            "_model_name": "HTMLModel",
            "_view_count": null,
            "_view_module": "@jupyter-widgets/controls",
            "_view_module_version": "1.5.0",
            "_view_name": "HTMLView",
            "description": "",
            "description_tooltip": null,
            "layout": "IPY_MODEL_3fad438ab39b4acdaa96e3fa7115590b",
            "placeholder": "​",
            "style": "IPY_MODEL_3f6a50875653410bb3d25f9286698f4f",
            "value": " 360M/360M [00:01&lt;00:00, 270MB/s]"
          }
        },
        "388b527be3e64aca891ebadf9c16d9b9": {
          "model_module": "@jupyter-widgets/base",
          "model_name": "LayoutModel",
          "model_module_version": "1.2.0",
          "state": {
            "_model_module": "@jupyter-widgets/base",
            "_model_module_version": "1.2.0",
            "_model_name": "LayoutModel",
            "_view_count": null,
            "_view_module": "@jupyter-widgets/base",
            "_view_module_version": "1.2.0",
            "_view_name": "LayoutView",
            "align_content": null,
            "align_items": null,
            "align_self": null,
            "border": null,
            "bottom": null,
            "display": null,
            "flex": null,
            "flex_flow": null,
            "grid_area": null,
            "grid_auto_columns": null,
            "grid_auto_flow": null,
            "grid_auto_rows": null,
            "grid_column": null,
            "grid_gap": null,
            "grid_row": null,
            "grid_template_areas": null,
            "grid_template_columns": null,
            "grid_template_rows": null,
            "height": null,
            "justify_content": null,
            "justify_items": null,
            "left": null,
            "margin": null,
            "max_height": null,
            "max_width": null,
            "min_height": null,
            "min_width": null,
            "object_fit": null,
            "object_position": null,
            "order": null,
            "overflow": null,
            "overflow_x": null,
            "overflow_y": null,
            "padding": null,
            "right": null,
            "top": null,
            "visibility": null,
            "width": null
          }
        },
        "ef5df3f645cf474e811c3fcb8b205d86": {
          "model_module": "@jupyter-widgets/base",
          "model_name": "LayoutModel",
          "model_module_version": "1.2.0",
          "state": {
            "_model_module": "@jupyter-widgets/base",
            "_model_module_version": "1.2.0",
            "_model_name": "LayoutModel",
            "_view_count": null,
            "_view_module": "@jupyter-widgets/base",
            "_view_module_version": "1.2.0",
            "_view_name": "LayoutView",
            "align_content": null,
            "align_items": null,
            "align_self": null,
            "border": null,
            "bottom": null,
            "display": null,
            "flex": null,
            "flex_flow": null,
            "grid_area": null,
            "grid_auto_columns": null,
            "grid_auto_flow": null,
            "grid_auto_rows": null,
            "grid_column": null,
            "grid_gap": null,
            "grid_row": null,
            "grid_template_areas": null,
            "grid_template_columns": null,
            "grid_template_rows": null,
            "height": null,
            "justify_content": null,
            "justify_items": null,
            "left": null,
            "margin": null,
            "max_height": null,
            "max_width": null,
            "min_height": null,
            "min_width": null,
            "object_fit": null,
            "object_position": null,
            "order": null,
            "overflow": null,
            "overflow_x": null,
            "overflow_y": null,
            "padding": null,
            "right": null,
            "top": null,
            "visibility": null,
            "width": null
          }
        },
        "29e692a2974e45c38f6438b2c765df9f": {
          "model_module": "@jupyter-widgets/controls",
          "model_name": "DescriptionStyleModel",
          "model_module_version": "1.5.0",
          "state": {
            "_model_module": "@jupyter-widgets/controls",
            "_model_module_version": "1.5.0",
            "_model_name": "DescriptionStyleModel",
            "_view_count": null,
            "_view_module": "@jupyter-widgets/base",
            "_view_module_version": "1.2.0",
            "_view_name": "StyleView",
            "description_width": ""
          }
        },
        "12df00dfe9224a84983698ec63afe3f9": {
          "model_module": "@jupyter-widgets/base",
          "model_name": "LayoutModel",
          "model_module_version": "1.2.0",
          "state": {
            "_model_module": "@jupyter-widgets/base",
            "_model_module_version": "1.2.0",
            "_model_name": "LayoutModel",
            "_view_count": null,
            "_view_module": "@jupyter-widgets/base",
            "_view_module_version": "1.2.0",
            "_view_name": "LayoutView",
            "align_content": null,
            "align_items": null,
            "align_self": null,
            "border": null,
            "bottom": null,
            "display": null,
            "flex": null,
            "flex_flow": null,
            "grid_area": null,
            "grid_auto_columns": null,
            "grid_auto_flow": null,
            "grid_auto_rows": null,
            "grid_column": null,
            "grid_gap": null,
            "grid_row": null,
            "grid_template_areas": null,
            "grid_template_columns": null,
            "grid_template_rows": null,
            "height": null,
            "justify_content": null,
            "justify_items": null,
            "left": null,
            "margin": null,
            "max_height": null,
            "max_width": null,
            "min_height": null,
            "min_width": null,
            "object_fit": null,
            "object_position": null,
            "order": null,
            "overflow": null,
            "overflow_x": null,
            "overflow_y": null,
            "padding": null,
            "right": null,
            "top": null,
            "visibility": null,
            "width": null
          }
        },
        "dddc7310dc4b4078aaf18d45287875a5": {
          "model_module": "@jupyter-widgets/controls",
          "model_name": "ProgressStyleModel",
          "model_module_version": "1.5.0",
          "state": {
            "_model_module": "@jupyter-widgets/controls",
            "_model_module_version": "1.5.0",
            "_model_name": "ProgressStyleModel",
            "_view_count": null,
            "_view_module": "@jupyter-widgets/base",
            "_view_module_version": "1.2.0",
            "_view_name": "StyleView",
            "bar_color": null,
            "description_width": ""
          }
        },
        "3fad438ab39b4acdaa96e3fa7115590b": {
          "model_module": "@jupyter-widgets/base",
          "model_name": "LayoutModel",
          "model_module_version": "1.2.0",
          "state": {
            "_model_module": "@jupyter-widgets/base",
            "_model_module_version": "1.2.0",
            "_model_name": "LayoutModel",
            "_view_count": null,
            "_view_module": "@jupyter-widgets/base",
            "_view_module_version": "1.2.0",
            "_view_name": "LayoutView",
            "align_content": null,
            "align_items": null,
            "align_self": null,
            "border": null,
            "bottom": null,
            "display": null,
            "flex": null,
            "flex_flow": null,
            "grid_area": null,
            "grid_auto_columns": null,
            "grid_auto_flow": null,
            "grid_auto_rows": null,
            "grid_column": null,
            "grid_gap": null,
            "grid_row": null,
            "grid_template_areas": null,
            "grid_template_columns": null,
            "grid_template_rows": null,
            "height": null,
            "justify_content": null,
            "justify_items": null,
            "left": null,
            "margin": null,
            "max_height": null,
            "max_width": null,
            "min_height": null,
            "min_width": null,
            "object_fit": null,
            "object_position": null,
            "order": null,
            "overflow": null,
            "overflow_x": null,
            "overflow_y": null,
            "padding": null,
            "right": null,
            "top": null,
            "visibility": null,
            "width": null
          }
        },
        "3f6a50875653410bb3d25f9286698f4f": {
          "model_module": "@jupyter-widgets/controls",
          "model_name": "DescriptionStyleModel",
          "model_module_version": "1.5.0",
          "state": {
            "_model_module": "@jupyter-widgets/controls",
            "_model_module_version": "1.5.0",
            "_model_name": "DescriptionStyleModel",
            "_view_count": null,
            "_view_module": "@jupyter-widgets/base",
            "_view_module_version": "1.2.0",
            "_view_name": "StyleView",
            "description_width": ""
          }
        }
      }
    }
  },
  "nbformat": 4,
  "nbformat_minor": 0
}